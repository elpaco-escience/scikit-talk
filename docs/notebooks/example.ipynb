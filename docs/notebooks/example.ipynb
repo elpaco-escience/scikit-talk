{
 "cells": [
  {
   "attachments": {},
   "cell_type": "markdown",
   "metadata": {},
   "source": [
    "## Getting started with `scikit-talk`\n",
    "\n",
    "`scikit-talk` can be used to explore and analyse conversation files.\n",
    "\n",
    "It contains three main levels of objects:\n",
    "- Corpora; described with the `Corpus` class\n",
    "- Conversations; described with the `Conversation` class\n",
    "- Utterances; described with the `Utterance` class\n",
    "\n",
    "To explore the power of `scikit-talk`, the best entry point is a parser. With the parsers, we can load data into a `scikit-talk` object.\n",
    "\n",
    "`scikit-talk` currently has the following parsers:\n",
    "\n",
    "- `ChaFile`.parse(), which parsers .cha files.\n",
    "\n",
    "Future plans include the creation of parsers for:\n",
    "- .eaf files\n",
    "- .TextGrid files\n",
    "- .xml files\n",
    "- .csv files\n",
    "- .json files\n",
    "\n",
    "Parsers return an object of the `Conversation` class.\n",
    "\n",
    "To get started with `scikit-talk`, import the module:"
   ]
  },
  {
   "cell_type": "code",
   "execution_count": 2,
   "metadata": {},
   "outputs": [],
   "source": [
    "import sktalk"
   ]
  },
  {
   "cell_type": "markdown",
   "metadata": {},
   "source": [
    "To see it in action, we will need to start with a transcription file.\n",
    "\n",
    "For example, you can download a file from the\n",
    "[Griffith Corpus of Spoken Australian English](https://ca.talkbank.org/data-orig/GCSAusE/). This publicly available corpus contains transcription files in `.cha` format.\n",
    "\n",
    "We use the `ChaFile.parse` module to create the `Conversation` object:"
   ]
  },
  {
   "cell_type": "code",
   "execution_count": 10,
   "metadata": {},
   "outputs": [
    {
     "data": {
      "text/plain": [
       "<sktalk.corpus.conversation.Conversation at 0x10b395240>"
      ]
     },
     "execution_count": 10,
     "metadata": {},
     "output_type": "execute_result"
    }
   ],
   "source": [
    "cha01 = sktalk.ChaFile('GCSAusE_01.cha').parse()\n",
    "\n",
    "cha01"
   ]
  },
  {
   "cell_type": "markdown",
   "metadata": {},
   "source": [
    "A parsed cha file is a conversation object. It has metadata, and a collection of utterances:"
   ]
  },
  {
   "cell_type": "code",
   "execution_count": 11,
   "metadata": {},
   "outputs": [
    {
     "data": {
      "text/plain": [
       "[Utterance(utterance='0', participant='S', time=(0, 1500), begin='00:00:00.000', end='00:00:01.500', metadata=None),\n",
       " Utterance(utterance=\"mm I'm glad I saw you⇗\", participant='S', time=(1500, 2775), begin='00:00:01.500', end='00:00:02.775', metadata=None),\n",
       " Utterance(utterance=\"I thought I'd lost you (0.3)\", participant='S', time=(2775, 3773), begin='00:00:02.775', end='00:00:03.773', metadata=None),\n",
       " Utterance(utterance=\"⌈no I've been here for a whi:le⌉,\", participant='H', time=(4052, 5515), begin='00:00:04.052', end='00:00:05.515', metadata=None),\n",
       " Utterance(utterance='⌊xxx⌋ (0.3)', participant='S', time=(4052, 5817), begin='00:00:04.052', end='00:00:05.817', metadata=None),\n",
       " Utterance(utterance=\"⌊hm:: (.) if ʔI couldn't boʔrrow, (1.3) the second (0.2) book of readings fo:r\", participant='S', time=(6140, 9487), begin='00:00:06.140', end='00:00:09.487', metadata=None),\n",
       " Utterance(utterance='commu:nicating acro-', participant='H', time=(12888, 14050), begin='00:00:12.888', end='00:00:14.050', metadata=None),\n",
       " Utterance(utterance='no: for family gender and sexuality', participant='H', time=(14050, 17014), begin='00:00:14.050', end='00:00:17.014', metadata=None),\n",
       " Utterance(utterance=\"+≋ ah: that's the second on is itʔ\", participant='S', time=(17014, 18611), begin='00:00:17.014', end='00:00:18.611', metadata=None),\n",
       " Utterance(utterance=\"+≋ I think it's s⌈ame family gender⌉ has a second book\", participant='H', time=(18611, 21090), begin='00:00:18.611', end='00:00:21.090', metadata=None)]"
      ]
     },
     "execution_count": 11,
     "metadata": {},
     "output_type": "execute_result"
    }
   ],
   "source": [
    "cha01.utterances[:10]"
   ]
  },
  {
   "cell_type": "code",
   "execution_count": 12,
   "metadata": {},
   "outputs": [
    {
     "data": {
      "text/plain": [
       "{'source': 'GCSAusE_01.cha',\n",
       " 'UTF8': '',\n",
       " 'PID': '11312/t-00017232-1',\n",
       " 'Languages': ['eng'],\n",
       " 'Participants': {'S': {'name': 'Sarah',\n",
       "   'language': 'eng',\n",
       "   'corpus': 'GCSAusE',\n",
       "   'age': '',\n",
       "   'sex': '',\n",
       "   'group': '',\n",
       "   'ses': '',\n",
       "   'role': 'Adult',\n",
       "   'education': '',\n",
       "   'custom': ''},\n",
       "  'H': {'name': 'Hannah',\n",
       "   'language': 'eng',\n",
       "   'corpus': 'GCSAusE',\n",
       "   'age': '',\n",
       "   'sex': '',\n",
       "   'group': '',\n",
       "   'ses': '',\n",
       "   'role': 'Adult',\n",
       "   'education': '',\n",
       "   'custom': ''}},\n",
       " 'Options': 'CA',\n",
       " 'Media': '01, audio'}"
      ]
     },
     "execution_count": 12,
     "metadata": {},
     "output_type": "execute_result"
    }
   ],
   "source": [
    "cha01.metadata"
   ]
  },
  {
   "cell_type": "markdown",
   "metadata": {},
   "source": [
    "We can write the conversation to file as a json file:"
   ]
  },
  {
   "cell_type": "code",
   "execution_count": 13,
   "metadata": {},
   "outputs": [],
   "source": [
    "cha01.write_json(name = \"CGSAusE_01\", directory = \".\")"
   ]
  },
  {
   "cell_type": "markdown",
   "metadata": {},
   "source": [
    "## The `Corpus` object\n",
    "\n",
    "A Corpus is a way to collect conversations.\n",
    "\n",
    "A Corpus can be initialized from a single conversation, or a list of conversations.\n",
    "It can also be initialized as an empty object, with metadata."
   ]
  },
  {
   "cell_type": "code",
   "execution_count": 14,
   "metadata": {},
   "outputs": [
    {
     "data": {
      "text/plain": [
       "{'name': 'Griffith Corpus of Spoken Australian English',\n",
       " 'url': 'https://ca.talkbank.org/data-orig/GCSAusE/'}"
      ]
     },
     "execution_count": 14,
     "metadata": {},
     "output_type": "execute_result"
    }
   ],
   "source": [
    "GCSAusE = sktalk.Corpus(name = \"Griffith Corpus of Spoken Australian English\",\n",
    "                        url = \"https://ca.talkbank.org/data-orig/GCSAusE/\")\n",
    "\n",
    "GCSAusE.metadata"
   ]
  },
  {
   "cell_type": "markdown",
   "metadata": {},
   "source": [
    "We can add conversations to a `Corpus`:"
   ]
  },
  {
   "cell_type": "code",
   "execution_count": 15,
   "metadata": {},
   "outputs": [
    {
     "data": {
      "text/plain": [
       "[<sktalk.corpus.conversation.Conversation at 0x10b395240>]"
      ]
     },
     "execution_count": 15,
     "metadata": {},
     "output_type": "execute_result"
    }
   ],
   "source": [
    "GCSAusE.append(cha01)\n",
    "\n",
    "GCSAusE.conversations"
   ]
  }
 ],
 "metadata": {
  "kernelspec": {
   "display_name": "Python 3",
   "language": "python",
   "name": "python3"
  },
  "language_info": {
   "codemirror_mode": {
    "name": "ipython",
    "version": 3
   },
   "file_extension": ".py",
   "mimetype": "text/x-python",
   "name": "python",
   "nbconvert_exporter": "python",
   "pygments_lexer": "ipython3",
   "version": "3.10.11"
  },
  "orig_nbformat": 4,
  "vscode": {
   "interpreter": {
    "hash": "aee8b7b246df8f9039afb4144a1f6fd8d2ca17a180786b69acc140d282b71a49"
   }
  }
 },
 "nbformat": 4,
 "nbformat_minor": 2
}

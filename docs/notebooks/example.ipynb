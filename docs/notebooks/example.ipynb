{
 "cells": [
  {
   "attachments": {},
   "cell_type": "markdown",
   "metadata": {},
   "source": [
    "## Getting started with scikit-talk\n",
    "\n",
    "Scikit-talk can be used to explore and analyse conversation files.\n",
    "\n",
    "It contains three main levels of objects:\n",
    "- Corpora; described with the `Corpus` class\n",
    "- Conversations; described with the `Conversation` class\n",
    "- Utterances; described with the `Utterance` class\n",
    "\n",
    "To explore the power of scikit-talk, the best entry point is a parser. With the parsers, we can load data into a scikit-talk object.\n",
    "\n",
    "Scikit-talk currently has the following parsers:\n",
    "\n",
    "- `ChaFile`.parse(), which parsers .cha files.\n",
    "\n",
    "Future plans include the creation of parsers for:\n",
    "- .eaf files\n",
    "- .TextGrid files\n",
    "- .xml files\n",
    "- .csv files\n",
    "\n",
    "Parsers return an object of the `Conversation` class. Let's see it in action:"
   ]
  },
  {
   "cell_type": "code",
   "execution_count": 10,
   "metadata": {},
   "outputs": [],
   "source": [
    "import sktalk"
   ]
  },
  {
   "cell_type": "code",
   "execution_count": 11,
   "metadata": {},
   "outputs": [
    {
     "data": {
      "text/plain": [
       "<sktalk.corpus.conversation.Conversation at 0x1094b7820>"
      ]
     },
     "execution_count": 11,
     "metadata": {},
     "output_type": "execute_result"
    }
   ],
   "source": [
    "parsed_cha = sktalk.ChaFile('../data/02.cha').parse()\n",
    "\n",
    "parsed_cha"
   ]
  },
  {
   "cell_type": "markdown",
   "metadata": {},
   "source": [
    "A parsed cha file is a conversation object. It has metadata, and a collection of utterances:"
   ]
  },
  {
   "cell_type": "code",
   "execution_count": 8,
   "metadata": {},
   "outputs": [
    {
     "data": {
      "text/plain": [
       "[Utterance(utterance='&=noise after all the planning and thinking about today (0.8) I realised that I forgot to bring your Conan book in aga:in→ (.)', participant='A', time=(0, 2856), begin='00:00:00.000', end='00:00:02.856', metadata=None),\n",
       " Utterance(utterance='°you son of a bitch°', participant='T', time=(6817, 7860), begin='00:00:06.817', end='00:00:07.860', metadata=None),\n",
       " Utterance(utterance='∙hhh hh (0.8)', participant='A', time=(7860, 9125), begin='00:00:07.860', end='00:00:09.125', metadata=None),\n",
       " Utterance(utterance='you ∆SON OF A BITCH∆ (1.0)', participant='T', time=(9493, 11118), begin='00:00:09.493', end='00:00:11.118', metadata=None),\n",
       " Utterance(utterance='that is pretty poor form', participant='A', time=(12116, 13463), begin='00:00:12.116', end='00:00:13.463', metadata=None),\n",
       " Utterance(utterance=\"°that's alright° (0.4)\", participant='T', time=(13463, 14148), begin='00:00:13.463', end='00:00:14.148', metadata=None),\n",
       " Utterance(utterance=\"he:y look→ look at the Myspace badge that Spencer got- (.) I've got one as well but it's at work ⌈ʔhah (0.5) who the⌉ fuck would ever ⌈wear that⇗\", participant='T', time=(14511, 16961), begin='00:00:14.511', end='00:00:16.961', metadata=None),\n",
       " Utterance(utterance=\"⌊hh⌋ (.) ⌊hhh heh ha ∙hh ah good that's what I was thinkin(g)→ (0.8)\", participant='A', time=(19144, 24218), begin='00:00:19.144', end='00:00:24.218', metadata=None),\n",
       " Utterance(utterance='I was about to ask I hope you never actually wear that', participant='A', time=(25013, 27002), begin='00:00:25.013', end='00:00:27.002', metadata=None),\n",
       " Utterance(utterance=\"I know (.) it's insane (0.2) ⌈like that'll show up\", participant='T', time=(27002, 27919), begin='00:00:27.002', end='00:00:27.919', metadata=None)]"
      ]
     },
     "execution_count": 8,
     "metadata": {},
     "output_type": "execute_result"
    }
   ],
   "source": [
    "parsed_cha.utterances[:10]"
   ]
  },
  {
   "cell_type": "code",
   "execution_count": 9,
   "metadata": {},
   "outputs": [
    {
     "data": {
      "text/plain": [
       "{'source': '../data/02.cha',\n",
       " 'UTF8': '',\n",
       " 'PID': '11312/t-00017233-1',\n",
       " 'Languages': ['eng'],\n",
       " 'Participants': {'A': {'name': 'Adult',\n",
       "   'language': 'eng',\n",
       "   'corpus': 'GCSAusE',\n",
       "   'age': '',\n",
       "   'sex': '',\n",
       "   'group': '',\n",
       "   'ses': '',\n",
       "   'role': 'Adult',\n",
       "   'education': '',\n",
       "   'custom': ''},\n",
       "  'T': {'name': 'Adult',\n",
       "   'language': 'eng',\n",
       "   'corpus': 'GCSAusE',\n",
       "   'age': '',\n",
       "   'sex': '',\n",
       "   'group': '',\n",
       "   'ses': '',\n",
       "   'role': 'Adult',\n",
       "   'education': '',\n",
       "   'custom': ''}},\n",
       " 'Options': 'CA',\n",
       " 'Media': '02, audio'}"
      ]
     },
     "execution_count": 9,
     "metadata": {},
     "output_type": "execute_result"
    }
   ],
   "source": [
    "parsed_cha.metadata"
   ]
  },
  {
   "cell_type": "markdown",
   "metadata": {},
   "source": [
    "We can write the conversation to file as a json file:"
   ]
  },
  {
   "cell_type": "code",
   "execution_count": null,
   "metadata": {},
   "outputs": [],
   "source": [
    "parsed_cha.write_json(name = \"testjson\", directory = \".\")"
   ]
  },
  {
   "cell_type": "markdown",
   "metadata": {},
   "source": [
    "## The `Corpus` object\n",
    "\n",
    "A Corpus is a way to collect conversations.\n",
    "\n",
    "A Corpus can be initialized from a single conversation, or a list of conversations.\n",
    "It can also be initialized as an empty object, with metadata."
   ]
  },
  {
   "cell_type": "code",
   "execution_count": 3,
   "metadata": {},
   "outputs": [
    {
     "name": "stdout",
     "output_type": "stream",
     "text": [
      "{'author': 'demo'}\n",
      "<sktalk.corpus.corpus.Corpus object at 0x10f8579d0>\n"
     ]
    }
   ],
   "source": [
    "democorpus = sktalk.Corpus(author = \"demo\")\n",
    "democorpus2 = sktalk.Corpus(conversations=[parsed_cha])\n",
    "\n",
    "\n",
    "print(democorpus.metadata)\n",
    "print(democorpus2)"
   ]
  }
 ],
 "metadata": {
  "kernelspec": {
   "display_name": "Python 3",
   "language": "python",
   "name": "python3"
  },
  "language_info": {
   "codemirror_mode": {
    "name": "ipython",
    "version": 3
   },
   "file_extension": ".py",
   "mimetype": "text/x-python",
   "name": "python",
   "nbconvert_exporter": "python",
   "pygments_lexer": "ipython3",
   "version": "3.10.11"
  },
  "orig_nbformat": 4,
  "vscode": {
   "interpreter": {
    "hash": "aee8b7b246df8f9039afb4144a1f6fd8d2ca17a180786b69acc140d282b71a49"
   }
  }
 },
 "nbformat": 4,
 "nbformat_minor": 2
}

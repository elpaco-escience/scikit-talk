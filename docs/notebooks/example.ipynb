{
 "cells": [
  {
   "attachments": {},
   "cell_type": "markdown",
   "metadata": {},
   "source": [
    "## Getting started with `scikit-talk`\n",
    "\n",
    "`scikit-talk` can be used to explore and analyse conversation files.\n",
    "\n",
    "It contains three main levels of objects:\n",
    "\n",
    "- Corpora; described with the `Corpus` class\n",
    "- Conversations; described with the `Conversation` class\n",
    "- Utterances; described with the `Utterance` class\n",
    "\n",
    "To explore the power of `scikit-talk`, the best entry point is a parser. With the parsers, we can load data into a `scikit-talk` object.\n",
    "\n",
    "`scikit-talk` currently has the following parsers:\n",
    "\n",
    "- `Conversation.from_cha()`, which parses .cha files.\n",
    "- `Conversation.from_eaf()`, which parses ELAN (.eaf) files.\n",
    "\n",
    "Future plans include the creation of parsers for:\n",
    "\n",
    "- .TextGrid files\n",
    "- .xml files\n",
    "\n",
    "Parsers return an object of the `Conversation` class.\n",
    "\n",
    "To get started with `scikit-talk`, import the module:"
   ]
  },
  {
   "cell_type": "code",
   "execution_count": 2,
   "metadata": {},
   "outputs": [],
   "source": [
    "import sktalk"
   ]
  },
  {
   "cell_type": "markdown",
   "metadata": {},
   "source": [
    "To see it in action, we will need to start with a transcription file.\n",
    "\n",
    "For example, you can download a file from the\n",
    "[Griffith Corpus of Spoken Australian English](https://ca.talkbank.org/data-orig/GCSAusE/). This publicly available corpus contains transcription files in `.cha` format.\n",
    "\n",
    "Another publicly available corpus is the [IFADV](https://www.fon.hum.uva.nl/IFA-SpokenLanguageCorpora/IFADVcorpus/Annotations/EAF/) corpus, which contains annotations as `.eaf` files.\n",
    "\n",
    "We will go over both options below."
   ]
  },
  {
   "cell_type": "markdown",
   "metadata": {},
   "source": [
    "### Parsing a `.cha` file\n",
    "\n",
    "From the Griffith corpus, we have downloaded [this file](https://ca.talkbank.org/data-orig/GCSAusE/01.cha).\n",
    "\n",
    "We will parse the file with the `Conversation.from_cha()` method, resulting in a `Conversation` object.:"
   ]
  },
  {
   "cell_type": "code",
   "execution_count": 3,
   "metadata": {},
   "outputs": [
    {
     "data": {
      "text/plain": [
       "<sktalk.corpus.conversation.Conversation at 0x10fce4be0>"
      ]
     },
     "execution_count": 3,
     "metadata": {},
     "output_type": "execute_result"
    }
   ],
   "source": [
    "griffith01 = sktalk.Conversation.from_cha('01.cha')\n",
    "\n",
    "griffith01"
   ]
  },
  {
   "cell_type": "markdown",
   "metadata": {},
   "source": [
    "A parsed cha file is a conversation object. It has metadata, and a collection of utterances:"
   ]
  },
  {
   "cell_type": "code",
   "execution_count": 4,
   "metadata": {},
   "outputs": [
    {
     "data": {
      "text/plain": [
       "[Utterance(utterance='0', participant='S', time=[0, 1500], begin='00:00:00.000', end='00:00:01.500', metadata=None, utterance_clean='0', utterance_list=['0'], n_words=1, n_characters=1, time_to_next=None, dyadic=None, FTO=None),\n",
       " Utterance(utterance=\"mm I'm glad I saw you⇗\", participant='S', time=[1500, 2775], begin='00:00:01.500', end='00:00:02.775', metadata=None, utterance_clean='mm Im glad I saw you', utterance_list=['mm', 'Im', 'glad', 'I', 'saw', 'you'], n_words=6, n_characters=15, time_to_next=None, dyadic=None, FTO=None),\n",
       " Utterance(utterance=\"I thought I'd lost you\", participant='S', time=[2775, 3773], begin='00:00:02.775', end='00:00:03.773', metadata=None, utterance_clean='I thought Id lost you', utterance_list=['I', 'thought', 'Id', 'lost', 'you'], n_words=5, n_characters=17, time_to_next=None, dyadic=None, FTO=None),\n",
       " Utterance(utterance='le⌉,', participant='H', time=[4052, 5515], begin='00:00:04.052', end='00:00:05.515', metadata=None, utterance_clean='le', utterance_list=['le'], n_words=1, n_characters=2, time_to_next=None, dyadic=None, FTO=None),\n",
       " Utterance(utterance='⌊xxx⌋', participant='S', time=[4052, 5817], begin='00:00:04.052', end='00:00:05.817', metadata=None, utterance_clean='xxx', utterance_list=['xxx'], n_words=1, n_characters=3, time_to_next=None, dyadic=None, FTO=None),\n",
       " Utterance(utterance=\": (.) if ʔI couldn't boʔrrow, (1.3)\", participant='S', time=[6140, 9487], begin='00:00:06.140', end='00:00:09.487', metadata=None, utterance_clean='  if ʔI couldnt boʔrrow 13', utterance_list=['if', 'ʔI', 'couldnt', 'boʔrrow', '13'], n_words=5, n_characters=20, time_to_next=None, dyadic=None, FTO=None),\n",
       " Utterance(utterance='r', participant='S', time=[9487, 12888], begin='00:00:09.487', end='00:00:12.888', metadata=None, utterance_clean='r', utterance_list=['r'], n_words=1, n_characters=1, time_to_next=None, dyadic=None, FTO=None),\n",
       " Utterance(utterance='nicating acro-', participant='H', time=[12888, 14050], begin='00:00:12.888', end='00:00:14.050', metadata=None, utterance_clean='nicating acro', utterance_list=['nicating', 'acro'], n_words=2, n_characters=12, time_to_next=None, dyadic=None, FTO=None),\n",
       " Utterance(utterance='for family gender and sexuality', participant='H', time=[14050, 17014], begin='00:00:14.050', end='00:00:17.014', metadata=None, utterance_clean='for family gender and sexuality', utterance_list=['for', 'family', 'gender', 'and', 'sexuality'], n_words=5, n_characters=27, time_to_next=None, dyadic=None, FTO=None),\n",
       " Utterance(utterance=\"that's the second on is itʔ\", participant='S', time=[17014, 18611], begin='00:00:17.014', end='00:00:18.611', metadata=None, utterance_clean='thats the second on is itʔ', utterance_list=['thats', 'the', 'second', 'on', 'is', 'itʔ'], n_words=6, n_characters=21, time_to_next=None, dyadic=None, FTO=None)]"
      ]
     },
     "execution_count": 4,
     "metadata": {},
     "output_type": "execute_result"
    }
   ],
   "source": [
    "griffith01.utterances[:10]"
   ]
  },
  {
   "cell_type": "code",
   "execution_count": 5,
   "metadata": {},
   "outputs": [
    {
     "data": {
      "text/plain": [
       "{'source': '01.cha',\n",
       " 'UTF8': '',\n",
       " 'PID': '11312/t-00017232-1',\n",
       " 'Languages': ['eng'],\n",
       " 'Participants': {'S': {'name': 'Sarah',\n",
       "   'language': 'eng',\n",
       "   'corpus': 'GCSAusE',\n",
       "   'age': '',\n",
       "   'sex': '',\n",
       "   'group': '',\n",
       "   'ses': '',\n",
       "   'role': 'Adult',\n",
       "   'education': '',\n",
       "   'custom': ''},\n",
       "  'H': {'name': 'Hannah',\n",
       "   'language': 'eng',\n",
       "   'corpus': 'GCSAusE',\n",
       "   'age': '',\n",
       "   'sex': '',\n",
       "   'group': '',\n",
       "   'ses': '',\n",
       "   'role': 'Adult',\n",
       "   'education': '',\n",
       "   'custom': ''}},\n",
       " 'Options': 'CA',\n",
       " 'Media': '01, audio'}"
      ]
     },
     "execution_count": 5,
     "metadata": {},
     "output_type": "execute_result"
    }
   ],
   "source": [
    "griffith01.metadata"
   ]
  },
  {
   "cell_type": "markdown",
   "metadata": {},
   "source": [
    "We can explore the conversation using the `summary` method:"
   ]
  },
  {
   "cell_type": "code",
   "execution_count": 6,
   "metadata": {},
   "outputs": [
    {
     "name": "stdout",
     "output_type": "stream",
     "text": [
      "(0 - 1500) S: '0'\n",
      "(1500 - 2775) S: 'mm I'm glad I saw you⇗'\n",
      "(2775 - 3773) S: 'I thought I'd lost you'\n",
      "(4052 - 5515) H: 'le⌉,'\n",
      "(4052 - 5817) S: '⌊xxx⌋'\n",
      "(6140 - 9487) S: ': (.) if ʔI couldn't boʔrrow, (1.3)'\n",
      "(9487 - 12888) S: 'r'\n",
      "(12888 - 14050) H: 'nicating acro-'\n",
      "(14050 - 17014) H: 'for family gender and sexuality'\n",
      "(17014 - 18611) S: 'that's the second on is itʔ'\n",
      "(18611 - 21090) H: '+≋ I think it's s⌈ame family gender⌉ has a second book'\n",
      "(19011 - 20132) S: '⌊whatever xxx⌋'\n",
      "(21090 - 23087) H: 'not communicating across cultures'\n",
      "(24457 - 25746) H: '⌈family gen⌈der has two'\n",
      "(24457 - 25931) S: '⌊can-   ⌊can I borrow it⇗'\n",
      "(25931 - 26971) H: 'ʔh ⌈sure'\n",
      "(26576 - 27215) S: '⌊thank you'\n",
      "(27554 - 28309) H: 'I've got all my-'\n",
      "(28700 - 30774) H: 'in fact all my reading books are all together,'\n",
      "(31400 - 31876) H: 'so that'\n",
      "(32276 - 33530) H: 'se them⇗'\n",
      "(33800 - 34706) H: 'I do ∆sort of∆ think-'\n",
      "(34706 - 38006) H: 'cause I don't think that one I'll be using (0.2) particularly'\n",
      "(38100 - 39261) H: 'in⇗'\n",
      "(40100 - 40518) S: 'ʔwhich ʔone'\n",
      "(40918 - 41940) H: 'the family gender'\n",
      "(42258 - 43175) H: 'I don't think it'd be-'\n",
      "(43714 - 45664) H: 'though:: (.) you know something in:-'\n",
      "(45800 - 47800) H: 'in the social context of Asian business'\n",
      "(47800 - 49460) H: '∆°cause°∆ I missed half of that lecture⇗'\n"
     ]
    }
   ],
   "source": [
    "griffith01.summary(n=30)"
   ]
  },
  {
   "cell_type": "markdown",
   "metadata": {},
   "source": [
    "This method also allows us to look in detail at e.g. a specific participant:"
   ]
  },
  {
   "cell_type": "code",
   "execution_count": 7,
   "metadata": {},
   "outputs": [
    {
     "name": "stdout",
     "output_type": "stream",
     "text": [
      "(0 - 1500) S: '0'\n",
      "(1500 - 2775) S: 'mm I'm glad I saw you⇗'\n",
      "(2775 - 3773) S: 'I thought I'd lost you'\n",
      "(4052 - 5817) S: '⌊xxx⌋'\n",
      "(6140 - 9487) S: ': (.) if ʔI couldn't boʔrrow, (1.3)'\n"
     ]
    }
   ],
   "source": [
    "griffith01.summary(participant = 'S', n = 5)"
   ]
  },
  {
   "cell_type": "markdown",
   "metadata": {},
   "source": [
    "### Parsing an `.eaf` file\n",
    "\n",
    "From the IFADV corpus, we have downloaded [this file](https://www.fon.hum.uva.nl/IFA-SpokenLanguageCorpora/IFADVcorpus/Annotations/EAF/DVA3E.EAF).\n",
    "\n",
    "We will use the `Conversation.from_eaf()` method to parse the file, resulting in a `Conversation` object."
   ]
  },
  {
   "cell_type": "code",
   "execution_count": 8,
   "metadata": {},
   "outputs": [
    {
     "data": {
      "text/plain": [
       "<sktalk.corpus.conversation.Conversation at 0x11780f550>"
      ]
     },
     "execution_count": 8,
     "metadata": {},
     "output_type": "execute_result"
    }
   ],
   "source": [
    "ifadv03 = sktalk.Conversation.from_eaf(\"DVA3E.EAF\")\n",
    "\n",
    "ifadv03"
   ]
  },
  {
   "cell_type": "markdown",
   "metadata": {},
   "source": [
    "ELAN formats are a bit more complex than `.cha` files, as they may contain additional annotations (e.g. for gestures). These annotations are stored in the ELAN format as different tiers, which end up in the `Conversation` object as utterances from different participants.\n",
    "\n",
    "We can look at the participants in the conversation:"
   ]
  },
  {
   "cell_type": "code",
   "execution_count": 9,
   "metadata": {},
   "outputs": [
    {
     "data": {
      "text/plain": [
       "{'kijkrichting spreker1 [v] (TIE1)',\n",
       " 'kijkrichting spreker2 [v] (TIE3)',\n",
       " 'spreker1 [v] (TIE0)',\n",
       " 'spreker2 [v] (TIE2)'}"
      ]
     },
     "execution_count": 9,
     "metadata": {},
     "output_type": "execute_result"
    }
   ],
   "source": [
    "ifadv03.participants"
   ]
  },
  {
   "cell_type": "markdown",
   "metadata": {},
   "source": [
    "In this case, we are only interested in `'spreker1 [v] (TIE0)'` and `'spreker2 [v] (TIE1)'`. We want to remove the other \"participants\" from the conversation."
   ]
  },
  {
   "cell_type": "code",
   "execution_count": 10,
   "metadata": {},
   "outputs": [
    {
     "data": {
      "text/plain": [
       "{'spreker1 [v] (TIE0)', 'spreker2 [v] (TIE2)'}"
      ]
     },
     "execution_count": 10,
     "metadata": {},
     "output_type": "execute_result"
    }
   ],
   "source": [
    "ifadv03.remove(participant = 'kijkrichting spreker1 [v] (TIE1)')\n",
    "ifadv03.remove(participant = 'kijkrichting spreker2 [v] (TIE3)')\n",
    "\n",
    "ifadv03.participants"
   ]
  },
  {
   "cell_type": "markdown",
   "metadata": {},
   "source": [
    "Another way to ensure only the right tiers are included, is to specify the tiers we want to parse when we call the `from_eaf()` method:"
   ]
  },
  {
   "cell_type": "code",
   "execution_count": 11,
   "metadata": {},
   "outputs": [
    {
     "data": {
      "text/plain": [
       "{'spreker1 [v] (TIE0)', 'spreker2 [v] (TIE2)'}"
      ]
     },
     "execution_count": 11,
     "metadata": {},
     "output_type": "execute_result"
    }
   ],
   "source": [
    "ifadv03 = sktalk.Conversation.from_eaf(\"DVA3E.EAF\", tiers = ['spreker1 [v] (TIE0)', 'spreker2 [v] (TIE2)'])\n",
    "\n",
    "ifadv03.participants"
   ]
  },
  {
   "cell_type": "markdown",
   "metadata": {},
   "source": [
    "## Analyzing turn-taking dynamics\n",
    "\n",
    "When creating a `Conversation` object, a number of calculations and transformations are performed on the `Utterance` objects within.\n",
    "For example, the number of words in each utterance is calculated, and stored under `Utterance.n_words`.\n",
    "You can see this for a specific utterance as follows:"
   ]
  },
  {
   "cell_type": "code",
   "execution_count": 12,
   "metadata": {},
   "outputs": [
    {
     "name": "stdout",
     "output_type": "stream",
     "text": [
      "⌈family gen⌈der has two\n",
      "family gender has two\n",
      "4\n"
     ]
    }
   ],
   "source": [
    "print(griffith01.utterances[13].utterance)\n",
    "print(griffith01.utterances[13].utterance_clean)\n",
    "print(griffith01.utterances[13].n_words)"
   ]
  },
  {
   "cell_type": "markdown",
   "metadata": {},
   "source": [
    "More sophisticated calculations can be performed, but do not happen automatically.\n",
    "An example of this is the calculation of the Floor Transfer Offset (FTO) per utterance.\n",
    "FTO is defined as the difference between the time that a turn starts, and the end of the most relevant prior turn by the other participant.\n",
    "If there is overlap between these turns, the FTO is negative.\n",
    "If there is a pause between these utterances, the FTO is positive.\n",
    "\n",
    "We can calculate the FTOs of the utterances in a conversation:"
   ]
  },
  {
   "cell_type": "code",
   "execution_count": 13,
   "metadata": {},
   "outputs": [
    {
     "name": "stdout",
     "output_type": "stream",
     "text": [
      "[0, 1500] S - FTO: None\n",
      "[1500, 2775] S - FTO: None\n",
      "[2775, 3773] S - FTO: None\n",
      "[4052, 5515] H - FTO: 279\n",
      "[4052, 5817] S - FTO: None\n",
      "[6140, 9487] S - FTO: None\n",
      "[9487, 12888] S - FTO: None\n",
      "[12888, 14050] H - FTO: 0\n",
      "[14050, 17014] H - FTO: None\n",
      "[17014, 18611] S - FTO: 0\n"
     ]
    }
   ],
   "source": [
    "griffith01.calculate_FTO()\n",
    "\n",
    "for utterance in griffith01.utterances[:10]:\n",
    "    print(f'{utterance.time} {utterance.participant} - FTO: {utterance.FTO}')"
   ]
  },
  {
   "cell_type": "markdown",
   "metadata": {},
   "source": [
    "To determine which prior turn is the relevant turn for FTO calculation, the following criteria are used to find a relevant utterance prior to an utterance U:\n",
    "\n",
    "- the relevant utterance must be by another participant\n",
    "- the relevant utterance must be the most recent utterance by that participant\n",
    "- the relevant utterance must have started more than a specified number of ms before the start of U. This time defaults to 200 ms, but can be changed with the `planning_buffer` argument.\n",
    "- the relevant utterance must be partly or entirely within the context window. The context window is defined as 10s (or 10000ms) prior to the utterance U. The size of this window can be changed with the `window` argument.\n",
    "- within the context window, there must be a maximum of 2 speakers, which can be changed to 3 with the `n_participants` argument.\n",
    "\n",
    "When calculating the FTO, the settings for the arguments `planning_buffer`, `window`, and `n_participants` can be changed. Their values are stored in the metadata of the conversation object when the FTOs are calculated.\n",
    "\n",
    "They can be retrieved as follows:"
   ]
  },
  {
   "cell_type": "code",
   "execution_count": 14,
   "metadata": {},
   "outputs": [
    {
     "data": {
      "text/plain": [
       "{'window': 10000, 'planning_buffer': 200, 'n_participants': 2}"
      ]
     },
     "execution_count": 14,
     "metadata": {},
     "output_type": "execute_result"
    }
   ],
   "source": [
    "griffith01.metadata[\"Calculations\"][\"FTO\"]"
   ]
  },
  {
   "cell_type": "markdown",
   "metadata": {},
   "source": [
    "## The `Corpus` object\n",
    "\n",
    "A Corpus is a way to collect conversations.\n",
    "\n",
    "A Corpus can be initialized from a single conversation, or a list of conversations.\n",
    "It can also be initialized as an empty object, with metadata."
   ]
  },
  {
   "cell_type": "code",
   "execution_count": 15,
   "metadata": {},
   "outputs": [
    {
     "data": {
      "text/plain": [
       "{'name': 'Griffith Corpus of Spoken Australian English',\n",
       " 'url': 'https://ca.talkbank.org/data-orig/GCSAusE/'}"
      ]
     },
     "execution_count": 15,
     "metadata": {},
     "output_type": "execute_result"
    }
   ],
   "source": [
    "GCSAusE = sktalk.Corpus(name = \"Griffith Corpus of Spoken Australian English\",\n",
    "                        url = \"https://ca.talkbank.org/data-orig/GCSAusE/\")\n",
    "\n",
    "GCSAusE.metadata"
   ]
  },
  {
   "cell_type": "markdown",
   "metadata": {},
   "source": [
    "We can add conversations to a `Corpus`:"
   ]
  },
  {
   "cell_type": "code",
   "execution_count": 16,
   "metadata": {},
   "outputs": [
    {
     "data": {
      "text/plain": [
       "[<sktalk.corpus.conversation.Conversation at 0x10fce4be0>]"
      ]
     },
     "execution_count": 16,
     "metadata": {},
     "output_type": "execute_result"
    }
   ],
   "source": [
    "GCSAusE.append(griffith01)\n",
    "\n",
    "GCSAusE.conversations"
   ]
  },
  {
   "cell_type": "markdown",
   "metadata": {},
   "source": [
    "## Storing and retrieving `Conversation` and `Corpus` objects\n",
    "\n",
    "\n",
    "Both `Conversation` and `Corpus` objects can be written to file in .csv and .json formats.\n",
    "\n",
    "### json\n",
    ".json files are comprehensive, and contain the entire object in one file:"
   ]
  },
  {
   "cell_type": "code",
   "execution_count": 17,
   "metadata": {},
   "outputs": [
    {
     "name": "stdout",
     "output_type": "stream",
     "text": [
      "Object saved to CGSAusE.json\n",
      "Object saved to GCSAusE_01.json\n"
     ]
    }
   ],
   "source": [
    "# Corpus\n",
    "GCSAusE.write_json(path = \"CGSAusE.json\")\n",
    "\n",
    "# Conversation\n",
    "griffith01.write_json(path = \"GCSAusE_01.json\")"
   ]
  },
  {
   "cell_type": "markdown",
   "metadata": {},
   "source": [
    "The objects can be recreated from the .json files:"
   ]
  },
  {
   "cell_type": "code",
   "execution_count": 18,
   "metadata": {},
   "outputs": [],
   "source": [
    "# Corpus\n",
    "GCSAusE_2 = sktalk.Corpus.from_json(\"CGSAusE.json\")\n",
    "\n",
    "# Conversation\n",
    "griffith01_2 = sktalk.Conversation.from_json(path = \"CGSAusE_01.json\")"
   ]
  },
  {
   "cell_type": "markdown",
   "metadata": {},
   "source": [
    "### csv\n",
    "\n",
    "When writing to .csv, two files are created. One contains the utterances, and the other contains the metadata.\n",
    "The former is named using the path provided, and the metadata file is named with the suffix `_metadata.csv` added."
   ]
  },
  {
   "cell_type": "code",
   "execution_count": 19,
   "metadata": {},
   "outputs": [
    {
     "name": "stdout",
     "output_type": "stream",
     "text": [
      "Utterances saved to CGSAusE.csv\n",
      "Metadata saved to CGSAusE_metadata.csv\n",
      "Utterances saved to GCSAusE_01.csv\n",
      "Metadata saved to GCSAusE_01_metadata.csv\n"
     ]
    }
   ],
   "source": [
    "# Corpus\n",
    "GCSAusE.write_csv(path = \"CGSAusE.csv\")\n",
    "\n",
    "# Conversation\n",
    "griffith01.write_csv(path = \"GCSAusE_01.csv\")"
   ]
  }
 ],
 "metadata": {
  "kernelspec": {
   "display_name": "Python 3",
   "language": "python",
   "name": "python3"
  },
  "language_info": {
   "codemirror_mode": {
    "name": "ipython",
    "version": 3
   },
   "file_extension": ".py",
   "mimetype": "text/x-python",
   "name": "python",
   "nbconvert_exporter": "python",
   "pygments_lexer": "ipython3",
   "version": "3.10.11"
  },
  "orig_nbformat": 4,
  "vscode": {
   "interpreter": {
    "hash": "aee8b7b246df8f9039afb4144a1f6fd8d2ca17a180786b69acc140d282b71a49"
   }
  }
 },
 "nbformat": 4,
 "nbformat_minor": 2
}

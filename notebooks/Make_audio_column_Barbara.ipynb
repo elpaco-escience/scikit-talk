{
  "cells": [
    {
      "attachments": {},
      "cell_type": "markdown",
      "metadata": {
        "id": "RUcScYxiyCLa"
      },
      "source": [
        "### To do list\n",
        "todo:\n",
        "- make debug function that logs errors\n",
        "- make mel matrix \n",
        "- make spec col"
      ]
    },
    {
      "cell_type": "code",
      "execution_count": 1,
      "metadata": {},
      "outputs": [],
      "source": [
        "# to ensure that the modules can be imported, as they are located in a different folder, add the package root to the path:\n",
        "\n",
        "import sys\n",
        "sys.path.insert(0, \"../\")\n"
      ]
    },
    {
      "attachments": {},
      "cell_type": "markdown",
      "metadata": {
        "id": "kF0UisGqTpR5"
      },
      "source": [
        "### Set working directory"
      ]
    },
    {
      "cell_type": "code",
      "execution_count": 2,
      "metadata": {
        "colab": {
          "base_uri": "https://localhost:8080/"
        },
        "id": "223EdHm_Tnod",
        "outputId": "96e4f251-729d-4d90-c914-45e5c7cdfd82"
      },
      "outputs": [
        {
          "name": "stdout",
          "output_type": "stream",
          "text": [
            "Current working directory: /home/bvreede\n"
          ]
        }
      ],
      "source": [
        "# Import the os module\n",
        "import os\n",
        "\n",
        "# Print the current working directory\n",
        "print(\"Current working directory: {0}\".format(os.getcwd()))\n",
        "\n",
        "# Change the current working directory\n",
        "datadir = ('/vol/tensusers2/aliesenfeld/Elpaco dataset/')\n",
        "#packagedir = ('vol/)\n",
        "#os.chdir('/Users/u517177/continuer_paper/')\n",
        "\n",
        "\n",
        "# Print the current working directory\n",
        "#print(\"Current working directory: {0}\".format(os.getcwd()))"
      ]
    },
    {
      "attachments": {},
      "cell_type": "markdown",
      "metadata": {},
      "source": [
        "# Part 1: audio extraction"
      ]
    },
    {
      "attachments": {},
      "cell_type": "markdown",
      "metadata": {
        "id": "u-YN_F_oaAgz"
      },
      "source": [
        "### Dependencies\n"
      ]
    },
    {
      "cell_type": "code",
      "execution_count": null,
      "metadata": {},
      "outputs": [],
      "source": []
    },
    {
      "cell_type": "code",
      "execution_count": 3,
      "metadata": {
        "id": "dXTbO87ZZ_ao"
      },
      "outputs": [
        {
          "name": "stderr",
          "output_type": "stream",
          "text": [
            "/tmp/ipykernel_509310/67386651.py:13: TqdmWarning: IProgress not found. Please update jupyter and ipywidgets. See https://ipywidgets.readthedocs.io/en/stable/user_install.html\n",
            "  from tqdm.autonotebook import tqdm\n"
          ]
        }
      ],
      "source": [
        "#on M1 mac librosa needs to be installed via miniforge\n",
        "#!conda install -c conda-forge librosa\n",
        "import subprocess\n",
        "import json\n",
        "import sounddevice as sd\n",
        "\n",
        "import wave\n",
        "import IPython\n",
        "import librosa\n",
        "import pandas as pd\n",
        "from scipy.io import wavfile\n",
        "import matplotlib.pyplot as plt\n",
        "from tqdm.autonotebook import tqdm\n",
        "from joblib import Parallel, delayed\n",
        "n_jobs = -1; verbosity = 10"
      ]
    },
    {
      "cell_type": "code",
      "execution_count": 8,
      "metadata": {},
      "outputs": [
        {
          "name": "stdout",
          "output_type": "stream",
          "text": [
            "\u001b[0m\u001b[01;34m'Elpaco dataset'\u001b[0m/              \u001b[01;34moutput\u001b[0m/         streaks_10perlang.csv\n",
            "\u001b[01;34m'continuer data'\u001b[0m/              \u001b[01;34moutput_trail\u001b[0m/   streaks_1perlang.csv\n",
            " continuers_for_audio.csv      \u001b[01;34mstreaks\u001b[0m/        streaks_50perlang.csv\n",
            " discontinuers_for_audio.csv   streaks.csv     zic1z6cK\n"
          ]
        }
      ],
      "source": [
        "#install tensorflow if needed\n",
        "\n",
        "#!conda install -c conda-forge tensorflow -y\n",
        "#!pip install tensorflow-macos"
      ]
    },
    {
      "attachments": {},
      "cell_type": "markdown",
      "metadata": {},
      "source": [
        "### Inspect single audio files"
      ]
    },
    {
      "cell_type": "code",
      "execution_count": 4,
      "metadata": {},
      "outputs": [
        {
          "ename": "FileNotFoundError",
          "evalue": "[Errno 2] No such file or directory: './Elpaco dataset/akhoe_haikom1/state_hospital.wav'",
          "output_type": "error",
          "traceback": [
            "\u001b[0;31m---------------------------------------------------------------------------\u001b[0m",
            "\u001b[0;31mFileNotFoundError\u001b[0m                         Traceback (most recent call last)",
            "Cell \u001b[0;32mIn[4], line 2\u001b[0m\n\u001b[1;32m      1\u001b[0m \u001b[39m#Load and inspect single files\u001b[39;00m\n\u001b[0;32m----> 2\u001b[0m audiofile \u001b[39m=\u001b[39m wave\u001b[39m.\u001b[39;49mopen(\u001b[39m'\u001b[39;49m\u001b[39m./Elpaco dataset/akhoe_haikom1/state_hospital.wav\u001b[39;49m\u001b[39m'\u001b[39;49m,\u001b[39m'\u001b[39;49m\u001b[39mr\u001b[39;49m\u001b[39m'\u001b[39;49m)\n\u001b[1;32m      4\u001b[0m \u001b[39mprint\u001b[39m( \u001b[39m\"\u001b[39m\u001b[39mNumber of channels\u001b[39m\u001b[39m\"\u001b[39m,audiofile\u001b[39m.\u001b[39mgetnchannels())\n\u001b[1;32m      5\u001b[0m \u001b[39mprint\u001b[39m ( \u001b[39m\"\u001b[39m\u001b[39mSample width\u001b[39m\u001b[39m\"\u001b[39m,audiofile\u001b[39m.\u001b[39mgetsampwidth())\n",
            "File \u001b[0;32m/usr/lib/python3.8/wave.py:510\u001b[0m, in \u001b[0;36mopen\u001b[0;34m(f, mode)\u001b[0m\n\u001b[1;32m    508\u001b[0m         mode \u001b[39m=\u001b[39m \u001b[39m'\u001b[39m\u001b[39mrb\u001b[39m\u001b[39m'\u001b[39m\n\u001b[1;32m    509\u001b[0m \u001b[39mif\u001b[39;00m mode \u001b[39min\u001b[39;00m (\u001b[39m'\u001b[39m\u001b[39mr\u001b[39m\u001b[39m'\u001b[39m, \u001b[39m'\u001b[39m\u001b[39mrb\u001b[39m\u001b[39m'\u001b[39m):\n\u001b[0;32m--> 510\u001b[0m     \u001b[39mreturn\u001b[39;00m Wave_read(f)\n\u001b[1;32m    511\u001b[0m \u001b[39melif\u001b[39;00m mode \u001b[39min\u001b[39;00m (\u001b[39m'\u001b[39m\u001b[39mw\u001b[39m\u001b[39m'\u001b[39m, \u001b[39m'\u001b[39m\u001b[39mwb\u001b[39m\u001b[39m'\u001b[39m):\n\u001b[1;32m    512\u001b[0m     \u001b[39mreturn\u001b[39;00m Wave_write(f)\n",
            "File \u001b[0;32m/usr/lib/python3.8/wave.py:160\u001b[0m, in \u001b[0;36mWave_read.__init__\u001b[0;34m(self, f)\u001b[0m\n\u001b[1;32m    158\u001b[0m \u001b[39mself\u001b[39m\u001b[39m.\u001b[39m_i_opened_the_file \u001b[39m=\u001b[39m \u001b[39mNone\u001b[39;00m\n\u001b[1;32m    159\u001b[0m \u001b[39mif\u001b[39;00m \u001b[39misinstance\u001b[39m(f, \u001b[39mstr\u001b[39m):\n\u001b[0;32m--> 160\u001b[0m     f \u001b[39m=\u001b[39m builtins\u001b[39m.\u001b[39;49mopen(f, \u001b[39m'\u001b[39;49m\u001b[39mrb\u001b[39;49m\u001b[39m'\u001b[39;49m)\n\u001b[1;32m    161\u001b[0m     \u001b[39mself\u001b[39m\u001b[39m.\u001b[39m_i_opened_the_file \u001b[39m=\u001b[39m f\n\u001b[1;32m    162\u001b[0m \u001b[39m# else, assume it is an open file object already\u001b[39;00m\n",
            "\u001b[0;31mFileNotFoundError\u001b[0m: [Errno 2] No such file or directory: './Elpaco dataset/akhoe_haikom1/state_hospital.wav'"
          ]
        }
      ],
      "source": [
        "#Load and inspect single files\n",
        "audiofile = wave.open('./Elpaco dataset/akhoe_haikom1/state_hospital.wav','r')\n",
        "\n",
        "print( \"Number of channels\",audiofile.getnchannels())\n",
        "print ( \"Sample width\",audiofile.getsampwidth())\n",
        "print ( \"Frame rate.\",audiofile.getframerate())\n",
        "print (\"Number of frames\",audiofile.getnframes())\n",
        "print ( \"parameters:\",audiofile.getparams())"
      ]
    },
    {
      "cell_type": "code",
      "execution_count": 4,
      "metadata": {},
      "outputs": [],
      "source": [
        "#play audio files\n",
        "#IPython.display.Audio('./Elpaco dataset/akhoe_haikom1/state_hospital.wav')\n",
        "\n"
      ]
    },
    {
      "attachments": {},
      "cell_type": "markdown",
      "metadata": {},
      "source": [
        "### read csv"
      ]
    },
    {
      "cell_type": "code",
      "execution_count": 5,
      "metadata": {},
      "outputs": [
        {
          "data": {
            "text/html": [
              "<div>\n",
              "<style scoped>\n",
              "    .dataframe tbody tr th:only-of-type {\n",
              "        vertical-align: middle;\n",
              "    }\n",
              "\n",
              "    .dataframe tbody tr th {\n",
              "        vertical-align: top;\n",
              "    }\n",
              "\n",
              "    .dataframe thead th {\n",
              "        text-align: right;\n",
              "    }\n",
              "</style>\n",
              "<table border=\"1\" class=\"dataframe\">\n",
              "  <thead>\n",
              "    <tr style=\"text-align: right;\">\n",
              "      <th></th>\n",
              "      <th>uid</th>\n",
              "      <th>language</th>\n",
              "      <th>begin</th>\n",
              "      <th>end</th>\n",
              "      <th>duration</th>\n",
              "      <th>source</th>\n",
              "      <th>participant</th>\n",
              "      <th>utterance_stripped</th>\n",
              "      <th>utterance</th>\n",
              "      <th>form_ascii</th>\n",
              "    </tr>\n",
              "  </thead>\n",
              "  <tbody>\n",
              "    <tr>\n",
              "      <th>0</th>\n",
              "      <td>akhoe_haikom-2-484-1291852</td>\n",
              "      <td>akhoe_haikom</td>\n",
              "      <td>1291.852</td>\n",
              "      <td>1292.192</td>\n",
              "      <td>340.0</td>\n",
              "      <td>/akhoe_haikom1/state_hospital</td>\n",
              "      <td>tx@Ga</td>\n",
              "      <td>î</td>\n",
              "      <td>î</td>\n",
              "      <td>i_</td>\n",
              "    </tr>\n",
              "    <tr>\n",
              "      <th>1</th>\n",
              "      <td>akie-1-212-449198</td>\n",
              "      <td>akie</td>\n",
              "      <td>449.198</td>\n",
              "      <td>449.791</td>\n",
              "      <td>593.0</td>\n",
              "      <td>/akie1/2014-01-20Gitu4ConversationBahatiNkoiseyyo</td>\n",
              "      <td>B</td>\n",
              "      <td>aá</td>\n",
              "      <td>aá</td>\n",
              "      <td>aa_</td>\n",
              "    </tr>\n",
              "    <tr>\n",
              "      <th>2</th>\n",
              "      <td>ambel-3-509-809080</td>\n",
              "      <td>ambel</td>\n",
              "      <td>809.080</td>\n",
              "      <td>810.020</td>\n",
              "      <td>940.0</td>\n",
              "      <td>/ambel1/AM064</td>\n",
              "      <td>ESD_Transcription-txt-wgo</td>\n",
              "      <td>oo</td>\n",
              "      <td>oo</td>\n",
              "      <td>oo</td>\n",
              "    </tr>\n",
              "    <tr>\n",
              "      <th>3</th>\n",
              "      <td>ambel-4-125-205440</td>\n",
              "      <td>ambel</td>\n",
              "      <td>205.440</td>\n",
              "      <td>206.100</td>\n",
              "      <td>660.0</td>\n",
              "      <td>/ambel1/AM067</td>\n",
              "      <td>WG_Transcription-txt-wgo</td>\n",
              "      <td>mm</td>\n",
              "      <td>mm</td>\n",
              "      <td>mm</td>\n",
              "    </tr>\n",
              "    <tr>\n",
              "      <th>4</th>\n",
              "      <td>anal-01-283-507370</td>\n",
              "      <td>anal</td>\n",
              "      <td>507.370</td>\n",
              "      <td>507.890</td>\n",
              "      <td>520.0</td>\n",
              "      <td>/anal1/anm_20160916_PO_Wolring_1</td>\n",
              "      <td>Anal sp2</td>\n",
              "      <td>mm</td>\n",
              "      <td>mm</td>\n",
              "      <td>mm</td>\n",
              "    </tr>\n",
              "    <tr>\n",
              "      <th>5</th>\n",
              "      <td>anal-05-029-60356</td>\n",
              "      <td>anal</td>\n",
              "      <td>60.356</td>\n",
              "      <td>61.126</td>\n",
              "      <td>770.0</td>\n",
              "      <td>/anal1/anm_20160924_Thotson_grandmothers_1</td>\n",
              "      <td>Anal sp2</td>\n",
              "      <td>ing</td>\n",
              "      <td>ing</td>\n",
              "      <td>ing</td>\n",
              "    </tr>\n",
              "    <tr>\n",
              "      <th>6</th>\n",
              "      <td>anal-08-437-607867</td>\n",
              "      <td>anal</td>\n",
              "      <td>607.867</td>\n",
              "      <td>608.365</td>\n",
              "      <td>498.0</td>\n",
              "      <td>/anal1/anm_20161014_PO_Darchol_evening_convers...</td>\n",
              "      <td>anal speaker 4</td>\n",
              "      <td>umm</td>\n",
              "      <td>umm</td>\n",
              "      <td>umm</td>\n",
              "    </tr>\n",
              "    <tr>\n",
              "      <th>7</th>\n",
              "      <td>anal-09-264-932963</td>\n",
              "      <td>anal</td>\n",
              "      <td>932.963</td>\n",
              "      <td>934.383</td>\n",
              "      <td>1420.0</td>\n",
              "      <td>/anal1/anm_20161014_PO_Ralruwng_family_lunch1</td>\n",
              "      <td>Anal sp1</td>\n",
              "      <td>umm</td>\n",
              "      <td>umm</td>\n",
              "      <td>umm</td>\n",
              "    </tr>\n",
              "    <tr>\n",
              "      <th>8</th>\n",
              "      <td>anal-12-577-1069261</td>\n",
              "      <td>anal</td>\n",
              "      <td>1069.261</td>\n",
              "      <td>1070.298</td>\n",
              "      <td>1037.0</td>\n",
              "      <td>/anal1/anm_20161210_oklu_chatting3</td>\n",
              "      <td>Anal sp 5</td>\n",
              "      <td>umm</td>\n",
              "      <td>umm</td>\n",
              "      <td>umm</td>\n",
              "    </tr>\n",
              "    <tr>\n",
              "      <th>9</th>\n",
              "      <td>anal-13-047-69501</td>\n",
              "      <td>anal</td>\n",
              "      <td>69.501</td>\n",
              "      <td>70.127</td>\n",
              "      <td>626.0</td>\n",
              "      <td>/anal1/anm_20190803_grandmas</td>\n",
              "      <td>anal speaker 1</td>\n",
              "      <td>amato</td>\n",
              "      <td>amato</td>\n",
              "      <td>amato</td>\n",
              "    </tr>\n",
              "  </tbody>\n",
              "</table>\n",
              "</div>"
            ],
            "text/plain": [
              "                          uid      language     begin       end  duration   \n",
              "0  akhoe_haikom-2-484-1291852  akhoe_haikom  1291.852  1292.192     340.0  \\\n",
              "1           akie-1-212-449198          akie   449.198   449.791     593.0   \n",
              "2          ambel-3-509-809080         ambel   809.080   810.020     940.0   \n",
              "3          ambel-4-125-205440         ambel   205.440   206.100     660.0   \n",
              "4          anal-01-283-507370          anal   507.370   507.890     520.0   \n",
              "5           anal-05-029-60356          anal    60.356    61.126     770.0   \n",
              "6          anal-08-437-607867          anal   607.867   608.365     498.0   \n",
              "7          anal-09-264-932963          anal   932.963   934.383    1420.0   \n",
              "8         anal-12-577-1069261          anal  1069.261  1070.298    1037.0   \n",
              "9           anal-13-047-69501          anal    69.501    70.127     626.0   \n",
              "\n",
              "                                              source   \n",
              "0                      /akhoe_haikom1/state_hospital  \\\n",
              "1  /akie1/2014-01-20Gitu4ConversationBahatiNkoiseyyo   \n",
              "2                                      /ambel1/AM064   \n",
              "3                                      /ambel1/AM067   \n",
              "4                   /anal1/anm_20160916_PO_Wolring_1   \n",
              "5         /anal1/anm_20160924_Thotson_grandmothers_1   \n",
              "6  /anal1/anm_20161014_PO_Darchol_evening_convers...   \n",
              "7      /anal1/anm_20161014_PO_Ralruwng_family_lunch1   \n",
              "8                 /anal1/anm_20161210_oklu_chatting3   \n",
              "9                       /anal1/anm_20190803_grandmas   \n",
              "\n",
              "                 participant utterance_stripped utterance form_ascii  \n",
              "0                      tx@Ga                  î         î         i_  \n",
              "1                          B                 aá        aá        aa_  \n",
              "2  ESD_Transcription-txt-wgo                 oo        oo         oo  \n",
              "3   WG_Transcription-txt-wgo                 mm        mm         mm  \n",
              "4                   Anal sp2                 mm        mm         mm  \n",
              "5                   Anal sp2                ing       ing        ing  \n",
              "6             anal speaker 4                umm       umm        umm  \n",
              "7                   Anal sp1                umm       umm        umm  \n",
              "8                  Anal sp 5                umm       umm        umm  \n",
              "9             anal speaker 1              amato     amato      amato  "
            ]
          },
          "execution_count": 5,
          "metadata": {},
          "output_type": "execute_result"
        }
      ],
      "source": [
        "#read csv \n",
        "datasource = datadir + 'continuers_for_audio.csv'\n",
        "\n",
        "df_audio = pd.read_csv(datasource)\n",
        "#Optional:\n",
        "#check timestamp format and .div is needed to match audio extaction function requirements\n",
        "df_audio['begin'] = df_audio['begin'].div(1000)\n",
        "df_audio['end'] = df_audio['end'].div(1000)\n",
        "\n",
        "#drop czech because it has separate speaker channels\n",
        "df_audio = df_audio[df_audio.language != \"czech\"]\n",
        "\n",
        "#exclude corpora without audio files\n",
        "df_audio = df_audio[df_audio.language != \"italian\"]\n",
        "df_audio = df_audio[df_audio.language != \"zacatepec_chatino\"]\n",
        "\n",
        "#drop files without audio\n",
        "\n",
        "df_audio.dropna(subset=['begin','end'], inplace=True)\n",
        "df_audio = df_audio.groupby(['source']).apply(lambda x: x.sample(1, replace=True)).reset_index(drop=True)\n",
        "\n",
        "df_audio_sub = df_audio[:10]\n",
        "df_audio_sub"
      ]
    },
    {
      "attachments": {},
      "cell_type": "markdown",
      "metadata": {},
      "source": [
        "### `read_audio` function"
      ]
    },
    {
      "cell_type": "code",
      "execution_count": 6,
      "metadata": {},
      "outputs": [
        {
          "ename": "ModuleNotFoundError",
          "evalue": "No module named 'sktalk'",
          "output_type": "error",
          "traceback": [
            "\u001b[0;31m---------------------------------------------------------------------------\u001b[0m",
            "\u001b[0;31mModuleNotFoundError\u001b[0m                       Traceback (most recent call last)",
            "Cell \u001b[0;32mIn[6], line 1\u001b[0m\n\u001b[0;32m----> 1\u001b[0m \u001b[39mfrom\u001b[39;00m \u001b[39msktalk\u001b[39;00m \u001b[39mimport\u001b[39;00m read_audio\n\u001b[1;32m      3\u001b[0m \u001b[39m# def get_sampling_rate(file_path):\u001b[39;00m\n\u001b[1;32m      4\u001b[0m \u001b[39m#     cmd = [\u001b[39;00m\n\u001b[1;32m      5\u001b[0m \u001b[39m#         \"ffprobe\",\u001b[39;00m\n\u001b[0;32m   (...)\u001b[0m\n\u001b[1;32m     39\u001b[0m \n\u001b[1;32m     40\u001b[0m \u001b[39m#     return audio_array\u001b[39;00m\n\u001b[1;32m     43\u001b[0m wavaddress \u001b[39m=\u001b[39m \u001b[39m\"\u001b[39m\u001b[39m/vol/tensusers2/aliesenfeld/Elpaco dataset/Elpaco dataset/akie1/2014-01-20Gitu4ConversationBahatiNkoiseyyo.wav\u001b[39m\u001b[39m\"\u001b[39m\n",
            "\u001b[0;31mModuleNotFoundError\u001b[0m: No module named 'sktalk'"
          ]
        }
      ],
      "source": [
        "from sktalk import read_audio\n",
        "\n",
        "# def get_sampling_rate(file_path):\n",
        "#     cmd = [\n",
        "#         \"ffprobe\",\n",
        "#         \"-v\", \"quiet\",\n",
        "#         \"-print_format\", \"json\",\n",
        "#         \"-show_streams\",\n",
        "#         file_path\n",
        "#     ]\n",
        "\n",
        "#     result = subprocess.run(cmd, stdout=subprocess.PIPE, stderr=subprocess.STDOUT)\n",
        "#     output = json.loads(result.stdout)\n",
        "\n",
        "#     for stream in output[\"streams\"]:\n",
        "#         if stream[\"codec_type\"] == \"audio\":\n",
        "#             return int(stream[\"sample_rate\"])\n",
        "\n",
        "#     raise ValueError(\"No audio stream found in the file\")\n",
        "\n",
        "# # Replace 'list_audio_3_40_balanced.wav' with the path to your audio file\n",
        "# # file_path = './Elpaco dataset/akhoe_haikom1/state_hospital.wav'\n",
        "\n",
        "# # sampling_rate = get_sampling_rate(file_path)\n",
        "# # print(sampling_rate)\n",
        "\n",
        "\n",
        "# def get_audio_ffmpeg(file_path):\n",
        "#     cmd = [\"ffmpeg\", \"-i\", file_path, '-f', 's16le',\n",
        "#            '-acodec', 'pcm_s16le',\n",
        "#            '-ar', '22050',\n",
        "#            '-ac', '1',\n",
        "#            '-']\n",
        "\n",
        "#     pipe = subprocess.run(cmd, stdout=subprocess.PIPE, stderr=subprocess.PIPE)\n",
        "#     raw_audio = pipe.stdout\n",
        "#     audio_array = np.frombuffer(raw_audio, dtype=\"int16\")\n",
        "#     audio_array = audio_array.astype(np.float32) / np.iinfo(np.int16).max\n",
        "\n",
        "#     return audio_array\n",
        "\n",
        "\n",
        "wavaddress = \"/vol/tensusers2/aliesenfeld/Elpaco dataset/Elpaco dataset/akie1/2014-01-20Gitu4ConversationBahatiNkoiseyyo.wav\"\n",
        "d_ffmpeg = read_audio.get_audio_ffmpeg(wavaddress)\n",
        "r_ffmpeg = read_audio.get_sampling_rate(wavaddress)\n",
        "\n",
        "#ffmpeg -ss start_second -to end_second -i input.mp3 output.mp3\n",
        "\n",
        "d_librosa, r_librosa = librosa.load(wavaddress)\n"
      ]
    },
    {
      "cell_type": "code",
      "execution_count": 5,
      "metadata": {},
      "outputs": [
        {
          "name": "stdout",
          "output_type": "stream",
          "text": [
            "[ 0.0000000e+00 -3.0518509e-05 -3.0518509e-05 -3.0518509e-05\n",
            " -6.1037019e-05 -9.1555528e-05 -1.2207404e-04 -1.5259255e-04\n",
            " -2.1362957e-04 -2.4414808e-04]\n",
            "[ 3.2782555e-07 -4.1872263e-05 -2.2262335e-05 -4.6558678e-05\n",
            " -5.6192279e-05 -8.2075596e-05 -1.2717396e-04 -1.5640259e-04\n",
            " -2.0396709e-04 -2.4517626e-04]\n",
            "24007680\n",
            "24007680\n",
            "1.0\n",
            "1.2539232\n",
            "-1.0000305\n",
            "-1.0577291\n",
            "44100\n",
            "22050\n"
          ]
        }
      ],
      "source": [
        "print(d_ffmpeg[:10])\n",
        "print(d_librosa[:10])\n",
        "\n",
        "print(len(d_ffmpeg))\n",
        "print(len(d_librosa))\n",
        "\n",
        "print(max(d_ffmpeg))\n",
        "print(max(d_librosa))\n",
        "\n",
        "print(min(d_ffmpeg))\n",
        "print(min(d_librosa))\n",
        "\n",
        "\n",
        "print(r_ffmpeg)\n",
        "print(r_librosa)\n"
      ]
    },
    {
      "cell_type": "code",
      "execution_count": 6,
      "metadata": {},
      "outputs": [],
      "source": [
        "import pickle\n",
        "\n",
        "with open(\"../barbara_test/d_librosa.pickle\", \"wb\") as f:\n",
        "    pickle.dump(d_librosa, f)\n",
        "\n",
        "with open(\"../barbara_test/r_librosa.pickle\", \"wb\") as f:\n",
        "    pickle.dump(r_librosa, f)\n",
        "\n",
        "with open(\"../barbara_test/d_ffmpeg.pickle\", \"wb\") as f:\n",
        "    pickle.dump(d_ffmpeg, f)\n",
        "\n",
        "with open(\"../barbara_test/r_ffmpeg.pickle\", \"wb\") as f:\n",
        "    pickle.dump(r_ffmpeg, f)\n",
        "\n"
      ]
    },
    {
      "cell_type": "code",
      "execution_count": 7,
      "metadata": {},
      "outputs": [
        {
          "data": {
            "text/plain": [
              "[<matplotlib.lines.Line2D at 0x147b859b0d30>]"
            ]
          },
          "execution_count": 7,
          "metadata": {},
          "output_type": "execute_result"
        },
        {
          "data": {
            "image/png": "[encoded data removed]",
            "text/plain": [
              "<Figure size 640x480 with 1 Axes>"
            ]
          },
          "metadata": {},
          "output_type": "display_data"
        }
      ],
      "source": [
        "import matplotlib.pyplot as plt\n",
        "\n",
        "plt.plot(d_ffmpeg)"
      ]
    },
    {
      "cell_type": "code",
      "execution_count": 8,
      "metadata": {},
      "outputs": [
        {
          "data": {
            "text/plain": [
              "[<matplotlib.lines.Line2D at 0x147bd41c4490>]"
            ]
          },
          "execution_count": 8,
          "metadata": {},
          "output_type": "execute_result"
        },
        {
          "data": {
            "image/png": "[encoded data removed]",
            "text/plain": [
              "<Figure size 640x480 with 1 Axes>"
            ]
          },
          "metadata": {},
          "output_type": "display_data"
        }
      ],
      "source": [
        "plt.plot(d_librosa)"
      ]
    },
    {
      "cell_type": "code",
      "execution_count": 16,
      "metadata": {},
      "outputs": [],
      "source": [
        "import soundfile as sf\n",
        "import numpy as np\n",
        "import simpleaudio as sa\n",
        "\n",
        "# Generate a sine wave\n",
        "freq = 440\n",
        "duration = 3\n",
        "sample_rate = 44100\n",
        "t = np.linspace(0, duration, int(duration * sample_rate), False)\n",
        "waveform = np.sin(freq * t * 2 * np.pi) * 32767\n",
        "\n",
        "# Play the audio\n",
        "audio_data = waveform.astype(np.int16)\n",
        "play_obj = sa.play_buffer(audio_data, 1, 2, sample_rate)\n",
        "\n",
        "# Wait for the audio to finish playing\n",
        "play_obj.wait_done()"
      ]
    },
    {
      "cell_type": "code",
      "execution_count": null,
      "metadata": {},
      "outputs": [],
      "source": [
        "import soundfile as sf\n",
        "import numpy as np\n",
        "import simpleaudio as sa\n",
        "\n",
        "# Read the WAV file\n",
        "filename = \"./Elpaco dataset/akhoe_haikom1/state_hospital.wav\"\n",
        "audio_data, sample_rate = sf.read(filename)\n",
        "\n",
        "# Convert the audio data to the correct format\n",
        "audio_data = (audio_data * 32767).astype(np.int16)\n",
        "\n",
        "# Play the audio\n",
        "play_obj = sa.play_buffer(audio_data, 2, 2, sample_rate)\n",
        "\n",
        "# Wait for the audio to finish playing\n",
        "play_obj.wait_done()\n"
      ]
    },
    {
      "cell_type": "code",
      "execution_count": 33,
      "metadata": {},
      "outputs": [
        {
          "name": "stdout",
          "output_type": "stream",
          "text": [
            "/akie1/2014-01-20Gitu4ConversationBahatiNkoiseyyo 112.708 113.647\n"
          ]
        }
      ],
      "source": [
        "n = 1\n",
        "\n",
        "audiorow_start = df_audio[\"begin\"][n]\n",
        "audiorow_end = df_audio[\"end\"][n]\n",
        "audiorow_file = df_audio[\"source\"][n]\n",
        "\n",
        "print(audiorow_file, audiorow_start, audiorow_end)2\n",
        "\n",
        "#get_audio_ffmpeg(audiorow_file, audiorow_start, audiorow_end)\n",
        "\n",
        "ffmpeg -ss 112.708 -to 113.647 -i\n",
        "/vol/tensusers2/aliesenfeld/Elpaco\\ dataset/Elpaco\\ dataset/akie1/2014-01-20Gitu4ConversationBahatiNkoiseyyo.wav"
      ]
    },
    {
      "cell_type": "code",
      "execution_count": 22,
      "metadata": {},
      "outputs": [
        {
          "name": "stdout",
          "output_type": "stream",
          "text": [
            "1    /akie1/2014-01-20Gitu4ConversationBahatiNkoiseyyo\n",
            "Name: source, dtype: object\n",
            "2    /ambel1/AM064\n",
            "Name: source, dtype: object\n",
            "3    /ambel1/AM067\n",
            "Name: source, dtype: object\n",
            "4    /anal1/anm_20160916_PO_Wolring_1\n",
            "Name: source, dtype: object\n",
            "5    /anal1/anm_20160924_Thotson_grandmothers_1\n",
            "Name: source, dtype: object\n",
            "6    /anal1/anm_20161014_PO_Darchol_evening_convers...\n",
            "Name: source, dtype: object\n",
            "7    /anal1/anm_20161014_PO_Ralruwng_family_lunch1\n",
            "Name: source, dtype: object\n",
            "8    /anal1/anm_20161210_oklu_chatting3\n",
            "Name: source, dtype: object\n",
            "9    /anal1/anm_20190803_grandmas\n",
            "Name: source, dtype: object\n"
          ]
        },
        {
          "data": {
            "text/plain": [
              "[None, None, None, None, None, None, None, None, None]"
            ]
          },
          "execution_count": 22,
          "metadata": {},
          "output_type": "execute_result"
        }
      ],
      "source": [
        "\n",
        "def get_row_audio(df):\n",
        "    \"\"\" load audio and grab individual turns\n",
        "    TODO: for large sparse WAV files, the audio should be loaded only for the turn\n",
        "    \"\"\"\n",
        "    print(df[\"source\"])\n",
        "    #source = df[\"source\"][0]\n",
        "    #wav_loc = f'./Elpaco dataset{source}.wav'\n",
        "    #print path to audio file (optional)\n",
        "    #print(wav_loc)\n",
        "\n",
        "    # # load audio\n",
        "    # try:\n",
        "    #     #Three options here, comment out as needed:\n",
        "\n",
        "    #     #scipy wavfile\n",
        "    #     #rate, data = wavfile.read(wav_loc)\n",
        "        \n",
        "    #     #librosa\n",
        "    #     rate, data = librosa.load(wav_loc)\n",
        "        \n",
        "    #     #base python\n",
        "    #     #rate, data = wave.open(wav_loc)\n",
        "\n",
        "    #     #explore fourth option: use ffmpeg directly \n",
        "    #     #ffmpeg?\n",
        "\n",
        "    #     data = data.astype('float32')\n",
        "        \n",
        "    #     # get audio for each turn\n",
        "    #     df_audio[\"audio\"] = [\n",
        "    #         data[int(st * rate) : int(et * rate)].copy(deep=True)\n",
        "    #         for st, et in zip(df_audio.begin.values, df_audio.end.values)\n",
        "    #     ]\n",
        "\n",
        "    #     df_audio[\"rate\"] = rate\n",
        "    # except Exception:\n",
        "    #     pass\n",
        "\n",
        "    # return df_audio\n",
        "\n",
        "[get_row_audio(df_audio[df_audio.source == source]) for source in df_audio.source[1:10]]\n",
        "\n"
      ]
    },
    {
      "cell_type": "code",
      "execution_count": 35,
      "metadata": {},
      "outputs": [
        {
          "name": "stdout",
          "output_type": "stream",
          "text": [
            "./Elpaco dataset/akhoe_haikom1/state_hospital.wav\n"
          ]
        },
        {
          "name": "stderr",
          "output_type": "stream",
          "text": [
            "/tmp/ipykernel_2478552/3405997377.py:33: SettingWithCopyWarning: \n",
            "A value is trying to be set on a copy of a slice from a DataFrame.\n",
            "Try using .loc[row_indexer,col_indexer] = value instead\n",
            "\n",
            "See the caveats in the documentation: https://pandas.pydata.org/pandas-docs/stable/user_guide/indexing.html#returning-a-view-versus-a-copy\n",
            "  df[\"rate\"] = rate\n"
          ]
        },
        {
          "name": "stdout",
          "output_type": "stream",
          "text": [
            "./Elpaco dataset/akie1/2014-01-20Gitu4ConversationBahatiNkoiseyyo.wav\n"
          ]
        },
        {
          "name": "stderr",
          "output_type": "stream",
          "text": [
            "/tmp/ipykernel_2478552/3405997377.py:33: SettingWithCopyWarning: \n",
            "A value is trying to be set on a copy of a slice from a DataFrame.\n",
            "Try using .loc[row_indexer,col_indexer] = value instead\n",
            "\n",
            "See the caveats in the documentation: https://pandas.pydata.org/pandas-docs/stable/user_guide/indexing.html#returning-a-view-versus-a-copy\n",
            "  df[\"rate\"] = rate\n"
          ]
        },
        {
          "name": "stdout",
          "output_type": "stream",
          "text": [
            "./Elpaco dataset/ambel1/AM064.wav\n"
          ]
        },
        {
          "name": "stderr",
          "output_type": "stream",
          "text": [
            "/tmp/ipykernel_2478552/3405997377.py:33: SettingWithCopyWarning: \n",
            "A value is trying to be set on a copy of a slice from a DataFrame.\n",
            "Try using .loc[row_indexer,col_indexer] = value instead\n",
            "\n",
            "See the caveats in the documentation: https://pandas.pydata.org/pandas-docs/stable/user_guide/indexing.html#returning-a-view-versus-a-copy\n",
            "  df[\"rate\"] = rate\n"
          ]
        },
        {
          "name": "stdout",
          "output_type": "stream",
          "text": [
            "./Elpaco dataset/ambel1/AM067.wav\n"
          ]
        },
        {
          "name": "stderr",
          "output_type": "stream",
          "text": [
            "/tmp/ipykernel_2478552/3405997377.py:33: SettingWithCopyWarning: \n",
            "A value is trying to be set on a copy of a slice from a DataFrame.\n",
            "Try using .loc[row_indexer,col_indexer] = value instead\n",
            "\n",
            "See the caveats in the documentation: https://pandas.pydata.org/pandas-docs/stable/user_guide/indexing.html#returning-a-view-versus-a-copy\n",
            "  df[\"rate\"] = rate\n"
          ]
        },
        {
          "name": "stdout",
          "output_type": "stream",
          "text": [
            "./Elpaco dataset/anal1/anm_20160916_PO_Wolring_1.wav\n"
          ]
        },
        {
          "name": "stderr",
          "output_type": "stream",
          "text": [
            "/tmp/ipykernel_2478552/3405997377.py:33: SettingWithCopyWarning: \n",
            "A value is trying to be set on a copy of a slice from a DataFrame.\n",
            "Try using .loc[row_indexer,col_indexer] = value instead\n",
            "\n",
            "See the caveats in the documentation: https://pandas.pydata.org/pandas-docs/stable/user_guide/indexing.html#returning-a-view-versus-a-copy\n",
            "  df[\"rate\"] = rate\n"
          ]
        },
        {
          "name": "stdout",
          "output_type": "stream",
          "text": [
            "./Elpaco dataset/anal1/anm_20160924_Thotson_grandmothers_1.wav\n"
          ]
        },
        {
          "name": "stderr",
          "output_type": "stream",
          "text": [
            "/tmp/ipykernel_2478552/3405997377.py:33: SettingWithCopyWarning: \n",
            "A value is trying to be set on a copy of a slice from a DataFrame.\n",
            "Try using .loc[row_indexer,col_indexer] = value instead\n",
            "\n",
            "See the caveats in the documentation: https://pandas.pydata.org/pandas-docs/stable/user_guide/indexing.html#returning-a-view-versus-a-copy\n",
            "  df[\"rate\"] = rate\n"
          ]
        },
        {
          "name": "stdout",
          "output_type": "stream",
          "text": [
            "./Elpaco dataset/anal1/anm_20161014_PO_Darchol_evening_conversation2.wav\n"
          ]
        },
        {
          "name": "stderr",
          "output_type": "stream",
          "text": [
            "/tmp/ipykernel_2478552/3405997377.py:33: SettingWithCopyWarning: \n",
            "A value is trying to be set on a copy of a slice from a DataFrame.\n",
            "Try using .loc[row_indexer,col_indexer] = value instead\n",
            "\n",
            "See the caveats in the documentation: https://pandas.pydata.org/pandas-docs/stable/user_guide/indexing.html#returning-a-view-versus-a-copy\n",
            "  df[\"rate\"] = rate\n"
          ]
        },
        {
          "name": "stdout",
          "output_type": "stream",
          "text": [
            "./Elpaco dataset/anal1/anm_20161014_PO_Ralruwng_family_lunch1.wav\n"
          ]
        },
        {
          "name": "stderr",
          "output_type": "stream",
          "text": [
            "/tmp/ipykernel_2478552/3405997377.py:33: SettingWithCopyWarning: \n",
            "A value is trying to be set on a copy of a slice from a DataFrame.\n",
            "Try using .loc[row_indexer,col_indexer] = value instead\n",
            "\n",
            "See the caveats in the documentation: https://pandas.pydata.org/pandas-docs/stable/user_guide/indexing.html#returning-a-view-versus-a-copy\n",
            "  df[\"rate\"] = rate\n"
          ]
        },
        {
          "name": "stdout",
          "output_type": "stream",
          "text": [
            "./Elpaco dataset/anal1/anm_20161210_oklu_chatting3.wav\n"
          ]
        },
        {
          "name": "stderr",
          "output_type": "stream",
          "text": [
            "/tmp/ipykernel_2478552/3405997377.py:33: SettingWithCopyWarning: \n",
            "A value is trying to be set on a copy of a slice from a DataFrame.\n",
            "Try using .loc[row_indexer,col_indexer] = value instead\n",
            "\n",
            "See the caveats in the documentation: https://pandas.pydata.org/pandas-docs/stable/user_guide/indexing.html#returning-a-view-versus-a-copy\n",
            "  df[\"rate\"] = rate\n"
          ]
        },
        {
          "name": "stdout",
          "output_type": "stream",
          "text": [
            "./Elpaco dataset/anal1/anm_20190803_grandmas.wav\n"
          ]
        },
        {
          "name": "stderr",
          "output_type": "stream",
          "text": [
            "/tmp/ipykernel_2478552/3405997377.py:33: SettingWithCopyWarning: \n",
            "A value is trying to be set on a copy of a slice from a DataFrame.\n",
            "Try using .loc[row_indexer,col_indexer] = value instead\n",
            "\n",
            "See the caveats in the documentation: https://pandas.pydata.org/pandas-docs/stable/user_guide/indexing.html#returning-a-view-versus-a-copy\n",
            "  df[\"rate\"] = rate\n"
          ]
        }
      ],
      "source": [
        "def get_row_audio(df, wav_loc):\n",
        "    \"\"\" load audio and grab individual turns\n",
        "    TODO: for large sparse WAV files, the audio should be loaded only for the turn\n",
        "    \"\"\"\n",
        "    \n",
        "    #print path to audio file (optional)\n",
        "    print(wav_loc)\n",
        "\n",
        "    # load audio\n",
        "\n",
        "        #Three options here, comment out as needed:\n",
        "\n",
        "    #scipy wavfile\n",
        "    #rate, data = wavfile.read(wav_loc)\n",
        "    \n",
        "    #librosa\n",
        "    data, rate = librosa.load(wav_loc)\n",
        "    \n",
        "    #base python\n",
        "    #rate, data = wave.open(wav_loc)\n",
        "\n",
        "    #explore fourth option: use ffmpeg directly \n",
        "    #ffmpeg?\n",
        "\n",
        "    data = data.astype('float32')\n",
        "    \n",
        "    # get audio for each turn\n",
        "    # df_audio[\"audio\"] = [\n",
        "    #     data[int(st * rate) : int(et * rate)].copy()\n",
        "    #     for st, et in zip(df_audio.begin.values, df_audio.end.values)\n",
        "    # ]\n",
        "\n",
        "    df[\"rate\"] = rate\n",
        "\n",
        "    return df\n",
        "\n",
        "sounddata = [get_row_audio(df_audio[df_audio.source == source], f'./Elpaco dataset{source}.wav') for source in df_audio.source[:10]]"
      ]
    },
    {
      "cell_type": "code",
      "execution_count": 26,
      "metadata": {},
      "outputs": [
        {
          "data": {
            "text/plain": [
              "33626250"
            ]
          },
          "execution_count": 26,
          "metadata": {},
          "output_type": "execute_result"
        }
      ],
      "source": [
        "len(sounddata)"
      ]
    },
    {
      "cell_type": "code",
      "execution_count": 14,
      "metadata": {},
      "outputs": [
        {
          "data": {
            "text/plain": [
              "0    1313.280\n",
              "1     441.654\n",
              "2     327.840\n",
              "3     391.990\n",
              "4     527.017\n",
              "5      63.633\n",
              "6     152.779\n",
              "7    1278.735\n",
              "8    1070.298\n",
              "9     659.145\n",
              "Name: end, dtype: float64"
            ]
          },
          "execution_count": 14,
          "metadata": {},
          "output_type": "execute_result"
        }
      ],
      "source": [
        "df_audio_sub.iloc[:,3]"
      ]
    },
    {
      "attachments": {},
      "cell_type": "markdown",
      "metadata": {},
      "source": [
        "### Loops for execution"
      ]
    },
    {
      "cell_type": "code",
      "execution_count": 6,
      "metadata": {},
      "outputs": [
        {
          "name": "stdout",
          "output_type": "stream",
          "text": [
            "./Elpaco dataset/akhoe_haikom1/state_hospital.wav\n",
            "[-0.0135576   0.00900845 -0.00217441 ... -0.00039207 -0.00038838\n",
            " -0.00041938]\n",
            "./Elpaco dataset/akhoe_haikom1/state_hospital.wav\n"
          ]
        },
        {
          "name": "stderr",
          "output_type": "stream",
          "text": [
            "/tmp/ipykernel_2450982/2935496521.py:19: SettingWithCopyWarning: \n",
            "A value is trying to be set on a copy of a slice from a DataFrame.\n",
            "Try using .loc[row_indexer,col_indexer] = value instead\n",
            "\n",
            "See the caveats in the documentation: https://pandas.pydata.org/pandas-docs/stable/user_guide/indexing.html#returning-a-view-versus-a-copy\n",
            "  df_audio[\"rate\"] = rate\n"
          ]
        },
        {
          "name": "stdout",
          "output_type": "stream",
          "text": [
            "[-0.0135576   0.00900845 -0.00217441 ... -0.00039207 -0.00038838\n",
            " -0.00041938]\n",
            "./Elpaco dataset/akhoe_haikom1/state_hospital.wav\n"
          ]
        },
        {
          "name": "stderr",
          "output_type": "stream",
          "text": [
            "/tmp/ipykernel_2450982/2935496521.py:19: SettingWithCopyWarning: \n",
            "A value is trying to be set on a copy of a slice from a DataFrame.\n",
            "Try using .loc[row_indexer,col_indexer] = value instead\n",
            "\n",
            "See the caveats in the documentation: https://pandas.pydata.org/pandas-docs/stable/user_guide/indexing.html#returning-a-view-versus-a-copy\n",
            "  df_audio[\"rate\"] = rate\n"
          ]
        },
        {
          "name": "stdout",
          "output_type": "stream",
          "text": [
            "[-0.0135576   0.00900845 -0.00217441 ... -0.00039207 -0.00038838\n",
            " -0.00041938]\n",
            "./Elpaco dataset/akhoe_haikom1/state_hospital.wav\n"
          ]
        },
        {
          "name": "stderr",
          "output_type": "stream",
          "text": [
            "/tmp/ipykernel_2450982/2935496521.py:19: SettingWithCopyWarning: \n",
            "A value is trying to be set on a copy of a slice from a DataFrame.\n",
            "Try using .loc[row_indexer,col_indexer] = value instead\n",
            "\n",
            "See the caveats in the documentation: https://pandas.pydata.org/pandas-docs/stable/user_guide/indexing.html#returning-a-view-versus-a-copy\n",
            "  df_audio[\"rate\"] = rate\n"
          ]
        },
        {
          "name": "stdout",
          "output_type": "stream",
          "text": [
            "[-0.0135576   0.00900845 -0.00217441 ... -0.00039207 -0.00038838\n",
            " -0.00041938]\n",
            "./Elpaco dataset/akhoe_haikom1/state_hospital.wav\n"
          ]
        },
        {
          "name": "stderr",
          "output_type": "stream",
          "text": [
            "/tmp/ipykernel_2450982/2935496521.py:19: SettingWithCopyWarning: \n",
            "A value is trying to be set on a copy of a slice from a DataFrame.\n",
            "Try using .loc[row_indexer,col_indexer] = value instead\n",
            "\n",
            "See the caveats in the documentation: https://pandas.pydata.org/pandas-docs/stable/user_guide/indexing.html#returning-a-view-versus-a-copy\n",
            "  df_audio[\"rate\"] = rate\n"
          ]
        },
        {
          "name": "stdout",
          "output_type": "stream",
          "text": [
            "[-0.0135576   0.00900845 -0.00217441 ... -0.00039207 -0.00038838\n",
            " -0.00041938]\n",
            "./Elpaco dataset/akhoe_haikom1/state_hospital.wav\n"
          ]
        },
        {
          "name": "stderr",
          "output_type": "stream",
          "text": [
            "/tmp/ipykernel_2450982/2935496521.py:19: SettingWithCopyWarning: \n",
            "A value is trying to be set on a copy of a slice from a DataFrame.\n",
            "Try using .loc[row_indexer,col_indexer] = value instead\n",
            "\n",
            "See the caveats in the documentation: https://pandas.pydata.org/pandas-docs/stable/user_guide/indexing.html#returning-a-view-versus-a-copy\n",
            "  df_audio[\"rate\"] = rate\n"
          ]
        },
        {
          "name": "stdout",
          "output_type": "stream",
          "text": [
            "[-0.0135576   0.00900845 -0.00217441 ... -0.00039207 -0.00038838\n",
            " -0.00041938]\n",
            "./Elpaco dataset/akhoe_haikom1/state_hospital.wav\n"
          ]
        },
        {
          "name": "stderr",
          "output_type": "stream",
          "text": [
            "/tmp/ipykernel_2450982/2935496521.py:19: SettingWithCopyWarning: \n",
            "A value is trying to be set on a copy of a slice from a DataFrame.\n",
            "Try using .loc[row_indexer,col_indexer] = value instead\n",
            "\n",
            "See the caveats in the documentation: https://pandas.pydata.org/pandas-docs/stable/user_guide/indexing.html#returning-a-view-versus-a-copy\n",
            "  df_audio[\"rate\"] = rate\n"
          ]
        },
        {
          "name": "stdout",
          "output_type": "stream",
          "text": [
            "[-0.0135576   0.00900845 -0.00217441 ... -0.00039207 -0.00038838\n",
            " -0.00041938]\n",
            "./Elpaco dataset/akie1/2014-01-20Gitu4ConversationBahatiNkoiseyyo.wav\n"
          ]
        },
        {
          "name": "stderr",
          "output_type": "stream",
          "text": [
            "/tmp/ipykernel_2450982/2935496521.py:19: SettingWithCopyWarning: \n",
            "A value is trying to be set on a copy of a slice from a DataFrame.\n",
            "Try using .loc[row_indexer,col_indexer] = value instead\n",
            "\n",
            "See the caveats in the documentation: https://pandas.pydata.org/pandas-docs/stable/user_guide/indexing.html#returning-a-view-versus-a-copy\n",
            "  df_audio[\"rate\"] = rate\n"
          ]
        },
        {
          "name": "stdout",
          "output_type": "stream",
          "text": [
            "[ 3.2782555e-07 -4.1872263e-05 -2.2262335e-05 ... -4.3265522e-05\n",
            " -1.9449741e-05 -5.1818788e-05]\n",
            "./Elpaco dataset/akie1/2014-01-20Gitu4ConversationBahatiNkoiseyyo.wav\n"
          ]
        },
        {
          "name": "stderr",
          "output_type": "stream",
          "text": [
            "/tmp/ipykernel_2450982/2935496521.py:19: SettingWithCopyWarning: \n",
            "A value is trying to be set on a copy of a slice from a DataFrame.\n",
            "Try using .loc[row_indexer,col_indexer] = value instead\n",
            "\n",
            "See the caveats in the documentation: https://pandas.pydata.org/pandas-docs/stable/user_guide/indexing.html#returning-a-view-versus-a-copy\n",
            "  df_audio[\"rate\"] = rate\n"
          ]
        },
        {
          "name": "stdout",
          "output_type": "stream",
          "text": [
            "[ 3.2782555e-07 -4.1872263e-05 -2.2262335e-05 ... -4.3265522e-05\n",
            " -1.9449741e-05 -5.1818788e-05]\n",
            "[                          uid      language      begin        end  duration   \n",
            "0   akhoe_haikom-2-194-371425  akhoe_haikom   371425.0   371725.0     300.0  \\\n",
            "1   akhoe_haikom-2-203-398335  akhoe_haikom   398335.0   398545.0     210.0   \n",
            "2  akhoe_haikom-2-457-1245412  akhoe_haikom  1245412.0  1245780.0     368.0   \n",
            "3  akhoe_haikom-2-459-1247720  akhoe_haikom  1247720.0  1248010.0     290.0   \n",
            "4  akhoe_haikom-2-482-1290491  akhoe_haikom  1290491.0  1290851.0     360.0   \n",
            "5  akhoe_haikom-2-484-1291852  akhoe_haikom  1291852.0  1292192.0     340.0   \n",
            "6  akhoe_haikom-2-492-1300050  akhoe_haikom  1300050.0  1300810.0     760.0   \n",
            "7  akhoe_haikom-2-494-1312920  akhoe_haikom  1312920.0  1313280.0     360.0   \n",
            "\n",
            "                          source participant utterance_stripped utterance   \n",
            "0  /akhoe_haikom1/state_hospital       tx@Es                  î         î  \\\n",
            "1  /akhoe_haikom1/state_hospital       tx@Es                  î         î   \n",
            "2  /akhoe_haikom1/state_hospital       tx@Ga                  î         î   \n",
            "3  /akhoe_haikom1/state_hospital       tx@Ga                  î         î   \n",
            "4  /akhoe_haikom1/state_hospital       tx@Ga                  î         î   \n",
            "5  /akhoe_haikom1/state_hospital       tx@Ga                  î         î   \n",
            "6  /akhoe_haikom1/state_hospital       tx@Ga                  î         î   \n",
            "7  /akhoe_haikom1/state_hospital       tx@Ga                  î         î   \n",
            "\n",
            "  form_ascii   rate  \n",
            "0         i_  22050  \n",
            "1         i_  22050  \n",
            "2         i_  22050  \n",
            "3         i_  22050  \n",
            "4         i_  22050  \n",
            "5         i_  22050  \n",
            "6         i_  22050  \n",
            "7         i_  22050  ,                           uid      language      begin        end  duration   \n",
            "0   akhoe_haikom-2-194-371425  akhoe_haikom   371425.0   371725.0     300.0  \\\n",
            "1   akhoe_haikom-2-203-398335  akhoe_haikom   398335.0   398545.0     210.0   \n",
            "2  akhoe_haikom-2-457-1245412  akhoe_haikom  1245412.0  1245780.0     368.0   \n",
            "3  akhoe_haikom-2-459-1247720  akhoe_haikom  1247720.0  1248010.0     290.0   \n",
            "4  akhoe_haikom-2-482-1290491  akhoe_haikom  1290491.0  1290851.0     360.0   \n",
            "5  akhoe_haikom-2-484-1291852  akhoe_haikom  1291852.0  1292192.0     340.0   \n",
            "6  akhoe_haikom-2-492-1300050  akhoe_haikom  1300050.0  1300810.0     760.0   \n",
            "7  akhoe_haikom-2-494-1312920  akhoe_haikom  1312920.0  1313280.0     360.0   \n",
            "\n",
            "                          source participant utterance_stripped utterance   \n",
            "0  /akhoe_haikom1/state_hospital       tx@Es                  î         î  \\\n",
            "1  /akhoe_haikom1/state_hospital       tx@Es                  î         î   \n",
            "2  /akhoe_haikom1/state_hospital       tx@Ga                  î         î   \n",
            "3  /akhoe_haikom1/state_hospital       tx@Ga                  î         î   \n",
            "4  /akhoe_haikom1/state_hospital       tx@Ga                  î         î   \n",
            "5  /akhoe_haikom1/state_hospital       tx@Ga                  î         î   \n",
            "6  /akhoe_haikom1/state_hospital       tx@Ga                  î         î   \n",
            "7  /akhoe_haikom1/state_hospital       tx@Ga                  î         î   \n",
            "\n",
            "  form_ascii   rate  \n",
            "0         i_  22050  \n",
            "1         i_  22050  \n",
            "2         i_  22050  \n",
            "3         i_  22050  \n",
            "4         i_  22050  \n",
            "5         i_  22050  \n",
            "6         i_  22050  \n",
            "7         i_  22050  ,                           uid      language      begin        end  duration   \n",
            "0   akhoe_haikom-2-194-371425  akhoe_haikom   371425.0   371725.0     300.0  \\\n",
            "1   akhoe_haikom-2-203-398335  akhoe_haikom   398335.0   398545.0     210.0   \n",
            "2  akhoe_haikom-2-457-1245412  akhoe_haikom  1245412.0  1245780.0     368.0   \n",
            "3  akhoe_haikom-2-459-1247720  akhoe_haikom  1247720.0  1248010.0     290.0   \n",
            "4  akhoe_haikom-2-482-1290491  akhoe_haikom  1290491.0  1290851.0     360.0   \n",
            "5  akhoe_haikom-2-484-1291852  akhoe_haikom  1291852.0  1292192.0     340.0   \n",
            "6  akhoe_haikom-2-492-1300050  akhoe_haikom  1300050.0  1300810.0     760.0   \n",
            "7  akhoe_haikom-2-494-1312920  akhoe_haikom  1312920.0  1313280.0     360.0   \n",
            "\n",
            "                          source participant utterance_stripped utterance   \n",
            "0  /akhoe_haikom1/state_hospital       tx@Es                  î         î  \\\n",
            "1  /akhoe_haikom1/state_hospital       tx@Es                  î         î   \n",
            "2  /akhoe_haikom1/state_hospital       tx@Ga                  î         î   \n",
            "3  /akhoe_haikom1/state_hospital       tx@Ga                  î         î   \n",
            "4  /akhoe_haikom1/state_hospital       tx@Ga                  î         î   \n",
            "5  /akhoe_haikom1/state_hospital       tx@Ga                  î         î   \n",
            "6  /akhoe_haikom1/state_hospital       tx@Ga                  î         î   \n",
            "7  /akhoe_haikom1/state_hospital       tx@Ga                  î         î   \n",
            "\n",
            "  form_ascii   rate  \n",
            "0         i_  22050  \n",
            "1         i_  22050  \n",
            "2         i_  22050  \n",
            "3         i_  22050  \n",
            "4         i_  22050  \n",
            "5         i_  22050  \n",
            "6         i_  22050  \n",
            "7         i_  22050  ,                           uid      language      begin        end  duration   \n",
            "0   akhoe_haikom-2-194-371425  akhoe_haikom   371425.0   371725.0     300.0  \\\n",
            "1   akhoe_haikom-2-203-398335  akhoe_haikom   398335.0   398545.0     210.0   \n",
            "2  akhoe_haikom-2-457-1245412  akhoe_haikom  1245412.0  1245780.0     368.0   \n",
            "3  akhoe_haikom-2-459-1247720  akhoe_haikom  1247720.0  1248010.0     290.0   \n",
            "4  akhoe_haikom-2-482-1290491  akhoe_haikom  1290491.0  1290851.0     360.0   \n",
            "5  akhoe_haikom-2-484-1291852  akhoe_haikom  1291852.0  1292192.0     340.0   \n",
            "6  akhoe_haikom-2-492-1300050  akhoe_haikom  1300050.0  1300810.0     760.0   \n",
            "7  akhoe_haikom-2-494-1312920  akhoe_haikom  1312920.0  1313280.0     360.0   \n",
            "\n",
            "                          source participant utterance_stripped utterance   \n",
            "0  /akhoe_haikom1/state_hospital       tx@Es                  î         î  \\\n",
            "1  /akhoe_haikom1/state_hospital       tx@Es                  î         î   \n",
            "2  /akhoe_haikom1/state_hospital       tx@Ga                  î         î   \n",
            "3  /akhoe_haikom1/state_hospital       tx@Ga                  î         î   \n",
            "4  /akhoe_haikom1/state_hospital       tx@Ga                  î         î   \n",
            "5  /akhoe_haikom1/state_hospital       tx@Ga                  î         î   \n",
            "6  /akhoe_haikom1/state_hospital       tx@Ga                  î         î   \n",
            "7  /akhoe_haikom1/state_hospital       tx@Ga                  î         î   \n",
            "\n",
            "  form_ascii   rate  \n",
            "0         i_  22050  \n",
            "1         i_  22050  \n",
            "2         i_  22050  \n",
            "3         i_  22050  \n",
            "4         i_  22050  \n",
            "5         i_  22050  \n",
            "6         i_  22050  \n",
            "7         i_  22050  ,                           uid      language      begin        end  duration   \n",
            "0   akhoe_haikom-2-194-371425  akhoe_haikom   371425.0   371725.0     300.0  \\\n",
            "1   akhoe_haikom-2-203-398335  akhoe_haikom   398335.0   398545.0     210.0   \n",
            "2  akhoe_haikom-2-457-1245412  akhoe_haikom  1245412.0  1245780.0     368.0   \n",
            "3  akhoe_haikom-2-459-1247720  akhoe_haikom  1247720.0  1248010.0     290.0   \n",
            "4  akhoe_haikom-2-482-1290491  akhoe_haikom  1290491.0  1290851.0     360.0   \n",
            "5  akhoe_haikom-2-484-1291852  akhoe_haikom  1291852.0  1292192.0     340.0   \n",
            "6  akhoe_haikom-2-492-1300050  akhoe_haikom  1300050.0  1300810.0     760.0   \n",
            "7  akhoe_haikom-2-494-1312920  akhoe_haikom  1312920.0  1313280.0     360.0   \n",
            "\n",
            "                          source participant utterance_stripped utterance   \n",
            "0  /akhoe_haikom1/state_hospital       tx@Es                  î         î  \\\n",
            "1  /akhoe_haikom1/state_hospital       tx@Es                  î         î   \n",
            "2  /akhoe_haikom1/state_hospital       tx@Ga                  î         î   \n",
            "3  /akhoe_haikom1/state_hospital       tx@Ga                  î         î   \n",
            "4  /akhoe_haikom1/state_hospital       tx@Ga                  î         î   \n",
            "5  /akhoe_haikom1/state_hospital       tx@Ga                  î         î   \n",
            "6  /akhoe_haikom1/state_hospital       tx@Ga                  î         î   \n",
            "7  /akhoe_haikom1/state_hospital       tx@Ga                  î         î   \n",
            "\n",
            "  form_ascii   rate  \n",
            "0         i_  22050  \n",
            "1         i_  22050  \n",
            "2         i_  22050  \n",
            "3         i_  22050  \n",
            "4         i_  22050  \n",
            "5         i_  22050  \n",
            "6         i_  22050  \n",
            "7         i_  22050  ,                           uid      language      begin        end  duration   \n",
            "0   akhoe_haikom-2-194-371425  akhoe_haikom   371425.0   371725.0     300.0  \\\n",
            "1   akhoe_haikom-2-203-398335  akhoe_haikom   398335.0   398545.0     210.0   \n",
            "2  akhoe_haikom-2-457-1245412  akhoe_haikom  1245412.0  1245780.0     368.0   \n",
            "3  akhoe_haikom-2-459-1247720  akhoe_haikom  1247720.0  1248010.0     290.0   \n",
            "4  akhoe_haikom-2-482-1290491  akhoe_haikom  1290491.0  1290851.0     360.0   \n",
            "5  akhoe_haikom-2-484-1291852  akhoe_haikom  1291852.0  1292192.0     340.0   \n",
            "6  akhoe_haikom-2-492-1300050  akhoe_haikom  1300050.0  1300810.0     760.0   \n",
            "7  akhoe_haikom-2-494-1312920  akhoe_haikom  1312920.0  1313280.0     360.0   \n",
            "\n",
            "                          source participant utterance_stripped utterance   \n",
            "0  /akhoe_haikom1/state_hospital       tx@Es                  î         î  \\\n",
            "1  /akhoe_haikom1/state_hospital       tx@Es                  î         î   \n",
            "2  /akhoe_haikom1/state_hospital       tx@Ga                  î         î   \n",
            "3  /akhoe_haikom1/state_hospital       tx@Ga                  î         î   \n",
            "4  /akhoe_haikom1/state_hospital       tx@Ga                  î         î   \n",
            "5  /akhoe_haikom1/state_hospital       tx@Ga                  î         î   \n",
            "6  /akhoe_haikom1/state_hospital       tx@Ga                  î         î   \n",
            "7  /akhoe_haikom1/state_hospital       tx@Ga                  î         î   \n",
            "\n",
            "  form_ascii   rate  \n",
            "0         i_  22050  \n",
            "1         i_  22050  \n",
            "2         i_  22050  \n",
            "3         i_  22050  \n",
            "4         i_  22050  \n",
            "5         i_  22050  \n",
            "6         i_  22050  \n",
            "7         i_  22050  ,                           uid      language      begin        end  duration   \n",
            "0   akhoe_haikom-2-194-371425  akhoe_haikom   371425.0   371725.0     300.0  \\\n",
            "1   akhoe_haikom-2-203-398335  akhoe_haikom   398335.0   398545.0     210.0   \n",
            "2  akhoe_haikom-2-457-1245412  akhoe_haikom  1245412.0  1245780.0     368.0   \n",
            "3  akhoe_haikom-2-459-1247720  akhoe_haikom  1247720.0  1248010.0     290.0   \n",
            "4  akhoe_haikom-2-482-1290491  akhoe_haikom  1290491.0  1290851.0     360.0   \n",
            "5  akhoe_haikom-2-484-1291852  akhoe_haikom  1291852.0  1292192.0     340.0   \n",
            "6  akhoe_haikom-2-492-1300050  akhoe_haikom  1300050.0  1300810.0     760.0   \n",
            "7  akhoe_haikom-2-494-1312920  akhoe_haikom  1312920.0  1313280.0     360.0   \n",
            "\n",
            "                          source participant utterance_stripped utterance   \n",
            "0  /akhoe_haikom1/state_hospital       tx@Es                  î         î  \\\n",
            "1  /akhoe_haikom1/state_hospital       tx@Es                  î         î   \n",
            "2  /akhoe_haikom1/state_hospital       tx@Ga                  î         î   \n",
            "3  /akhoe_haikom1/state_hospital       tx@Ga                  î         î   \n",
            "4  /akhoe_haikom1/state_hospital       tx@Ga                  î         î   \n",
            "5  /akhoe_haikom1/state_hospital       tx@Ga                  î         î   \n",
            "6  /akhoe_haikom1/state_hospital       tx@Ga                  î         î   \n",
            "7  /akhoe_haikom1/state_hospital       tx@Ga                  î         î   \n",
            "\n",
            "  form_ascii   rate  \n",
            "0         i_  22050  \n",
            "1         i_  22050  \n",
            "2         i_  22050  \n",
            "3         i_  22050  \n",
            "4         i_  22050  \n",
            "5         i_  22050  \n",
            "6         i_  22050  \n",
            "7         i_  22050  ,                   uid language     begin       end  duration   \n",
            "8    akie-1-030-95822     akie   95822.0   96442.0     620.0  \\\n",
            "9    akie-1-033-99525     akie   99525.0  100289.0     764.0   \n",
            "10  akie-1-041-112708     akie  112708.0  113647.0     939.0   \n",
            "11  akie-1-048-125403     akie  125403.0  125935.0     532.0   \n",
            "12  akie-1-074-183638     akie  183638.0  184542.0     904.0   \n",
            "13  akie-1-076-186733     akie  186733.0  187438.0     705.0   \n",
            "14  akie-1-078-189573     akie  189573.0  190705.0    1132.0   \n",
            "15  akie-1-083-198073     akie  198073.0  198794.0     721.0   \n",
            "16  akie-1-087-205578     akie  205578.0  206094.0     516.0   \n",
            "17  akie-1-103-230912     akie  230912.0  231810.0     898.0   \n",
            "18  akie-1-105-234173     akie  234173.0  234831.0     658.0   \n",
            "19  akie-1-108-237562     akie  237562.0  238347.0     785.0   \n",
            "20  akie-1-127-274810     akie  274810.0  275768.0     958.0   \n",
            "21  akie-1-132-285746     akie  285746.0  286489.0     743.0   \n",
            "22  akie-1-146-315052     akie  315052.0  316031.0     979.0   \n",
            "23  akie-1-149-320678     akie  320678.0  321089.0     411.0   \n",
            "24  akie-1-153-327799     akie  327799.0  328542.0     743.0   \n",
            "25  akie-1-156-332779     akie  332779.0  333547.0     768.0   \n",
            "26  akie-1-172-373624     akie  373624.0  374426.0     802.0   \n",
            "27  akie-1-176-380275     akie  380275.0  381003.0     728.0   \n",
            "28  akie-1-178-386315     akie  386315.0  386870.0     555.0   \n",
            "29  akie-1-180-392001     akie  392001.0  392513.0     512.0   \n",
            "30  akie-1-182-395794     akie  395794.0  396578.0     784.0   \n",
            "31  akie-1-190-411123     akie  411123.0  411734.0     611.0   \n",
            "32  akie-1-193-414528     akie  414528.0  415213.0     685.0   \n",
            "33  akie-1-196-417624     akie  417624.0  418247.0     623.0   \n",
            "34  akie-1-198-420819     akie  420819.0  421148.0     329.0   \n",
            "35  akie-1-209-441166     akie  441166.0  441654.0     488.0   \n",
            "36  akie-1-212-449198     akie  449198.0  449791.0     593.0   \n",
            "\n",
            "                                               source participant   \n",
            "8   /akie1/2014-01-20Gitu4ConversationBahatiNkoiseyyo           B  \\\n",
            "9   /akie1/2014-01-20Gitu4ConversationBahatiNkoiseyyo           B   \n",
            "10  /akie1/2014-01-20Gitu4ConversationBahatiNkoiseyyo           B   \n",
            "11  /akie1/2014-01-20Gitu4ConversationBahatiNkoiseyyo           B   \n",
            "12  /akie1/2014-01-20Gitu4ConversationBahatiNkoiseyyo           B   \n",
            "13  /akie1/2014-01-20Gitu4ConversationBahatiNkoiseyyo           B   \n",
            "14  /akie1/2014-01-20Gitu4ConversationBahatiNkoiseyyo           B   \n",
            "15  /akie1/2014-01-20Gitu4ConversationBahatiNkoiseyyo           B   \n",
            "16  /akie1/2014-01-20Gitu4ConversationBahatiNkoiseyyo           B   \n",
            "17  /akie1/2014-01-20Gitu4ConversationBahatiNkoiseyyo           B   \n",
            "18  /akie1/2014-01-20Gitu4ConversationBahatiNkoiseyyo           B   \n",
            "19  /akie1/2014-01-20Gitu4ConversationBahatiNkoiseyyo           B   \n",
            "20  /akie1/2014-01-20Gitu4ConversationBahatiNkoiseyyo           B   \n",
            "21  /akie1/2014-01-20Gitu4ConversationBahatiNkoiseyyo           B   \n",
            "22  /akie1/2014-01-20Gitu4ConversationBahatiNkoiseyyo           B   \n",
            "23  /akie1/2014-01-20Gitu4ConversationBahatiNkoiseyyo           B   \n",
            "24  /akie1/2014-01-20Gitu4ConversationBahatiNkoiseyyo           B   \n",
            "25  /akie1/2014-01-20Gitu4ConversationBahatiNkoiseyyo           B   \n",
            "26  /akie1/2014-01-20Gitu4ConversationBahatiNkoiseyyo           B   \n",
            "27  /akie1/2014-01-20Gitu4ConversationBahatiNkoiseyyo           B   \n",
            "28  /akie1/2014-01-20Gitu4ConversationBahatiNkoiseyyo           B   \n",
            "29  /akie1/2014-01-20Gitu4ConversationBahatiNkoiseyyo           B   \n",
            "30  /akie1/2014-01-20Gitu4ConversationBahatiNkoiseyyo           B   \n",
            "31  /akie1/2014-01-20Gitu4ConversationBahatiNkoiseyyo           B   \n",
            "32  /akie1/2014-01-20Gitu4ConversationBahatiNkoiseyyo           B   \n",
            "33  /akie1/2014-01-20Gitu4ConversationBahatiNkoiseyyo           B   \n",
            "34  /akie1/2014-01-20Gitu4ConversationBahatiNkoiseyyo           B   \n",
            "35  /akie1/2014-01-20Gitu4ConversationBahatiNkoiseyyo           B   \n",
            "36  /akie1/2014-01-20Gitu4ConversationBahatiNkoiseyyo           B   \n",
            "\n",
            "   utterance_stripped utterance form_ascii   rate  \n",
            "8                  aá        aá        aa_  22050  \n",
            "9                  aá        aá        aa_  22050  \n",
            "10                 aá        aá        aa_  22050  \n",
            "11                 aá        aá        aa_  22050  \n",
            "12                 aá        aá        aa_  22050  \n",
            "13                 aá        aá        aa_  22050  \n",
            "14                 aá        aá        aa_  22050  \n",
            "15                 aá        aá        aa_  22050  \n",
            "16                 aá        aá        aa_  22050  \n",
            "17                 aá        aá        aa_  22050  \n",
            "18                 aá        aá        aa_  22050  \n",
            "19                 aá        aá        aa_  22050  \n",
            "20                 aá        aá        aa_  22050  \n",
            "21                 aá        aá        aa_  22050  \n",
            "22                 aá        aá        aa_  22050  \n",
            "23                 aá        aá        aa_  22050  \n",
            "24                 aá        aá        aa_  22050  \n",
            "25                 aá        aá        aa_  22050  \n",
            "26                 aá        aá        aa_  22050  \n",
            "27                 aá        aá        aa_  22050  \n",
            "28                 aá        aá        aa_  22050  \n",
            "29                 aá        aá        aa_  22050  \n",
            "30                 aá        aá        aa_  22050  \n",
            "31                 aá        aá        aa_  22050  \n",
            "32                 aá        aá        aa_  22050  \n",
            "33                 aá        aá        aa_  22050  \n",
            "34                 aá        aá        aa_  22050  \n",
            "35                 aá        aá        aa_  22050  \n",
            "36                 aá        aá        aa_  22050  ,                   uid language     begin       end  duration   \n",
            "8    akie-1-030-95822     akie   95822.0   96442.0     620.0  \\\n",
            "9    akie-1-033-99525     akie   99525.0  100289.0     764.0   \n",
            "10  akie-1-041-112708     akie  112708.0  113647.0     939.0   \n",
            "11  akie-1-048-125403     akie  125403.0  125935.0     532.0   \n",
            "12  akie-1-074-183638     akie  183638.0  184542.0     904.0   \n",
            "13  akie-1-076-186733     akie  186733.0  187438.0     705.0   \n",
            "14  akie-1-078-189573     akie  189573.0  190705.0    1132.0   \n",
            "15  akie-1-083-198073     akie  198073.0  198794.0     721.0   \n",
            "16  akie-1-087-205578     akie  205578.0  206094.0     516.0   \n",
            "17  akie-1-103-230912     akie  230912.0  231810.0     898.0   \n",
            "18  akie-1-105-234173     akie  234173.0  234831.0     658.0   \n",
            "19  akie-1-108-237562     akie  237562.0  238347.0     785.0   \n",
            "20  akie-1-127-274810     akie  274810.0  275768.0     958.0   \n",
            "21  akie-1-132-285746     akie  285746.0  286489.0     743.0   \n",
            "22  akie-1-146-315052     akie  315052.0  316031.0     979.0   \n",
            "23  akie-1-149-320678     akie  320678.0  321089.0     411.0   \n",
            "24  akie-1-153-327799     akie  327799.0  328542.0     743.0   \n",
            "25  akie-1-156-332779     akie  332779.0  333547.0     768.0   \n",
            "26  akie-1-172-373624     akie  373624.0  374426.0     802.0   \n",
            "27  akie-1-176-380275     akie  380275.0  381003.0     728.0   \n",
            "28  akie-1-178-386315     akie  386315.0  386870.0     555.0   \n",
            "29  akie-1-180-392001     akie  392001.0  392513.0     512.0   \n",
            "30  akie-1-182-395794     akie  395794.0  396578.0     784.0   \n",
            "31  akie-1-190-411123     akie  411123.0  411734.0     611.0   \n",
            "32  akie-1-193-414528     akie  414528.0  415213.0     685.0   \n",
            "33  akie-1-196-417624     akie  417624.0  418247.0     623.0   \n",
            "34  akie-1-198-420819     akie  420819.0  421148.0     329.0   \n",
            "35  akie-1-209-441166     akie  441166.0  441654.0     488.0   \n",
            "36  akie-1-212-449198     akie  449198.0  449791.0     593.0   \n",
            "\n",
            "                                               source participant   \n",
            "8   /akie1/2014-01-20Gitu4ConversationBahatiNkoiseyyo           B  \\\n",
            "9   /akie1/2014-01-20Gitu4ConversationBahatiNkoiseyyo           B   \n",
            "10  /akie1/2014-01-20Gitu4ConversationBahatiNkoiseyyo           B   \n",
            "11  /akie1/2014-01-20Gitu4ConversationBahatiNkoiseyyo           B   \n",
            "12  /akie1/2014-01-20Gitu4ConversationBahatiNkoiseyyo           B   \n",
            "13  /akie1/2014-01-20Gitu4ConversationBahatiNkoiseyyo           B   \n",
            "14  /akie1/2014-01-20Gitu4ConversationBahatiNkoiseyyo           B   \n",
            "15  /akie1/2014-01-20Gitu4ConversationBahatiNkoiseyyo           B   \n",
            "16  /akie1/2014-01-20Gitu4ConversationBahatiNkoiseyyo           B   \n",
            "17  /akie1/2014-01-20Gitu4ConversationBahatiNkoiseyyo           B   \n",
            "18  /akie1/2014-01-20Gitu4ConversationBahatiNkoiseyyo           B   \n",
            "19  /akie1/2014-01-20Gitu4ConversationBahatiNkoiseyyo           B   \n",
            "20  /akie1/2014-01-20Gitu4ConversationBahatiNkoiseyyo           B   \n",
            "21  /akie1/2014-01-20Gitu4ConversationBahatiNkoiseyyo           B   \n",
            "22  /akie1/2014-01-20Gitu4ConversationBahatiNkoiseyyo           B   \n",
            "23  /akie1/2014-01-20Gitu4ConversationBahatiNkoiseyyo           B   \n",
            "24  /akie1/2014-01-20Gitu4ConversationBahatiNkoiseyyo           B   \n",
            "25  /akie1/2014-01-20Gitu4ConversationBahatiNkoiseyyo           B   \n",
            "26  /akie1/2014-01-20Gitu4ConversationBahatiNkoiseyyo           B   \n",
            "27  /akie1/2014-01-20Gitu4ConversationBahatiNkoiseyyo           B   \n",
            "28  /akie1/2014-01-20Gitu4ConversationBahatiNkoiseyyo           B   \n",
            "29  /akie1/2014-01-20Gitu4ConversationBahatiNkoiseyyo           B   \n",
            "30  /akie1/2014-01-20Gitu4ConversationBahatiNkoiseyyo           B   \n",
            "31  /akie1/2014-01-20Gitu4ConversationBahatiNkoiseyyo           B   \n",
            "32  /akie1/2014-01-20Gitu4ConversationBahatiNkoiseyyo           B   \n",
            "33  /akie1/2014-01-20Gitu4ConversationBahatiNkoiseyyo           B   \n",
            "34  /akie1/2014-01-20Gitu4ConversationBahatiNkoiseyyo           B   \n",
            "35  /akie1/2014-01-20Gitu4ConversationBahatiNkoiseyyo           B   \n",
            "36  /akie1/2014-01-20Gitu4ConversationBahatiNkoiseyyo           B   \n",
            "\n",
            "   utterance_stripped utterance form_ascii   rate  \n",
            "8                  aá        aá        aa_  22050  \n",
            "9                  aá        aá        aa_  22050  \n",
            "10                 aá        aá        aa_  22050  \n",
            "11                 aá        aá        aa_  22050  \n",
            "12                 aá        aá        aa_  22050  \n",
            "13                 aá        aá        aa_  22050  \n",
            "14                 aá        aá        aa_  22050  \n",
            "15                 aá        aá        aa_  22050  \n",
            "16                 aá        aá        aa_  22050  \n",
            "17                 aá        aá        aa_  22050  \n",
            "18                 aá        aá        aa_  22050  \n",
            "19                 aá        aá        aa_  22050  \n",
            "20                 aá        aá        aa_  22050  \n",
            "21                 aá        aá        aa_  22050  \n",
            "22                 aá        aá        aa_  22050  \n",
            "23                 aá        aá        aa_  22050  \n",
            "24                 aá        aá        aa_  22050  \n",
            "25                 aá        aá        aa_  22050  \n",
            "26                 aá        aá        aa_  22050  \n",
            "27                 aá        aá        aa_  22050  \n",
            "28                 aá        aá        aa_  22050  \n",
            "29                 aá        aá        aa_  22050  \n",
            "30                 aá        aá        aa_  22050  \n",
            "31                 aá        aá        aa_  22050  \n",
            "32                 aá        aá        aa_  22050  \n",
            "33                 aá        aá        aa_  22050  \n",
            "34                 aá        aá        aa_  22050  \n",
            "35                 aá        aá        aa_  22050  \n",
            "36                 aá        aá        aa_  22050  ]\n"
          ]
        },
        {
          "name": "stderr",
          "output_type": "stream",
          "text": [
            "/tmp/ipykernel_2450982/2935496521.py:19: SettingWithCopyWarning: \n",
            "A value is trying to be set on a copy of a slice from a DataFrame.\n",
            "Try using .loc[row_indexer,col_indexer] = value instead\n",
            "\n",
            "See the caveats in the documentation: https://pandas.pydata.org/pandas-docs/stable/user_guide/indexing.html#returning-a-view-versus-a-copy\n",
            "  df_audio[\"rate\"] = rate\n"
          ]
        }
      ],
      "source": [
        "#execute as for loop\n",
        "#[get_row_audio(df_audio[df_audio.source == source], './Elpaco dataset'+ source +'.wav') for source in df_audio.source]\n",
        "#[get_sampling_rate(f'./Elpaco dataset{source}.wav') for source in df_audio.source[1:10]]\n",
        "\n",
        "df_audio_10 = [get_row_audio(df_audio[df_audio.source == source], f'./Elpaco dataset{source}.wav') for source in df_audio.source[1:10]]\n",
        "#[get_sampling_rate('./Elpaco dataset'+ source +'.wav') for source in df_audio.source]\n",
        "\n",
        "print(df_audio_10)\n"
      ]
    },
    {
      "cell_type": "code",
      "execution_count": 24,
      "metadata": {},
      "outputs": [
        {
          "ename": "TypeError",
          "evalue": "list indices must be integers or slices, not str",
          "output_type": "error",
          "traceback": [
            "\u001b[0;31m---------------------------------------------------------------------------\u001b[0m",
            "\u001b[0;31mTypeError\u001b[0m                                 Traceback (most recent call last)",
            "Cell \u001b[0;32mIn[24], line 1\u001b[0m\n\u001b[0;32m----> 1\u001b[0m \u001b[39mprint\u001b[39m(df_audio_10[\u001b[39m\"\u001b[39;49m\u001b[39mrate\u001b[39;49m\u001b[39m\"\u001b[39;49m])\n",
            "\u001b[0;31mTypeError\u001b[0m: list indices must be integers or slices, not str"
          ]
        }
      ],
      "source": [
        "print(df_audio_10[\"rate\"])"
      ]
    },
    {
      "cell_type": "code",
      "execution_count": 7,
      "metadata": {},
      "outputs": [
        {
          "name": "stderr",
          "output_type": "stream",
          "text": [
            "  0%|                                                                                                                                       | 0/139551 [00:00<?, ?it/s][Parallel(n_jobs=1)]: Using backend SequentialBackend with 1 concurrent workers.\n"
          ]
        },
        {
          "name": "stdout",
          "output_type": "stream",
          "text": [
            "./Elpaco dataset/akhoe_haikom1/state_hospital.wav\n"
          ]
        },
        {
          "name": "stderr",
          "output_type": "stream",
          "text": [
            "/tmp/ipykernel_2450982/2935496521.py:19: SettingWithCopyWarning: \n",
            "A value is trying to be set on a copy of a slice from a DataFrame.\n",
            "Try using .loc[row_indexer,col_indexer] = value instead\n",
            "\n",
            "See the caveats in the documentation: https://pandas.pydata.org/pandas-docs/stable/user_guide/indexing.html#returning-a-view-versus-a-copy\n",
            "  df_audio[\"rate\"] = rate\n",
            "[Parallel(n_jobs=1)]: Done   1 out of   1 | elapsed:    2.1s remaining:    0.0s\n",
            "  0%|                                                                                                                            | 1/139551 [00:02<80:08:57,  2.07s/it]"
          ]
        },
        {
          "name": "stdout",
          "output_type": "stream",
          "text": [
            "[-0.0135576   0.00900845 -0.00217441 ... -0.00039207 -0.00038838\n",
            " -0.00041938]\n",
            "./Elpaco dataset/akhoe_haikom1/state_hospital.wav\n"
          ]
        },
        {
          "name": "stderr",
          "output_type": "stream",
          "text": [
            "/tmp/ipykernel_2450982/2935496521.py:19: SettingWithCopyWarning: \n",
            "A value is trying to be set on a copy of a slice from a DataFrame.\n",
            "Try using .loc[row_indexer,col_indexer] = value instead\n",
            "\n",
            "See the caveats in the documentation: https://pandas.pydata.org/pandas-docs/stable/user_guide/indexing.html#returning-a-view-versus-a-copy\n",
            "  df_audio[\"rate\"] = rate\n",
            "[Parallel(n_jobs=1)]: Done   2 out of   2 | elapsed:    4.1s remaining:    0.0s\n",
            "  0%|                                                                                                                            | 2/139551 [00:04<80:08:32,  2.07s/it]"
          ]
        },
        {
          "name": "stdout",
          "output_type": "stream",
          "text": [
            "[-0.0135576   0.00900845 -0.00217441 ... -0.00039207 -0.00038838\n",
            " -0.00041938]\n",
            "./Elpaco dataset/akhoe_haikom1/state_hospital.wav\n"
          ]
        },
        {
          "name": "stderr",
          "output_type": "stream",
          "text": [
            "/tmp/ipykernel_2450982/2935496521.py:19: SettingWithCopyWarning: \n",
            "A value is trying to be set on a copy of a slice from a DataFrame.\n",
            "Try using .loc[row_indexer,col_indexer] = value instead\n",
            "\n",
            "See the caveats in the documentation: https://pandas.pydata.org/pandas-docs/stable/user_guide/indexing.html#returning-a-view-versus-a-copy\n",
            "  df_audio[\"rate\"] = rate\n",
            "[Parallel(n_jobs=1)]: Done   3 out of   3 | elapsed:    6.2s remaining:    0.0s\n",
            "  0%|                                                                                                                            | 3/139551 [00:06<80:07:38,  2.07s/it]"
          ]
        },
        {
          "name": "stdout",
          "output_type": "stream",
          "text": [
            "[-0.0135576   0.00900845 -0.00217441 ... -0.00039207 -0.00038838\n",
            " -0.00041938]\n",
            "./Elpaco dataset/akhoe_haikom1/state_hospital.wav\n"
          ]
        },
        {
          "name": "stderr",
          "output_type": "stream",
          "text": [
            "/tmp/ipykernel_2450982/2935496521.py:19: SettingWithCopyWarning: \n",
            "A value is trying to be set on a copy of a slice from a DataFrame.\n",
            "Try using .loc[row_indexer,col_indexer] = value instead\n",
            "\n",
            "See the caveats in the documentation: https://pandas.pydata.org/pandas-docs/stable/user_guide/indexing.html#returning-a-view-versus-a-copy\n",
            "  df_audio[\"rate\"] = rate\n",
            "[Parallel(n_jobs=1)]: Done   4 out of   4 | elapsed:    8.3s remaining:    0.0s\n",
            "  0%|                                                                                                                            | 4/139551 [00:08<80:02:24,  2.06s/it]"
          ]
        },
        {
          "name": "stdout",
          "output_type": "stream",
          "text": [
            "[-0.0135576   0.00900845 -0.00217441 ... -0.00039207 -0.00038838\n",
            " -0.00041938]\n",
            "./Elpaco dataset/akhoe_haikom1/state_hospital.wav\n"
          ]
        },
        {
          "name": "stderr",
          "output_type": "stream",
          "text": [
            "/tmp/ipykernel_2450982/2935496521.py:19: SettingWithCopyWarning: \n",
            "A value is trying to be set on a copy of a slice from a DataFrame.\n",
            "Try using .loc[row_indexer,col_indexer] = value instead\n",
            "\n",
            "See the caveats in the documentation: https://pandas.pydata.org/pandas-docs/stable/user_guide/indexing.html#returning-a-view-versus-a-copy\n",
            "  df_audio[\"rate\"] = rate\n",
            "[Parallel(n_jobs=1)]: Done   5 out of   5 | elapsed:   10.3s remaining:    0.0s\n",
            "  0%|                                                                                                                            | 5/139551 [00:10<80:02:09,  2.06s/it]"
          ]
        },
        {
          "name": "stdout",
          "output_type": "stream",
          "text": [
            "[-0.0135576   0.00900845 -0.00217441 ... -0.00039207 -0.00038838\n",
            " -0.00041938]\n",
            "./Elpaco dataset/akhoe_haikom1/state_hospital.wav\n"
          ]
        },
        {
          "name": "stderr",
          "output_type": "stream",
          "text": [
            "/tmp/ipykernel_2450982/2935496521.py:19: SettingWithCopyWarning: \n",
            "A value is trying to be set on a copy of a slice from a DataFrame.\n",
            "Try using .loc[row_indexer,col_indexer] = value instead\n",
            "\n",
            "See the caveats in the documentation: https://pandas.pydata.org/pandas-docs/stable/user_guide/indexing.html#returning-a-view-versus-a-copy\n",
            "  df_audio[\"rate\"] = rate\n",
            "[Parallel(n_jobs=1)]: Done   6 out of   6 | elapsed:   12.4s remaining:    0.0s\n",
            "  0%|                                                                                                                            | 6/139551 [00:12<80:01:14,  2.06s/it]"
          ]
        },
        {
          "name": "stdout",
          "output_type": "stream",
          "text": [
            "[-0.0135576   0.00900845 -0.00217441 ... -0.00039207 -0.00038838\n",
            " -0.00041938]\n",
            "./Elpaco dataset/akhoe_haikom1/state_hospital.wav\n"
          ]
        },
        {
          "name": "stderr",
          "output_type": "stream",
          "text": [
            "/tmp/ipykernel_2450982/2935496521.py:19: SettingWithCopyWarning: \n",
            "A value is trying to be set on a copy of a slice from a DataFrame.\n",
            "Try using .loc[row_indexer,col_indexer] = value instead\n",
            "\n",
            "See the caveats in the documentation: https://pandas.pydata.org/pandas-docs/stable/user_guide/indexing.html#returning-a-view-versus-a-copy\n",
            "  df_audio[\"rate\"] = rate\n",
            "[Parallel(n_jobs=1)]: Done   7 out of   7 | elapsed:   14.5s remaining:    0.0s\n",
            "  0%|                                                                                                                            | 7/139551 [00:14<80:04:24,  2.07s/it]"
          ]
        },
        {
          "name": "stdout",
          "output_type": "stream",
          "text": [
            "[-0.0135576   0.00900845 -0.00217441 ... -0.00039207 -0.00038838\n",
            " -0.00041938]\n",
            "./Elpaco dataset/akhoe_haikom1/state_hospital.wav\n"
          ]
        },
        {
          "name": "stderr",
          "output_type": "stream",
          "text": [
            "/tmp/ipykernel_2450982/2935496521.py:19: SettingWithCopyWarning: \n",
            "A value is trying to be set on a copy of a slice from a DataFrame.\n",
            "Try using .loc[row_indexer,col_indexer] = value instead\n",
            "\n",
            "See the caveats in the documentation: https://pandas.pydata.org/pandas-docs/stable/user_guide/indexing.html#returning-a-view-versus-a-copy\n",
            "  df_audio[\"rate\"] = rate\n",
            "[Parallel(n_jobs=1)]: Done   8 out of   8 | elapsed:   16.5s remaining:    0.0s\n",
            "  0%|                                                                                                                            | 8/139551 [00:16<80:12:56,  2.07s/it]"
          ]
        },
        {
          "name": "stdout",
          "output_type": "stream",
          "text": [
            "[-0.0135576   0.00900845 -0.00217441 ... -0.00039207 -0.00038838\n",
            " -0.00041938]\n",
            "./Elpaco dataset/akie1/2014-01-20Gitu4ConversationBahatiNkoiseyyo.wav\n"
          ]
        },
        {
          "name": "stderr",
          "output_type": "stream",
          "text": [
            "/tmp/ipykernel_2450982/2935496521.py:19: SettingWithCopyWarning: \n",
            "A value is trying to be set on a copy of a slice from a DataFrame.\n",
            "Try using .loc[row_indexer,col_indexer] = value instead\n",
            "\n",
            "See the caveats in the documentation: https://pandas.pydata.org/pandas-docs/stable/user_guide/indexing.html#returning-a-view-versus-a-copy\n",
            "  df_audio[\"rate\"] = rate\n",
            "[Parallel(n_jobs=1)]: Done   9 out of   9 | elapsed:   16.9s remaining:    0.0s\n",
            "  0%|                                                                                                                            | 9/139551 [00:16<59:12:18,  1.53s/it]"
          ]
        },
        {
          "name": "stdout",
          "output_type": "stream",
          "text": [
            "[ 3.2782555e-07 -4.1872263e-05 -2.2262335e-05 ... -4.3265522e-05\n",
            " -1.9449741e-05 -5.1818788e-05]\n",
            "./Elpaco dataset/akie1/2014-01-20Gitu4ConversationBahatiNkoiseyyo.wav\n"
          ]
        },
        {
          "name": "stderr",
          "output_type": "stream",
          "text": [
            "/tmp/ipykernel_2450982/2935496521.py:19: SettingWithCopyWarning: \n",
            "A value is trying to be set on a copy of a slice from a DataFrame.\n",
            "Try using .loc[row_indexer,col_indexer] = value instead\n",
            "\n",
            "See the caveats in the documentation: https://pandas.pydata.org/pandas-docs/stable/user_guide/indexing.html#returning-a-view-versus-a-copy\n",
            "  df_audio[\"rate\"] = rate\n",
            "  0%|                                                                                                                           | 10/139551 [00:17<44:55:27,  1.16s/it]"
          ]
        },
        {
          "name": "stdout",
          "output_type": "stream",
          "text": [
            "[ 3.2782555e-07 -4.1872263e-05 -2.2262335e-05 ... -4.3265522e-05\n",
            " -1.9449741e-05 -5.1818788e-05]\n",
            "./Elpaco dataset/akie1/2014-01-20Gitu4ConversationBahatiNkoiseyyo.wav\n"
          ]
        },
        {
          "name": "stderr",
          "output_type": "stream",
          "text": [
            "/tmp/ipykernel_2450982/2935496521.py:19: SettingWithCopyWarning: \n",
            "A value is trying to be set on a copy of a slice from a DataFrame.\n",
            "Try using .loc[row_indexer,col_indexer] = value instead\n",
            "\n",
            "See the caveats in the documentation: https://pandas.pydata.org/pandas-docs/stable/user_guide/indexing.html#returning-a-view-versus-a-copy\n",
            "  df_audio[\"rate\"] = rate\n",
            "  0%|                                                                                                                           | 11/139551 [00:17<35:09:20,  1.10it/s]"
          ]
        },
        {
          "name": "stdout",
          "output_type": "stream",
          "text": [
            "[ 3.2782555e-07 -4.1872263e-05 -2.2262335e-05 ... -4.3265522e-05\n",
            " -1.9449741e-05 -5.1818788e-05]\n",
            "./Elpaco dataset/akie1/2014-01-20Gitu4ConversationBahatiNkoiseyyo.wav\n"
          ]
        },
        {
          "name": "stderr",
          "output_type": "stream",
          "text": [
            "/tmp/ipykernel_2450982/2935496521.py:19: SettingWithCopyWarning: \n",
            "A value is trying to be set on a copy of a slice from a DataFrame.\n",
            "Try using .loc[row_indexer,col_indexer] = value instead\n",
            "\n",
            "See the caveats in the documentation: https://pandas.pydata.org/pandas-docs/stable/user_guide/indexing.html#returning-a-view-versus-a-copy\n",
            "  df_audio[\"rate\"] = rate\n",
            "  0%|                                                                                                                           | 12/139551 [00:17<28:24:14,  1.36it/s]"
          ]
        },
        {
          "name": "stdout",
          "output_type": "stream",
          "text": [
            "[ 3.2782555e-07 -4.1872263e-05 -2.2262335e-05 ... -4.3265522e-05\n",
            " -1.9449741e-05 -5.1818788e-05]\n",
            "./Elpaco dataset/akie1/2014-01-20Gitu4ConversationBahatiNkoiseyyo.wav\n"
          ]
        },
        {
          "name": "stderr",
          "output_type": "stream",
          "text": [
            "/tmp/ipykernel_2450982/2935496521.py:19: SettingWithCopyWarning: \n",
            "A value is trying to be set on a copy of a slice from a DataFrame.\n",
            "Try using .loc[row_indexer,col_indexer] = value instead\n",
            "\n",
            "See the caveats in the documentation: https://pandas.pydata.org/pandas-docs/stable/user_guide/indexing.html#returning-a-view-versus-a-copy\n",
            "  df_audio[\"rate\"] = rate\n",
            "  0%|                                                                                                                           | 13/139551 [00:18<23:44:21,  1.63it/s]"
          ]
        },
        {
          "name": "stdout",
          "output_type": "stream",
          "text": [
            "[ 3.2782555e-07 -4.1872263e-05 -2.2262335e-05 ... -4.3265522e-05\n",
            " -1.9449741e-05 -5.1818788e-05]\n",
            "./Elpaco dataset/akie1/2014-01-20Gitu4ConversationBahatiNkoiseyyo.wav\n"
          ]
        },
        {
          "name": "stderr",
          "output_type": "stream",
          "text": [
            "/tmp/ipykernel_2450982/2935496521.py:19: SettingWithCopyWarning: \n",
            "A value is trying to be set on a copy of a slice from a DataFrame.\n",
            "Try using .loc[row_indexer,col_indexer] = value instead\n",
            "\n",
            "See the caveats in the documentation: https://pandas.pydata.org/pandas-docs/stable/user_guide/indexing.html#returning-a-view-versus-a-copy\n",
            "  df_audio[\"rate\"] = rate\n",
            "  0%|                                                                                                                           | 14/139551 [00:18<20:29:54,  1.89it/s]"
          ]
        },
        {
          "name": "stdout",
          "output_type": "stream",
          "text": [
            "[ 3.2782555e-07 -4.1872263e-05 -2.2262335e-05 ... -4.3265522e-05\n",
            " -1.9449741e-05 -5.1818788e-05]\n",
            "./Elpaco dataset/akie1/2014-01-20Gitu4ConversationBahatiNkoiseyyo.wav\n"
          ]
        },
        {
          "name": "stderr",
          "output_type": "stream",
          "text": [
            "/tmp/ipykernel_2450982/2935496521.py:19: SettingWithCopyWarning: \n",
            "A value is trying to be set on a copy of a slice from a DataFrame.\n",
            "Try using .loc[row_indexer,col_indexer] = value instead\n",
            "\n",
            "See the caveats in the documentation: https://pandas.pydata.org/pandas-docs/stable/user_guide/indexing.html#returning-a-view-versus-a-copy\n",
            "  df_audio[\"rate\"] = rate\n",
            "  0%|                                                                                                                           | 15/139551 [00:18<18:14:55,  2.12it/s]"
          ]
        },
        {
          "name": "stdout",
          "output_type": "stream",
          "text": [
            "[ 3.2782555e-07 -4.1872263e-05 -2.2262335e-05 ... -4.3265522e-05\n",
            " -1.9449741e-05 -5.1818788e-05]\n",
            "./Elpaco dataset/akie1/2014-01-20Gitu4ConversationBahatiNkoiseyyo.wav\n"
          ]
        },
        {
          "name": "stderr",
          "output_type": "stream",
          "text": [
            "/tmp/ipykernel_2450982/2935496521.py:19: SettingWithCopyWarning: \n",
            "A value is trying to be set on a copy of a slice from a DataFrame.\n",
            "Try using .loc[row_indexer,col_indexer] = value instead\n",
            "\n",
            "See the caveats in the documentation: https://pandas.pydata.org/pandas-docs/stable/user_guide/indexing.html#returning-a-view-versus-a-copy\n",
            "  df_audio[\"rate\"] = rate\n",
            "  0%|                                                                                                                           | 16/139551 [00:19<16:39:23,  2.33it/s]"
          ]
        },
        {
          "name": "stdout",
          "output_type": "stream",
          "text": [
            "[ 3.2782555e-07 -4.1872263e-05 -2.2262335e-05 ... -4.3265522e-05\n",
            " -1.9449741e-05 -5.1818788e-05]\n",
            "./Elpaco dataset/akie1/2014-01-20Gitu4ConversationBahatiNkoiseyyo.wav\n"
          ]
        },
        {
          "name": "stderr",
          "output_type": "stream",
          "text": [
            "/tmp/ipykernel_2450982/2935496521.py:19: SettingWithCopyWarning: \n",
            "A value is trying to be set on a copy of a slice from a DataFrame.\n",
            "Try using .loc[row_indexer,col_indexer] = value instead\n",
            "\n",
            "See the caveats in the documentation: https://pandas.pydata.org/pandas-docs/stable/user_guide/indexing.html#returning-a-view-versus-a-copy\n",
            "  df_audio[\"rate\"] = rate\n",
            "  0%|                                                                                                                           | 17/139551 [00:19<15:32:29,  2.49it/s]"
          ]
        },
        {
          "name": "stdout",
          "output_type": "stream",
          "text": [
            "[ 3.2782555e-07 -4.1872263e-05 -2.2262335e-05 ... -4.3265522e-05\n",
            " -1.9449741e-05 -5.1818788e-05]\n",
            "./Elpaco dataset/akie1/2014-01-20Gitu4ConversationBahatiNkoiseyyo.wav\n"
          ]
        },
        {
          "name": "stderr",
          "output_type": "stream",
          "text": [
            "/tmp/ipykernel_2450982/2935496521.py:19: SettingWithCopyWarning: \n",
            "A value is trying to be set on a copy of a slice from a DataFrame.\n",
            "Try using .loc[row_indexer,col_indexer] = value instead\n",
            "\n",
            "See the caveats in the documentation: https://pandas.pydata.org/pandas-docs/stable/user_guide/indexing.html#returning-a-view-versus-a-copy\n",
            "  df_audio[\"rate\"] = rate\n",
            "  0%|                                                                                                                           | 18/139551 [00:19<14:47:29,  2.62it/s]"
          ]
        },
        {
          "name": "stdout",
          "output_type": "stream",
          "text": [
            "[ 3.2782555e-07 -4.1872263e-05 -2.2262335e-05 ... -4.3265522e-05\n",
            " -1.9449741e-05 -5.1818788e-05]\n",
            "./Elpaco dataset/akie1/2014-01-20Gitu4ConversationBahatiNkoiseyyo.wav\n"
          ]
        },
        {
          "name": "stderr",
          "output_type": "stream",
          "text": [
            "/tmp/ipykernel_2450982/2935496521.py:19: SettingWithCopyWarning: \n",
            "A value is trying to be set on a copy of a slice from a DataFrame.\n",
            "Try using .loc[row_indexer,col_indexer] = value instead\n",
            "\n",
            "See the caveats in the documentation: https://pandas.pydata.org/pandas-docs/stable/user_guide/indexing.html#returning-a-view-versus-a-copy\n",
            "  df_audio[\"rate\"] = rate\n",
            "  0%|                                                                                                                           | 19/139551 [00:20<14:16:08,  2.72it/s]"
          ]
        },
        {
          "name": "stdout",
          "output_type": "stream",
          "text": [
            "[ 3.2782555e-07 -4.1872263e-05 -2.2262335e-05 ... -4.3265522e-05\n",
            " -1.9449741e-05 -5.1818788e-05]\n",
            "./Elpaco dataset/akie1/2014-01-20Gitu4ConversationBahatiNkoiseyyo.wav\n"
          ]
        },
        {
          "name": "stderr",
          "output_type": "stream",
          "text": [
            "/tmp/ipykernel_2450982/2935496521.py:19: SettingWithCopyWarning: \n",
            "A value is trying to be set on a copy of a slice from a DataFrame.\n",
            "Try using .loc[row_indexer,col_indexer] = value instead\n",
            "\n",
            "See the caveats in the documentation: https://pandas.pydata.org/pandas-docs/stable/user_guide/indexing.html#returning-a-view-versus-a-copy\n",
            "  df_audio[\"rate\"] = rate\n",
            "  0%|                                                                                                                           | 20/139551 [00:20<13:54:20,  2.79it/s]"
          ]
        },
        {
          "name": "stdout",
          "output_type": "stream",
          "text": [
            "[ 3.2782555e-07 -4.1872263e-05 -2.2262335e-05 ... -4.3265522e-05\n",
            " -1.9449741e-05 -5.1818788e-05]\n",
            "./Elpaco dataset/akie1/2014-01-20Gitu4ConversationBahatiNkoiseyyo.wav\n"
          ]
        },
        {
          "name": "stderr",
          "output_type": "stream",
          "text": [
            "/tmp/ipykernel_2450982/2935496521.py:19: SettingWithCopyWarning: \n",
            "A value is trying to be set on a copy of a slice from a DataFrame.\n",
            "Try using .loc[row_indexer,col_indexer] = value instead\n",
            "\n",
            "See the caveats in the documentation: https://pandas.pydata.org/pandas-docs/stable/user_guide/indexing.html#returning-a-view-versus-a-copy\n",
            "  df_audio[\"rate\"] = rate\n",
            "  0%|                                                                                                                           | 21/139551 [00:20<13:38:43,  2.84it/s]"
          ]
        },
        {
          "name": "stdout",
          "output_type": "stream",
          "text": [
            "[ 3.2782555e-07 -4.1872263e-05 -2.2262335e-05 ... -4.3265522e-05\n",
            " -1.9449741e-05 -5.1818788e-05]\n",
            "./Elpaco dataset/akie1/2014-01-20Gitu4ConversationBahatiNkoiseyyo.wav\n"
          ]
        },
        {
          "name": "stderr",
          "output_type": "stream",
          "text": [
            "/tmp/ipykernel_2450982/2935496521.py:19: SettingWithCopyWarning: \n",
            "A value is trying to be set on a copy of a slice from a DataFrame.\n",
            "Try using .loc[row_indexer,col_indexer] = value instead\n",
            "\n",
            "See the caveats in the documentation: https://pandas.pydata.org/pandas-docs/stable/user_guide/indexing.html#returning-a-view-versus-a-copy\n",
            "  df_audio[\"rate\"] = rate\n",
            "  0%|                                                                                                                           | 22/139551 [00:21<13:27:11,  2.88it/s]"
          ]
        },
        {
          "name": "stdout",
          "output_type": "stream",
          "text": [
            "[ 3.2782555e-07 -4.1872263e-05 -2.2262335e-05 ... -4.3265522e-05\n",
            " -1.9449741e-05 -5.1818788e-05]\n",
            "./Elpaco dataset/akie1/2014-01-20Gitu4ConversationBahatiNkoiseyyo.wav\n"
          ]
        },
        {
          "name": "stderr",
          "output_type": "stream",
          "text": [
            "/tmp/ipykernel_2450982/2935496521.py:19: SettingWithCopyWarning: \n",
            "A value is trying to be set on a copy of a slice from a DataFrame.\n",
            "Try using .loc[row_indexer,col_indexer] = value instead\n",
            "\n",
            "See the caveats in the documentation: https://pandas.pydata.org/pandas-docs/stable/user_guide/indexing.html#returning-a-view-versus-a-copy\n",
            "  df_audio[\"rate\"] = rate\n",
            "  0%|                                                                                                                           | 23/139551 [00:21<13:18:54,  2.91it/s]"
          ]
        },
        {
          "name": "stdout",
          "output_type": "stream",
          "text": [
            "[ 3.2782555e-07 -4.1872263e-05 -2.2262335e-05 ... -4.3265522e-05\n",
            " -1.9449741e-05 -5.1818788e-05]\n",
            "./Elpaco dataset/akie1/2014-01-20Gitu4ConversationBahatiNkoiseyyo.wav\n"
          ]
        },
        {
          "name": "stderr",
          "output_type": "stream",
          "text": [
            "/tmp/ipykernel_2450982/2935496521.py:19: SettingWithCopyWarning: \n",
            "A value is trying to be set on a copy of a slice from a DataFrame.\n",
            "Try using .loc[row_indexer,col_indexer] = value instead\n",
            "\n",
            "See the caveats in the documentation: https://pandas.pydata.org/pandas-docs/stable/user_guide/indexing.html#returning-a-view-versus-a-copy\n",
            "  df_audio[\"rate\"] = rate\n",
            "  0%|                                                                                                                           | 24/139551 [00:21<13:12:15,  2.94it/s]"
          ]
        },
        {
          "name": "stdout",
          "output_type": "stream",
          "text": [
            "[ 3.2782555e-07 -4.1872263e-05 -2.2262335e-05 ... -4.3265522e-05\n",
            " -1.9449741e-05 -5.1818788e-05]\n",
            "./Elpaco dataset/akie1/2014-01-20Gitu4ConversationBahatiNkoiseyyo.wav\n"
          ]
        },
        {
          "name": "stderr",
          "output_type": "stream",
          "text": [
            "/tmp/ipykernel_2450982/2935496521.py:19: SettingWithCopyWarning: \n",
            "A value is trying to be set on a copy of a slice from a DataFrame.\n",
            "Try using .loc[row_indexer,col_indexer] = value instead\n",
            "\n",
            "See the caveats in the documentation: https://pandas.pydata.org/pandas-docs/stable/user_guide/indexing.html#returning-a-view-versus-a-copy\n",
            "  df_audio[\"rate\"] = rate\n",
            "  0%|                                                                                                                           | 25/139551 [00:22<13:08:02,  2.95it/s]"
          ]
        },
        {
          "name": "stdout",
          "output_type": "stream",
          "text": [
            "[ 3.2782555e-07 -4.1872263e-05 -2.2262335e-05 ... -4.3265522e-05\n",
            " -1.9449741e-05 -5.1818788e-05]\n",
            "./Elpaco dataset/akie1/2014-01-20Gitu4ConversationBahatiNkoiseyyo.wav\n"
          ]
        },
        {
          "name": "stderr",
          "output_type": "stream",
          "text": [
            "/tmp/ipykernel_2450982/2935496521.py:19: SettingWithCopyWarning: \n",
            "A value is trying to be set on a copy of a slice from a DataFrame.\n",
            "Try using .loc[row_indexer,col_indexer] = value instead\n",
            "\n",
            "See the caveats in the documentation: https://pandas.pydata.org/pandas-docs/stable/user_guide/indexing.html#returning-a-view-versus-a-copy\n",
            "  df_audio[\"rate\"] = rate\n",
            "  0%|                                                                                                                           | 26/139551 [00:22<13:04:45,  2.96it/s]"
          ]
        },
        {
          "name": "stdout",
          "output_type": "stream",
          "text": [
            "[ 3.2782555e-07 -4.1872263e-05 -2.2262335e-05 ... -4.3265522e-05\n",
            " -1.9449741e-05 -5.1818788e-05]\n",
            "./Elpaco dataset/akie1/2014-01-20Gitu4ConversationBahatiNkoiseyyo.wav\n"
          ]
        },
        {
          "name": "stderr",
          "output_type": "stream",
          "text": [
            "/tmp/ipykernel_2450982/2935496521.py:19: SettingWithCopyWarning: \n",
            "A value is trying to be set on a copy of a slice from a DataFrame.\n",
            "Try using .loc[row_indexer,col_indexer] = value instead\n",
            "\n",
            "See the caveats in the documentation: https://pandas.pydata.org/pandas-docs/stable/user_guide/indexing.html#returning-a-view-versus-a-copy\n",
            "  df_audio[\"rate\"] = rate\n",
            "  0%|                                                                                                                           | 27/139551 [00:22<13:03:20,  2.97it/s]"
          ]
        },
        {
          "name": "stdout",
          "output_type": "stream",
          "text": [
            "[ 3.2782555e-07 -4.1872263e-05 -2.2262335e-05 ... -4.3265522e-05\n",
            " -1.9449741e-05 -5.1818788e-05]\n",
            "./Elpaco dataset/akie1/2014-01-20Gitu4ConversationBahatiNkoiseyyo.wav\n"
          ]
        },
        {
          "name": "stderr",
          "output_type": "stream",
          "text": [
            "/tmp/ipykernel_2450982/2935496521.py:19: SettingWithCopyWarning: \n",
            "A value is trying to be set on a copy of a slice from a DataFrame.\n",
            "Try using .loc[row_indexer,col_indexer] = value instead\n",
            "\n",
            "See the caveats in the documentation: https://pandas.pydata.org/pandas-docs/stable/user_guide/indexing.html#returning-a-view-versus-a-copy\n",
            "  df_audio[\"rate\"] = rate\n",
            "  0%|                                                                                                                           | 28/139551 [00:23<13:02:30,  2.97it/s]"
          ]
        },
        {
          "name": "stdout",
          "output_type": "stream",
          "text": [
            "[ 3.2782555e-07 -4.1872263e-05 -2.2262335e-05 ... -4.3265522e-05\n",
            " -1.9449741e-05 -5.1818788e-05]\n",
            "./Elpaco dataset/akie1/2014-01-20Gitu4ConversationBahatiNkoiseyyo.wav\n"
          ]
        },
        {
          "name": "stderr",
          "output_type": "stream",
          "text": [
            "/tmp/ipykernel_2450982/2935496521.py:19: SettingWithCopyWarning: \n",
            "A value is trying to be set on a copy of a slice from a DataFrame.\n",
            "Try using .loc[row_indexer,col_indexer] = value instead\n",
            "\n",
            "See the caveats in the documentation: https://pandas.pydata.org/pandas-docs/stable/user_guide/indexing.html#returning-a-view-versus-a-copy\n",
            "  df_audio[\"rate\"] = rate\n",
            "  0%|                                                                                                                           | 29/139551 [00:23<13:01:43,  2.97it/s]"
          ]
        },
        {
          "name": "stdout",
          "output_type": "stream",
          "text": [
            "[ 3.2782555e-07 -4.1872263e-05 -2.2262335e-05 ... -4.3265522e-05\n",
            " -1.9449741e-05 -5.1818788e-05]\n",
            "./Elpaco dataset/akie1/2014-01-20Gitu4ConversationBahatiNkoiseyyo.wav\n"
          ]
        },
        {
          "name": "stderr",
          "output_type": "stream",
          "text": [
            "/tmp/ipykernel_2450982/2935496521.py:19: SettingWithCopyWarning: \n",
            "A value is trying to be set on a copy of a slice from a DataFrame.\n",
            "Try using .loc[row_indexer,col_indexer] = value instead\n",
            "\n",
            "See the caveats in the documentation: https://pandas.pydata.org/pandas-docs/stable/user_guide/indexing.html#returning-a-view-versus-a-copy\n",
            "  df_audio[\"rate\"] = rate\n",
            "  0%|                                                                                                                           | 30/139551 [00:23<13:01:18,  2.98it/s]"
          ]
        },
        {
          "name": "stdout",
          "output_type": "stream",
          "text": [
            "[ 3.2782555e-07 -4.1872263e-05 -2.2262335e-05 ... -4.3265522e-05\n",
            " -1.9449741e-05 -5.1818788e-05]\n",
            "./Elpaco dataset/akie1/2014-01-20Gitu4ConversationBahatiNkoiseyyo.wav\n"
          ]
        },
        {
          "name": "stderr",
          "output_type": "stream",
          "text": [
            "/tmp/ipykernel_2450982/2935496521.py:19: SettingWithCopyWarning: \n",
            "A value is trying to be set on a copy of a slice from a DataFrame.\n",
            "Try using .loc[row_indexer,col_indexer] = value instead\n",
            "\n",
            "See the caveats in the documentation: https://pandas.pydata.org/pandas-docs/stable/user_guide/indexing.html#returning-a-view-versus-a-copy\n",
            "  df_audio[\"rate\"] = rate\n",
            "  0%|                                                                                                                           | 31/139551 [00:24<13:00:16,  2.98it/s]"
          ]
        },
        {
          "name": "stdout",
          "output_type": "stream",
          "text": [
            "[ 3.2782555e-07 -4.1872263e-05 -2.2262335e-05 ... -4.3265522e-05\n",
            " -1.9449741e-05 -5.1818788e-05]\n",
            "./Elpaco dataset/akie1/2014-01-20Gitu4ConversationBahatiNkoiseyyo.wav\n"
          ]
        },
        {
          "name": "stderr",
          "output_type": "stream",
          "text": [
            "/tmp/ipykernel_2450982/2935496521.py:19: SettingWithCopyWarning: \n",
            "A value is trying to be set on a copy of a slice from a DataFrame.\n",
            "Try using .loc[row_indexer,col_indexer] = value instead\n",
            "\n",
            "See the caveats in the documentation: https://pandas.pydata.org/pandas-docs/stable/user_guide/indexing.html#returning-a-view-versus-a-copy\n",
            "  df_audio[\"rate\"] = rate\n",
            "  0%|                                                                                                                           | 32/139551 [00:24<13:00:37,  2.98it/s]"
          ]
        },
        {
          "name": "stdout",
          "output_type": "stream",
          "text": [
            "[ 3.2782555e-07 -4.1872263e-05 -2.2262335e-05 ... -4.3265522e-05\n",
            " -1.9449741e-05 -5.1818788e-05]\n",
            "./Elpaco dataset/akie1/2014-01-20Gitu4ConversationBahatiNkoiseyyo.wav\n"
          ]
        },
        {
          "name": "stderr",
          "output_type": "stream",
          "text": [
            "/tmp/ipykernel_2450982/2935496521.py:19: SettingWithCopyWarning: \n",
            "A value is trying to be set on a copy of a slice from a DataFrame.\n",
            "Try using .loc[row_indexer,col_indexer] = value instead\n",
            "\n",
            "See the caveats in the documentation: https://pandas.pydata.org/pandas-docs/stable/user_guide/indexing.html#returning-a-view-versus-a-copy\n",
            "  df_audio[\"rate\"] = rate\n",
            "  0%|                                                                                                                           | 33/139551 [00:24<13:00:54,  2.98it/s]"
          ]
        },
        {
          "name": "stdout",
          "output_type": "stream",
          "text": [
            "[ 3.2782555e-07 -4.1872263e-05 -2.2262335e-05 ... -4.3265522e-05\n",
            " -1.9449741e-05 -5.1818788e-05]\n",
            "./Elpaco dataset/akie1/2014-01-20Gitu4ConversationBahatiNkoiseyyo.wav\n"
          ]
        },
        {
          "name": "stderr",
          "output_type": "stream",
          "text": [
            "/tmp/ipykernel_2450982/2935496521.py:19: SettingWithCopyWarning: \n",
            "A value is trying to be set on a copy of a slice from a DataFrame.\n",
            "Try using .loc[row_indexer,col_indexer] = value instead\n",
            "\n",
            "See the caveats in the documentation: https://pandas.pydata.org/pandas-docs/stable/user_guide/indexing.html#returning-a-view-versus-a-copy\n",
            "  df_audio[\"rate\"] = rate\n",
            "  0%|                                                                                                                           | 34/139551 [00:25<12:59:45,  2.98it/s]"
          ]
        },
        {
          "name": "stdout",
          "output_type": "stream",
          "text": [
            "[ 3.2782555e-07 -4.1872263e-05 -2.2262335e-05 ... -4.3265522e-05\n",
            " -1.9449741e-05 -5.1818788e-05]\n",
            "./Elpaco dataset/akie1/2014-01-20Gitu4ConversationBahatiNkoiseyyo.wav\n"
          ]
        },
        {
          "name": "stderr",
          "output_type": "stream",
          "text": [
            "/tmp/ipykernel_2450982/2935496521.py:19: SettingWithCopyWarning: \n",
            "A value is trying to be set on a copy of a slice from a DataFrame.\n",
            "Try using .loc[row_indexer,col_indexer] = value instead\n",
            "\n",
            "See the caveats in the documentation: https://pandas.pydata.org/pandas-docs/stable/user_guide/indexing.html#returning-a-view-versus-a-copy\n",
            "  df_audio[\"rate\"] = rate\n",
            "  0%|                                                                                                                           | 35/139551 [00:25<13:00:39,  2.98it/s]"
          ]
        },
        {
          "name": "stdout",
          "output_type": "stream",
          "text": [
            "[ 3.2782555e-07 -4.1872263e-05 -2.2262335e-05 ... -4.3265522e-05\n",
            " -1.9449741e-05 -5.1818788e-05]\n",
            "./Elpaco dataset/akie1/2014-01-20Gitu4ConversationBahatiNkoiseyyo.wav\n"
          ]
        },
        {
          "name": "stderr",
          "output_type": "stream",
          "text": [
            "/tmp/ipykernel_2450982/2935496521.py:19: SettingWithCopyWarning: \n",
            "A value is trying to be set on a copy of a slice from a DataFrame.\n",
            "Try using .loc[row_indexer,col_indexer] = value instead\n",
            "\n",
            "See the caveats in the documentation: https://pandas.pydata.org/pandas-docs/stable/user_guide/indexing.html#returning-a-view-versus-a-copy\n",
            "  df_audio[\"rate\"] = rate\n",
            "  0%|                                                                                                                           | 36/139551 [00:25<12:59:51,  2.98it/s]"
          ]
        },
        {
          "name": "stdout",
          "output_type": "stream",
          "text": [
            "[ 3.2782555e-07 -4.1872263e-05 -2.2262335e-05 ... -4.3265522e-05\n",
            " -1.9449741e-05 -5.1818788e-05]\n",
            "./Elpaco dataset/akie1/2014-01-20Gitu4ConversationBahatiNkoiseyyo.wav\n"
          ]
        },
        {
          "name": "stderr",
          "output_type": "stream",
          "text": [
            "/tmp/ipykernel_2450982/2935496521.py:19: SettingWithCopyWarning: \n",
            "A value is trying to be set on a copy of a slice from a DataFrame.\n",
            "Try using .loc[row_indexer,col_indexer] = value instead\n",
            "\n",
            "See the caveats in the documentation: https://pandas.pydata.org/pandas-docs/stable/user_guide/indexing.html#returning-a-view-versus-a-copy\n",
            "  df_audio[\"rate\"] = rate\n",
            "  0%|                                                                                                                           | 37/139551 [00:26<13:00:26,  2.98it/s]"
          ]
        },
        {
          "name": "stdout",
          "output_type": "stream",
          "text": [
            "[ 3.2782555e-07 -4.1872263e-05 -2.2262335e-05 ... -4.3265522e-05\n",
            " -1.9449741e-05 -5.1818788e-05]\n",
            "./Elpaco dataset/ambel1/AM064.wav\n"
          ]
        },
        {
          "name": "stderr",
          "output_type": "stream",
          "text": [
            "/tmp/ipykernel_2450982/2935496521.py:19: SettingWithCopyWarning: \n",
            "A value is trying to be set on a copy of a slice from a DataFrame.\n",
            "Try using .loc[row_indexer,col_indexer] = value instead\n",
            "\n",
            "See the caveats in the documentation: https://pandas.pydata.org/pandas-docs/stable/user_guide/indexing.html#returning-a-view-versus-a-copy\n",
            "  df_audio[\"rate\"] = rate\n",
            "  0%|                                                                                                                           | 38/139551 [00:27<26:15:27,  1.48it/s]"
          ]
        },
        {
          "name": "stdout",
          "output_type": "stream",
          "text": [
            "[0.01039876 0.01774596 0.01658991 ... 0.00565859 0.010403   0.        ]\n",
            "./Elpaco dataset/ambel1/AM064.wav\n"
          ]
        },
        {
          "name": "stderr",
          "output_type": "stream",
          "text": [
            "/tmp/ipykernel_2450982/2935496521.py:19: SettingWithCopyWarning: \n",
            "A value is trying to be set on a copy of a slice from a DataFrame.\n",
            "Try using .loc[row_indexer,col_indexer] = value instead\n",
            "\n",
            "See the caveats in the documentation: https://pandas.pydata.org/pandas-docs/stable/user_guide/indexing.html#returning-a-view-versus-a-copy\n",
            "  df_audio[\"rate\"] = rate\n",
            "  0%|                                                                                                                           | 39/139551 [00:29<35:32:26,  1.09it/s]"
          ]
        },
        {
          "name": "stdout",
          "output_type": "stream",
          "text": [
            "[0.01039876 0.01774596 0.01658991 ... 0.00565859 0.010403   0.        ]\n",
            "./Elpaco dataset/ambel1/AM064.wav\n"
          ]
        },
        {
          "name": "stderr",
          "output_type": "stream",
          "text": [
            "/tmp/ipykernel_2450982/2935496521.py:19: SettingWithCopyWarning: \n",
            "A value is trying to be set on a copy of a slice from a DataFrame.\n",
            "Try using .loc[row_indexer,col_indexer] = value instead\n",
            "\n",
            "See the caveats in the documentation: https://pandas.pydata.org/pandas-docs/stable/user_guide/indexing.html#returning-a-view-versus-a-copy\n",
            "  df_audio[\"rate\"] = rate\n",
            "  0%|                                                                                                                           | 40/139551 [00:30<42:03:01,  1.09s/it]"
          ]
        },
        {
          "name": "stdout",
          "output_type": "stream",
          "text": [
            "[0.01039876 0.01774596 0.01658991 ... 0.00565859 0.010403   0.        ]\n",
            "./Elpaco dataset/ambel1/AM064.wav\n"
          ]
        },
        {
          "name": "stderr",
          "output_type": "stream",
          "text": [
            "/tmp/ipykernel_2450982/2935496521.py:19: SettingWithCopyWarning: \n",
            "A value is trying to be set on a copy of a slice from a DataFrame.\n",
            "Try using .loc[row_indexer,col_indexer] = value instead\n",
            "\n",
            "See the caveats in the documentation: https://pandas.pydata.org/pandas-docs/stable/user_guide/indexing.html#returning-a-view-versus-a-copy\n",
            "  df_audio[\"rate\"] = rate\n",
            "  0%|                                                                                                                           | 41/139551 [00:32<46:33:55,  1.20s/it]"
          ]
        },
        {
          "name": "stdout",
          "output_type": "stream",
          "text": [
            "[0.01039876 0.01774596 0.01658991 ... 0.00565859 0.010403   0.        ]\n",
            "./Elpaco dataset/ambel1/AM064.wav\n"
          ]
        },
        {
          "name": "stderr",
          "output_type": "stream",
          "text": [
            "/tmp/ipykernel_2450982/2935496521.py:19: SettingWithCopyWarning: \n",
            "A value is trying to be set on a copy of a slice from a DataFrame.\n",
            "Try using .loc[row_indexer,col_indexer] = value instead\n",
            "\n",
            "See the caveats in the documentation: https://pandas.pydata.org/pandas-docs/stable/user_guide/indexing.html#returning-a-view-versus-a-copy\n",
            "  df_audio[\"rate\"] = rate\n",
            "  0%|                                                                                                                           | 42/139551 [00:33<49:44:18,  1.28s/it]"
          ]
        },
        {
          "name": "stdout",
          "output_type": "stream",
          "text": [
            "[0.01039876 0.01774596 0.01658991 ... 0.00565859 0.010403   0.        ]\n",
            "./Elpaco dataset/ambel1/AM064.wav\n"
          ]
        },
        {
          "ename": "KeyboardInterrupt",
          "evalue": "",
          "output_type": "error",
          "traceback": [
            "\u001b[0;31m---------------------------------------------------------------------------\u001b[0m",
            "\u001b[0;31mKeyboardInterrupt\u001b[0m                         Traceback (most recent call last)",
            "Cell \u001b[0;32mIn[7], line 4\u001b[0m\n\u001b[1;32m      1\u001b[0m \u001b[39m#execute using parallel \u001b[39;00m\n\u001b[1;32m      3\u001b[0m \u001b[39mwith\u001b[39;00m Parallel(n_jobs\u001b[39m=\u001b[39m\u001b[39m1\u001b[39m, verbose\u001b[39m=\u001b[39mverbosity) \u001b[39mas\u001b[39;00m parallel:\n\u001b[0;32m----> 4\u001b[0m     df_audios \u001b[39m=\u001b[39m parallel(\n\u001b[1;32m      5\u001b[0m         delayed(get_row_audio)(\n\u001b[1;32m      6\u001b[0m             df_audio[df_audio\u001b[39m.\u001b[39;49msource \u001b[39m==\u001b[39;49m source], \n\u001b[1;32m      7\u001b[0m             \u001b[39m'\u001b[39;49m\u001b[39m./Elpaco dataset\u001b[39;49m\u001b[39m'\u001b[39;49m\u001b[39m+\u001b[39;49m source \u001b[39m+\u001b[39;49m\u001b[39m'\u001b[39;49m\u001b[39m.wav\u001b[39;49m\u001b[39m'\u001b[39;49m, \u001b[39m#Edit path to corpus directory here\u001b[39;49;00m\n\u001b[1;32m      8\u001b[0m         )\n\u001b[1;32m      9\u001b[0m         \u001b[39mfor\u001b[39;49;00m source \u001b[39min\u001b[39;49;00m tqdm(df_audio\u001b[39m.\u001b[39;49msource)\n\u001b[1;32m     10\u001b[0m     )\n\u001b[1;32m     11\u001b[0m df_audio \u001b[39m=\u001b[39m pd\u001b[39m.\u001b[39mconcat(df_audios)\n\u001b[1;32m     12\u001b[0m \u001b[39mlen\u001b[39m(df_audio)\n",
            "File \u001b[0;32m~/elpaco/lib/python3.8/site-packages/joblib/parallel.py:1088\u001b[0m, in \u001b[0;36mParallel.__call__\u001b[0;34m(self, iterable)\u001b[0m\n\u001b[1;32m   1085\u001b[0m \u001b[39mif\u001b[39;00m \u001b[39mself\u001b[39m\u001b[39m.\u001b[39mdispatch_one_batch(iterator):\n\u001b[1;32m   1086\u001b[0m     \u001b[39mself\u001b[39m\u001b[39m.\u001b[39m_iterating \u001b[39m=\u001b[39m \u001b[39mself\u001b[39m\u001b[39m.\u001b[39m_original_iterator \u001b[39mis\u001b[39;00m \u001b[39mnot\u001b[39;00m \u001b[39mNone\u001b[39;00m\n\u001b[0;32m-> 1088\u001b[0m \u001b[39mwhile\u001b[39;00m \u001b[39mself\u001b[39;49m\u001b[39m.\u001b[39;49mdispatch_one_batch(iterator):\n\u001b[1;32m   1089\u001b[0m     \u001b[39mpass\u001b[39;00m\n\u001b[1;32m   1091\u001b[0m \u001b[39mif\u001b[39;00m pre_dispatch \u001b[39m==\u001b[39m \u001b[39m\"\u001b[39m\u001b[39mall\u001b[39m\u001b[39m\"\u001b[39m \u001b[39mor\u001b[39;00m n_jobs \u001b[39m==\u001b[39m \u001b[39m1\u001b[39m:\n\u001b[1;32m   1092\u001b[0m     \u001b[39m# The iterable was consumed all at once by the above for loop.\u001b[39;00m\n\u001b[1;32m   1093\u001b[0m     \u001b[39m# No need to wait for async callbacks to trigger to\u001b[39;00m\n\u001b[1;32m   1094\u001b[0m     \u001b[39m# consumption.\u001b[39;00m\n",
            "File \u001b[0;32m~/elpaco/lib/python3.8/site-packages/joblib/parallel.py:901\u001b[0m, in \u001b[0;36mParallel.dispatch_one_batch\u001b[0;34m(self, iterator)\u001b[0m\n\u001b[1;32m    899\u001b[0m     \u001b[39mreturn\u001b[39;00m \u001b[39mFalse\u001b[39;00m\n\u001b[1;32m    900\u001b[0m \u001b[39melse\u001b[39;00m:\n\u001b[0;32m--> 901\u001b[0m     \u001b[39mself\u001b[39;49m\u001b[39m.\u001b[39;49m_dispatch(tasks)\n\u001b[1;32m    902\u001b[0m     \u001b[39mreturn\u001b[39;00m \u001b[39mTrue\u001b[39;00m\n",
            "File \u001b[0;32m~/elpaco/lib/python3.8/site-packages/joblib/parallel.py:819\u001b[0m, in \u001b[0;36mParallel._dispatch\u001b[0;34m(self, batch)\u001b[0m\n\u001b[1;32m    817\u001b[0m \u001b[39mwith\u001b[39;00m \u001b[39mself\u001b[39m\u001b[39m.\u001b[39m_lock:\n\u001b[1;32m    818\u001b[0m     job_idx \u001b[39m=\u001b[39m \u001b[39mlen\u001b[39m(\u001b[39mself\u001b[39m\u001b[39m.\u001b[39m_jobs)\n\u001b[0;32m--> 819\u001b[0m     job \u001b[39m=\u001b[39m \u001b[39mself\u001b[39;49m\u001b[39m.\u001b[39;49m_backend\u001b[39m.\u001b[39;49mapply_async(batch, callback\u001b[39m=\u001b[39;49mcb)\n\u001b[1;32m    820\u001b[0m     \u001b[39m# A job can complete so quickly than its callback is\u001b[39;00m\n\u001b[1;32m    821\u001b[0m     \u001b[39m# called before we get here, causing self._jobs to\u001b[39;00m\n\u001b[1;32m    822\u001b[0m     \u001b[39m# grow. To ensure correct results ordering, .insert is\u001b[39;00m\n\u001b[1;32m    823\u001b[0m     \u001b[39m# used (rather than .append) in the following line\u001b[39;00m\n\u001b[1;32m    824\u001b[0m     \u001b[39mself\u001b[39m\u001b[39m.\u001b[39m_jobs\u001b[39m.\u001b[39minsert(job_idx, job)\n",
            "File \u001b[0;32m~/elpaco/lib/python3.8/site-packages/joblib/_parallel_backends.py:208\u001b[0m, in \u001b[0;36mSequentialBackend.apply_async\u001b[0;34m(self, func, callback)\u001b[0m\n\u001b[1;32m    206\u001b[0m \u001b[39mdef\u001b[39;00m \u001b[39mapply_async\u001b[39m(\u001b[39mself\u001b[39m, func, callback\u001b[39m=\u001b[39m\u001b[39mNone\u001b[39;00m):\n\u001b[1;32m    207\u001b[0m \u001b[39m    \u001b[39m\u001b[39m\"\"\"Schedule a func to be run\"\"\"\u001b[39;00m\n\u001b[0;32m--> 208\u001b[0m     result \u001b[39m=\u001b[39m ImmediateResult(func)\n\u001b[1;32m    209\u001b[0m     \u001b[39mif\u001b[39;00m callback:\n\u001b[1;32m    210\u001b[0m         callback(result)\n",
            "File \u001b[0;32m~/elpaco/lib/python3.8/site-packages/joblib/_parallel_backends.py:597\u001b[0m, in \u001b[0;36mImmediateResult.__init__\u001b[0;34m(self, batch)\u001b[0m\n\u001b[1;32m    594\u001b[0m \u001b[39mdef\u001b[39;00m \u001b[39m__init__\u001b[39m(\u001b[39mself\u001b[39m, batch):\n\u001b[1;32m    595\u001b[0m     \u001b[39m# Don't delay the application, to avoid keeping the input\u001b[39;00m\n\u001b[1;32m    596\u001b[0m     \u001b[39m# arguments in memory\u001b[39;00m\n\u001b[0;32m--> 597\u001b[0m     \u001b[39mself\u001b[39m\u001b[39m.\u001b[39mresults \u001b[39m=\u001b[39m batch()\n",
            "File \u001b[0;32m~/elpaco/lib/python3.8/site-packages/joblib/parallel.py:288\u001b[0m, in \u001b[0;36mBatchedCalls.__call__\u001b[0;34m(self)\u001b[0m\n\u001b[1;32m    284\u001b[0m \u001b[39mdef\u001b[39;00m \u001b[39m__call__\u001b[39m(\u001b[39mself\u001b[39m):\n\u001b[1;32m    285\u001b[0m     \u001b[39m# Set the default nested backend to self._backend but do not set the\u001b[39;00m\n\u001b[1;32m    286\u001b[0m     \u001b[39m# change the default number of processes to -1\u001b[39;00m\n\u001b[1;32m    287\u001b[0m     \u001b[39mwith\u001b[39;00m parallel_backend(\u001b[39mself\u001b[39m\u001b[39m.\u001b[39m_backend, n_jobs\u001b[39m=\u001b[39m\u001b[39mself\u001b[39m\u001b[39m.\u001b[39m_n_jobs):\n\u001b[0;32m--> 288\u001b[0m         \u001b[39mreturn\u001b[39;00m [func(\u001b[39m*\u001b[39margs, \u001b[39m*\u001b[39m\u001b[39m*\u001b[39mkwargs)\n\u001b[1;32m    289\u001b[0m                 \u001b[39mfor\u001b[39;00m func, args, kwargs \u001b[39min\u001b[39;00m \u001b[39mself\u001b[39m\u001b[39m.\u001b[39mitems]\n",
            "File \u001b[0;32m~/elpaco/lib/python3.8/site-packages/joblib/parallel.py:288\u001b[0m, in \u001b[0;36m<listcomp>\u001b[0;34m(.0)\u001b[0m\n\u001b[1;32m    284\u001b[0m \u001b[39mdef\u001b[39;00m \u001b[39m__call__\u001b[39m(\u001b[39mself\u001b[39m):\n\u001b[1;32m    285\u001b[0m     \u001b[39m# Set the default nested backend to self._backend but do not set the\u001b[39;00m\n\u001b[1;32m    286\u001b[0m     \u001b[39m# change the default number of processes to -1\u001b[39;00m\n\u001b[1;32m    287\u001b[0m     \u001b[39mwith\u001b[39;00m parallel_backend(\u001b[39mself\u001b[39m\u001b[39m.\u001b[39m_backend, n_jobs\u001b[39m=\u001b[39m\u001b[39mself\u001b[39m\u001b[39m.\u001b[39m_n_jobs):\n\u001b[0;32m--> 288\u001b[0m         \u001b[39mreturn\u001b[39;00m [func(\u001b[39m*\u001b[39;49margs, \u001b[39m*\u001b[39;49m\u001b[39m*\u001b[39;49mkwargs)\n\u001b[1;32m    289\u001b[0m                 \u001b[39mfor\u001b[39;00m func, args, kwargs \u001b[39min\u001b[39;00m \u001b[39mself\u001b[39m\u001b[39m.\u001b[39mitems]\n",
            "Cell \u001b[0;32mIn[4], line 9\u001b[0m, in \u001b[0;36mget_row_audio\u001b[0;34m(df_audio, wav_loc)\u001b[0m\n\u001b[1;32m      6\u001b[0m \u001b[39m#print path to audio file (optional)\u001b[39;00m\n\u001b[1;32m      7\u001b[0m \u001b[39mprint\u001b[39m(wav_loc)\n\u001b[0;32m----> 9\u001b[0m data, rate \u001b[39m=\u001b[39m librosa\u001b[39m.\u001b[39;49mload(wav_loc)\n\u001b[1;32m     10\u001b[0m data \u001b[39m=\u001b[39m data\u001b[39m.\u001b[39mastype(\u001b[39m'\u001b[39m\u001b[39mfloat32\u001b[39m\u001b[39m'\u001b[39m)\n\u001b[1;32m     11\u001b[0m \u001b[39mprint\u001b[39m(data)\n",
            "File \u001b[0;32m~/elpaco/lib/python3.8/site-packages/librosa/core/audio.py:190\u001b[0m, in \u001b[0;36mload\u001b[0;34m(path, sr, mono, offset, duration, dtype, res_type)\u001b[0m\n\u001b[1;32m    188\u001b[0m \u001b[39m# Final cleanup for dtype and contiguity\u001b[39;00m\n\u001b[1;32m    189\u001b[0m \u001b[39mif\u001b[39;00m mono:\n\u001b[0;32m--> 190\u001b[0m     y \u001b[39m=\u001b[39m to_mono(y)\n\u001b[1;32m    192\u001b[0m \u001b[39mif\u001b[39;00m sr \u001b[39mis\u001b[39;00m \u001b[39mnot\u001b[39;00m \u001b[39mNone\u001b[39;00m:\n\u001b[1;32m    193\u001b[0m     y \u001b[39m=\u001b[39m resample(y, orig_sr\u001b[39m=\u001b[39msr_native, target_sr\u001b[39m=\u001b[39msr, res_type\u001b[39m=\u001b[39mres_type)\n",
            "File \u001b[0;32m~/elpaco/lib/python3.8/site-packages/librosa/core/audio.py:513\u001b[0m, in \u001b[0;36mto_mono\u001b[0;34m(y)\u001b[0m\n\u001b[1;32m    510\u001b[0m util\u001b[39m.\u001b[39mvalid_audio(y, mono\u001b[39m=\u001b[39m\u001b[39mFalse\u001b[39;00m)\n\u001b[1;32m    512\u001b[0m \u001b[39mif\u001b[39;00m y\u001b[39m.\u001b[39mndim \u001b[39m>\u001b[39m \u001b[39m1\u001b[39m:\n\u001b[0;32m--> 513\u001b[0m     y \u001b[39m=\u001b[39m np\u001b[39m.\u001b[39;49mmean(y, axis\u001b[39m=\u001b[39;49m\u001b[39mtuple\u001b[39;49m(\u001b[39mrange\u001b[39;49m(y\u001b[39m.\u001b[39;49mndim \u001b[39m-\u001b[39;49m \u001b[39m1\u001b[39;49m)))\n\u001b[1;32m    515\u001b[0m \u001b[39mreturn\u001b[39;00m y\n",
            "File \u001b[0;32m<__array_function__ internals>:200\u001b[0m, in \u001b[0;36mmean\u001b[0;34m(*args, **kwargs)\u001b[0m\n",
            "File \u001b[0;32m~/elpaco/lib/python3.8/site-packages/numpy/core/fromnumeric.py:3464\u001b[0m, in \u001b[0;36mmean\u001b[0;34m(a, axis, dtype, out, keepdims, where)\u001b[0m\n\u001b[1;32m   3461\u001b[0m     \u001b[39melse\u001b[39;00m:\n\u001b[1;32m   3462\u001b[0m         \u001b[39mreturn\u001b[39;00m mean(axis\u001b[39m=\u001b[39maxis, dtype\u001b[39m=\u001b[39mdtype, out\u001b[39m=\u001b[39mout, \u001b[39m*\u001b[39m\u001b[39m*\u001b[39mkwargs)\n\u001b[0;32m-> 3464\u001b[0m \u001b[39mreturn\u001b[39;00m _methods\u001b[39m.\u001b[39;49m_mean(a, axis\u001b[39m=\u001b[39;49maxis, dtype\u001b[39m=\u001b[39;49mdtype,\n\u001b[1;32m   3465\u001b[0m                       out\u001b[39m=\u001b[39;49mout, \u001b[39m*\u001b[39;49m\u001b[39m*\u001b[39;49mkwargs)\n",
            "File \u001b[0;32m~/elpaco/lib/python3.8/site-packages/numpy/core/_methods.py:181\u001b[0m, in \u001b[0;36m_mean\u001b[0;34m(a, axis, dtype, out, keepdims, where)\u001b[0m\n\u001b[1;32m    178\u001b[0m         dtype \u001b[39m=\u001b[39m mu\u001b[39m.\u001b[39mdtype(\u001b[39m'\u001b[39m\u001b[39mf4\u001b[39m\u001b[39m'\u001b[39m)\n\u001b[1;32m    179\u001b[0m         is_float16_result \u001b[39m=\u001b[39m \u001b[39mTrue\u001b[39;00m\n\u001b[0;32m--> 181\u001b[0m ret \u001b[39m=\u001b[39m umr_sum(arr, axis, dtype, out, keepdims, where\u001b[39m=\u001b[39;49mwhere)\n\u001b[1;32m    182\u001b[0m \u001b[39mif\u001b[39;00m \u001b[39misinstance\u001b[39m(ret, mu\u001b[39m.\u001b[39mndarray):\n\u001b[1;32m    183\u001b[0m     \u001b[39mwith\u001b[39;00m _no_nep50_warning():\n",
            "\u001b[0;31mKeyboardInterrupt\u001b[0m: "
          ]
        }
      ],
      "source": [
        "#execute using parallel \n",
        "\n",
        "with Parallel(n_jobs=1, verbose=verbosity) as parallel:\n",
        "    df_audios = parallel(\n",
        "        delayed(get_row_audio)(\n",
        "            df_audio[df_audio.source == source], \n",
        "            './Elpaco dataset'+ source +'.wav', #Edit path to corpus directory here\n",
        "        )\n",
        "        for source in tqdm(df_audio.source)\n",
        "    )\n",
        "df_audio = pd.concat(df_audios)\n",
        "len(df_audio)"
      ]
    },
    {
      "attachments": {},
      "cell_type": "markdown",
      "metadata": {},
      "source": [
        "### Normalize audio  (optional)"
      ]
    },
    {
      "cell_type": "code",
      "execution_count": 9,
      "metadata": {},
      "outputs": [],
      "source": [
        "# normalize audio if needed\n",
        "df_audio['audio'] = [librosa.util.normalize(i) for i in df_audio.audio.values]"
      ]
    },
    {
      "attachments": {},
      "cell_type": "markdown",
      "metadata": {},
      "source": [
        "### Plot `audio` column waveforms"
      ]
    },
    {
      "cell_type": "code",
      "execution_count": 10,
      "metadata": {},
      "outputs": [
        {
          "name": "stderr",
          "output_type": "stream",
          "text": [
            "  5%|▍         | 11/240 [00:00<00:00, 254.29it/s]\n"
          ]
        },
        {
          "data": {
            "image/png": "[encoded data removed]",
            "text/plain": [
              "<Figure size 1728x1536 with 240 Axes>"
            ]
          },
          "metadata": {
            "needs_background": "light"
          },
          "output_type": "display_data"
        }
      ],
      "source": [
        "# plot some example audio \n",
        "nrows = 20\n",
        "ncols = 12\n",
        "zoom = 2\n",
        "fig, axs = plt.subplots(ncols=ncols, nrows = nrows,figsize = (ncols*zoom, nrows+zoom/1.5))\n",
        "for i, turn in tqdm(enumerate(df_audio['audio'].values), total = nrows*ncols):\n",
        "    ax = axs.flatten()[i]\n",
        "    ax.plot(turn)\n",
        "    if i == nrows*ncols -1:\n",
        "        break"
      ]
    },
    {
      "attachments": {},
      "cell_type": "markdown",
      "metadata": {},
      "source": [
        "### Save as `csv`"
      ]
    },
    {
      "cell_type": "code",
      "execution_count": 3,
      "metadata": {},
      "outputs": [
        {
          "ename": "NameError",
          "evalue": "name 'df_audio' is not defined",
          "output_type": "error",
          "traceback": [
            "\u001b[0;31m---------------------------------------------------------------------------\u001b[0m",
            "\u001b[0;31mNameError\u001b[0m                                 Traceback (most recent call last)",
            "\u001b[1;32m/Users/u517177/3.1_Make_audio_and_spec_cols.ipynb Cell 16\u001b[0m in \u001b[0;36m<module>\u001b[0;34m\u001b[0m\n\u001b[0;32m----> <a href='vscode-notebook-cell:/Users/u517177/3.1_Make_audio_and_spec_cols.ipynb#X32sZmlsZQ%3D%3D?line=0'>1</a>\u001b[0m df_audio\u001b[39m.\u001b[39mto_csv(\u001b[39m\"\u001b[39m\u001b[39mdf_audio.csv\u001b[39m\u001b[39m\"\u001b[39m, index\u001b[39m=\u001b[39m\u001b[39mFalse\u001b[39;00m)\n\u001b[1;32m      <a href='vscode-notebook-cell:/Users/u517177/3.1_Make_audio_and_spec_cols.ipynb#X32sZmlsZQ%3D%3D?line=1'>2</a>\u001b[0m df_audio\n",
            "\u001b[0;31mNameError\u001b[0m: name 'df_audio' is not defined"
          ]
        }
      ],
      "source": [
        "df_audio.to_csv(\"df_audio.csv\", index=False)\n",
        "df_audio"
      ]
    }
  ],
  "metadata": {
    "colab": {
      "collapsed_sections": [],
      "provenance": []
    },
    "kernelspec": {
      "display_name": "Python 3 (ipykernel)",
      "language": "python",
      "name": "python3"
    },
    "language_info": {
      "codemirror_mode": {
        "name": "ipython",
        "version": 3
      },
      "file_extension": ".py",
      "mimetype": "text/x-python",
      "name": "python",
      "nbconvert_exporter": "python",
      "pygments_lexer": "ipython3",
      "version": "3.8.10"
    },
    "vscode": {
      "interpreter": {
        "hash": "46fbe6e04536e1e35bdd7bb388ca2958a28e6ed66e8c3e8ff3ca43c0ea6b4829"
      }
    }
  },
  "nbformat": 4,
  "nbformat_minor": 0
}

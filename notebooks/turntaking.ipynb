{
 "cells": [
  {
   "cell_type": "code",
   "execution_count": null,
   "metadata": {},
   "outputs": [],
   "source": [
    "# to ensure that the modules can be imported, as they are located in a different folder, add the package root to the path:\n",
    "\n",
    "import sys\n",
    "sys.path.insert(0, \"../\")\n",
    "\n"
   ]
  },
  {
   "cell_type": "code",
   "execution_count": null,
   "metadata": {},
   "outputs": [],
   "source": [
    "import sktalk.turndynamics as td"
   ]
  },
  {
   "cell_type": "code",
   "execution_count": null,
   "metadata": {},
   "outputs": [],
   "source": [
    "corpora_list = []\n",
    "\n",
    "metadatafile = pd.read_csv(\"_overview.csv\", encoding=\"ISO-8859-1\", sep=',')\n",
    "corpora_for_d_latest = pd.DataFrame(columns=['corpus_path','langshort','langfull'])\n",
    "# loop over csv files (language corpus)\n",
    "for index, row in metadatafile.iterrows():\n",
    "        if row[\"ElPaCo_included\"] == \"yes\":\n",
    "            corpus_name = row[\"File_name\"]\n",
    "            corpus_path = './Elpaco dataset/'+corpus_name+'.csv'\n",
    "            langshort = row[\"langshort\"]\n",
    "            langfull = row[\"Langfull\"]\n",
    "            corpora_list.append([corpus_path, langshort,langfull])\n",
    "\n",
    "corpora_for_d_latest = pd.DataFrame(corpora_list, columns = ['language', 'langshort', 'langfull'])\n",
    "\n",
    "print(corpora_for_d_latest)"
   ]
  }
 ],
 "metadata": {
  "kernelspec": {
   "display_name": "Python 3",
   "language": "python",
   "name": "python3"
  },
  "language_info": {
   "name": "python",
   "version": "3.10.6"
  },
  "orig_nbformat": 4,
  "vscode": {
   "interpreter": {
    "hash": "aee8b7b246df8f9039afb4144a1f6fd8d2ca17a180786b69acc140d282b71a49"
   }
  }
 },
 "nbformat": 4,
 "nbformat_minor": 2
}

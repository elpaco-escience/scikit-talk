{
 "cells": [
  {
   "cell_type": "code",
   "execution_count": 4,
   "metadata": {},
   "outputs": [],
   "source": [
    "import sys\n",
    "sys.path.insert(0, \"../\")\n",
    "\n"
   ]
  },
  {
   "cell_type": "code",
   "execution_count": 13,
   "metadata": {},
   "outputs": [
    {
     "ename": "NameError",
     "evalue": "name 'ConvoKitMeta' is not defined",
     "output_type": "error",
     "traceback": [
      "\u001b[0;31m---------------------------------------------------------------------------\u001b[0m",
      "\u001b[0;31mNameError\u001b[0m                                 Traceback (most recent call last)",
      "Cell \u001b[0;32mIn[13], line 1\u001b[0m\n\u001b[0;32m----> 1\u001b[0m \u001b[39mimport\u001b[39;00m \u001b[39msktalk\u001b[39;00m\u001b[39m.\u001b[39;00m\u001b[39mcorpus\u001b[39;00m \u001b[39mas\u001b[39;00m \u001b[39mcp\u001b[39;00m\n\u001b[1;32m      3\u001b[0m Cp \u001b[39m=\u001b[39m cp\u001b[39m.\u001b[39mCorpus(\u001b[39m\"\u001b[39m\u001b[39m.\u001b[39m\u001b[39m\"\u001b[39m)\n",
      "File \u001b[0;32m~/Projects/elpaco/scikit-talk/notebooks/../sktalk/corpus.py:71\u001b[0m\n\u001b[1;32m     43\u001b[0m             json\u001b[39m.\u001b[39mdump(meta_up, f)\n\u001b[1;32m     44\u001b[0m             \u001b[39m# for name, l_bin in d_bin.items():\u001b[39;00m\n\u001b[1;32m     45\u001b[0m             \u001b[39m#     with open(os.path.join(dir_name, name + \"-overall-bin.p\"), \"wb\") as f_pk:\u001b[39;00m\n\u001b[1;32m     46\u001b[0m                     \u001b[39m# pickle.dump(l_bin, f_pk)\u001b[39;00m\n\u001b[0;32m   (...)\u001b[0m\n\u001b[1;32m     67\u001b[0m         \u001b[39m#         dest = os.path.join(dir_name, \"vectors.{}.p\".format(vector_name))\u001b[39;00m\n\u001b[1;32m     68\u001b[0m         \u001b[39m#         shutil.copy(src, dest)\u001b[39;00m\n\u001b[0;32m---> 71\u001b[0m \u001b[39mdef\u001b[39;00m \u001b[39m_dump_helper_bin\u001b[39m(d: ConvoKitMeta, d_bin, fields_to_skip\u001b[39m=\u001b[39m\u001b[39mNone\u001b[39;00m):  \u001b[39m# object_idx\u001b[39;00m\n\u001b[1;32m     72\u001b[0m \u001b[39m    \u001b[39m\u001b[39m\"\"\"\u001b[39;00m\n\u001b[1;32m     73\u001b[0m \u001b[39m    :param d: The ConvoKitMeta to encode\u001b[39;00m\n\u001b[1;32m     74\u001b[0m \u001b[39m    :param d_bin: The dict of accumulated lists of binary attribs\u001b[39;00m\n\u001b[1;32m     75\u001b[0m \u001b[39m    :return:\u001b[39;00m\n\u001b[1;32m     76\u001b[0m \u001b[39m    \"\"\"\u001b[39;00m\n\u001b[1;32m     77\u001b[0m     \u001b[39mif\u001b[39;00m fields_to_skip \u001b[39mis\u001b[39;00m \u001b[39mNone\u001b[39;00m:\n",
      "\u001b[0;31mNameError\u001b[0m: name 'ConvoKitMeta' is not defined"
     ]
    }
   ],
   "source": [
    "import sktalk.corpus as cp\n",
    "\n",
    "Cp = cp.Corpus(\".\")\n"
   ]
  }
 ],
 "metadata": {
  "kernelspec": {
   "display_name": "Python 3",
   "language": "python",
   "name": "python3"
  },
  "language_info": {
   "codemirror_mode": {
    "name": "ipython",
    "version": 3
   },
   "file_extension": ".py",
   "mimetype": "text/x-python",
   "name": "python",
   "nbconvert_exporter": "python",
   "pygments_lexer": "ipython3",
   "version": "3.10.6"
  },
  "orig_nbformat": 4,
  "vscode": {
   "interpreter": {
    "hash": "aee8b7b246df8f9039afb4144a1f6fd8d2ca17a180786b69acc140d282b71a49"
   }
  }
 },
 "nbformat": 4,
 "nbformat_minor": 2
}

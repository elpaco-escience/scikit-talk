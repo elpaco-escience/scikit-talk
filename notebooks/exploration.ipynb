{
 "cells": [
  {
   "attachments": {},
   "cell_type": "markdown",
   "metadata": {},
   "source": [
    "## Getting started with scikit-talk\n",
    "\n",
    "To get started, let's load some data:"
   ]
  },
  {
   "cell_type": "code",
   "execution_count": 40,
   "metadata": {},
   "outputs": [],
   "source": [
    "from sktalk.corpus.parsing.cha import ChaFile\n",
    "from sktalk.corpus import Corpus\n",
    "\n",
    "parsed_cha = ChaFile('../data/02.cha').parse()\n",
    "\n",
    "parsed_cha.utterances[0].metadata"
   ]
  },
  {
   "cell_type": "markdown",
   "metadata": {},
   "source": [
    "This data is a conversation object. We want to extract the text from it."
   ]
  },
  {
   "cell_type": "code",
   "execution_count": 42,
   "metadata": {},
   "outputs": [
    {
     "ename": "TypeError",
     "evalue": "Corpus.return_json() takes 1 positional argument but 2 were given",
     "output_type": "error",
     "traceback": [
      "\u001b[0;31m---------------------------------------------------------------------------\u001b[0m",
      "\u001b[0;31mTypeError\u001b[0m                                 Traceback (most recent call last)",
      "\u001b[1;32m/Users/bvreede/Projects/elpaco/scikit-talk/notebooks/exploration.ipynb Cell 4\u001b[0m line \u001b[0;36m2\n\u001b[1;32m     <a href='vscode-notebook-cell:/Users/bvreede/Projects/elpaco/scikit-talk/notebooks/exploration.ipynb#X20sZmlsZQ%3D%3D?line=13'>14</a>\u001b[0m english \u001b[39m=\u001b[39m Corpus(conversations\u001b[39m=\u001b[39m[],\n\u001b[1;32m     <a href='vscode-notebook-cell:/Users/bvreede/Projects/elpaco/scikit-talk/notebooks/exploration.ipynb#X20sZmlsZQ%3D%3D?line=14'>15</a>\u001b[0m                    metadata \u001b[39m=\u001b[39m corpus_metadata)\n\u001b[1;32m     <a href='vscode-notebook-cell:/Users/bvreede/Projects/elpaco/scikit-talk/notebooks/exploration.ipynb#X20sZmlsZQ%3D%3D?line=16'>17</a>\u001b[0m \u001b[39m#chacorpus.addConversation(parsed_cha)\u001b[39;00m\n\u001b[1;32m     <a href='vscode-notebook-cell:/Users/bvreede/Projects/elpaco/scikit-talk/notebooks/exploration.ipynb#X20sZmlsZQ%3D%3D?line=17'>18</a>\u001b[0m \n\u001b[1;32m     <a href='vscode-notebook-cell:/Users/bvreede/Projects/elpaco/scikit-talk/notebooks/exploration.ipynb#X20sZmlsZQ%3D%3D?line=18'>19</a>\u001b[0m \n\u001b[1;32m     <a href='vscode-notebook-cell:/Users/bvreede/Projects/elpaco/scikit-talk/notebooks/exploration.ipynb#X20sZmlsZQ%3D%3D?line=19'>20</a>\u001b[0m \u001b[39m#parsed_cha.write('../data/02.cha')\u001b[39;00m\n\u001b[0;32m---> <a href='vscode-notebook-cell:/Users/bvreede/Projects/elpaco/scikit-talk/notebooks/exploration.ipynb#X20sZmlsZQ%3D%3D?line=21'>22</a>\u001b[0m english\u001b[39m.\u001b[39;49mreturn_json(\u001b[39m'\u001b[39;49m\u001b[39m../data/02.json\u001b[39;49m\u001b[39m'\u001b[39;49m)\n",
      "\u001b[0;31mTypeError\u001b[0m: Corpus.return_json() takes 1 positional argument but 2 were given"
     ]
    }
   ],
   "source": [
    "#parsed_cha.utterances\n",
    "#parsed_cha.metadata\n",
    "\n",
    "# for utt in parsed_cha.utterances:\n",
    "#     print(utt)\n",
    "#     print(utt.metadata)\n",
    "\n",
    "corpus_metadata = {\n",
    "    'language': 'English',\n",
    "    'dialect': 'Canadian English',\n",
    "    'type': 'conversational speech',\n",
    "}\n",
    "\n",
    "english = Corpus(conversations=[],\n",
    "                   metadata = corpus_metadata)\n",
    "\n",
    "# example of use:\n",
    "# use kwargs to pass metadata\n",
    "# use args to pass conversations\n",
    "english = Corpus(parsed_cha, other_parsed_cha, # should be empty on init  \n",
    "                 language = \"english\",\n",
    "                 dialect = \"canadian english\",\n",
    "                 type = \"conversational speech\")\n",
    "\n",
    "# the user could initialize a corpus without conversations\n",
    "french1 = Corpus(language = \"french1\",\n",
    "                other_meta = \"more info\",\n",
    "                importer = \"Andreas\")\n",
    "\n",
    "# then add conversations later in a loop\n",
    "for file in folder:\n",
    "    conversation = ChaFile(file)\n",
    "    french1.addConversation(conversation)\n",
    "\n",
    "#chacorpus.addConversation(parsed_cha)\n",
    "\n",
    "\n",
    "#parsed_cha.write('../data/02.cha')\n",
    "\n",
    "english.return_json('../data/02.json')"
   ]
  },
  {
   "cell_type": "code",
   "execution_count": 12,
   "metadata": {},
   "outputs": [
    {
     "ename": "AttributeError",
     "evalue": "'Conversation' object has no attribute 'to_json'",
     "output_type": "error",
     "traceback": [
      "\u001b[0;31m---------------------------------------------------------------------------\u001b[0m",
      "\u001b[0;31mAttributeError\u001b[0m                            Traceback (most recent call last)",
      "\u001b[1;32m/Users/bvreede/Projects/elpaco/scikit-talk/notebooks/exploration.ipynb Cell 5\u001b[0m line \u001b[0;36m3\n\u001b[1;32m      <a href='vscode-notebook-cell:/Users/bvreede/Projects/elpaco/scikit-talk/notebooks/exploration.ipynb#X22sZmlsZQ%3D%3D?line=0'>1</a>\u001b[0m \u001b[39m# We should be able to dump the entire parsed CHA file into a json\u001b[39;00m\n\u001b[0;32m----> <a href='vscode-notebook-cell:/Users/bvreede/Projects/elpaco/scikit-talk/notebooks/exploration.ipynb#X22sZmlsZQ%3D%3D?line=2'>3</a>\u001b[0m parsed_cha\u001b[39m.\u001b[39;49mto_json(\u001b[39m'\u001b[39m\u001b[39m../data/02.json\u001b[39m\u001b[39m'\u001b[39m)\n\u001b[1;32m      <a href='vscode-notebook-cell:/Users/bvreede/Projects/elpaco/scikit-talk/notebooks/exploration.ipynb#X22sZmlsZQ%3D%3D?line=3'>4</a>\u001b[0m \u001b[39m# parsed_cha.to_csv('../data/02.csv')\u001b[39;00m\n\u001b[1;32m      <a href='vscode-notebook-cell:/Users/bvreede/Projects/elpaco/scikit-talk/notebooks/exploration.ipynb#X22sZmlsZQ%3D%3D?line=4'>5</a>\u001b[0m \n\u001b[1;32m      <a href='vscode-notebook-cell:/Users/bvreede/Projects/elpaco/scikit-talk/notebooks/exploration.ipynb#X22sZmlsZQ%3D%3D?line=5'>6</a>\u001b[0m \u001b[39m# parsed_cha.summarize()\u001b[39;00m\n",
      "\u001b[0;31mAttributeError\u001b[0m: 'Conversation' object has no attribute 'to_json'"
     ]
    }
   ],
   "source": [
    "# We should be able to dump the entire parsed CHA file into a json\n",
    "\n",
    "parsed_cha.to_json('../data/02.json')\n",
    "# parsed_cha.to_csv('../data/02.csv')\n",
    "\n",
    "# parsed_cha.summarize()"
   ]
  },
  {
   "cell_type": "markdown",
   "metadata": {},
   "source": [
    "## The `from_convokit` module\n",
    "\n",
    "Here, we import a single class from the `csv_to_json` module, and use it."
   ]
  },
  {
   "cell_type": "code",
   "execution_count": 2,
   "metadata": {},
   "outputs": [],
   "source": [
    "import sktalk.from_convokit as ck"
   ]
  },
  {
   "cell_type": "code",
   "execution_count": 1,
   "metadata": {},
   "outputs": [
    {
     "data": {
      "text/html": [
       "<div>\n",
       "<style scoped>\n",
       "    .dataframe tbody tr th:only-of-type {\n",
       "        vertical-align: middle;\n",
       "    }\n",
       "\n",
       "    .dataframe tbody tr th {\n",
       "        vertical-align: top;\n",
       "    }\n",
       "\n",
       "    .dataframe thead th {\n",
       "        text-align: right;\n",
       "    }\n",
       "</style>\n",
       "<table border=\"1\" class=\"dataframe\">\n",
       "  <thead>\n",
       "    <tr style=\"text-align: right;\">\n",
       "      <th></th>\n",
       "      <th>timestamp</th>\n",
       "      <th>speaker</th>\n",
       "      <th>text</th>\n",
       "      <th>translation</th>\n",
       "      <th>conversation_id</th>\n",
       "      <th>utterance_raw</th>\n",
       "      <th>reply_to</th>\n",
       "    </tr>\n",
       "  </thead>\n",
       "  <tbody>\n",
       "    <tr>\n",
       "      <th>0</th>\n",
       "      <td>1332718704</td>\n",
       "      <td>Tang</td>\n",
       "      <td>U oughs inim tï samting yan</td>\n",
       "      <td>Lorem ipsum dolor sit amet.</td>\n",
       "      <td>/ulwa1/ulwa014</td>\n",
       "      <td>U oughs inim tï samting yangama ul matï akïnakape</td>\n",
       "      <td>None</td>\n",
       "    </tr>\n",
       "    <tr>\n",
       "      <th>1</th>\n",
       "      <td>1332732704</td>\n",
       "      <td>Yan</td>\n",
       "      <td>mbam ndul ma wandam ana</td>\n",
       "      <td>At neque fugit eum reprehenderit labore et exe...</td>\n",
       "      <td>/ulwa1/ulwa014</td>\n",
       "      <td>wimbam ndul ma wandam anapa ol welunda nïkap t...</td>\n",
       "      <td>None</td>\n",
       "    </tr>\n",
       "    <tr>\n",
       "      <th>2</th>\n",
       "      <td>1332743704</td>\n",
       "      <td>Tang</td>\n",
       "      <td>Mï inim wandam bai anapa nd</td>\n",
       "      <td>a veritatis tempore sit vitae quaerat sed cons...</td>\n",
       "      <td>/ulwa1/ulwa014</td>\n",
       "      <td>Mï inim wandam bai anapa ndïtï ka welunda unan</td>\n",
       "      <td>None</td>\n",
       "    </tr>\n",
       "    <tr>\n",
       "      <th>3</th>\n",
       "      <td>1332754704</td>\n",
       "      <td>Yan</td>\n",
       "      <td>lunda we ndïmïne in</td>\n",
       "      <td>NaN</td>\n",
       "      <td>/ulwa1/ulwa014</td>\n",
       "      <td>ata welunda we ndïmïne ind</td>\n",
       "      <td>None</td>\n",
       "    </tr>\n",
       "    <tr>\n",
       "      <th>4</th>\n",
       "      <td>1332765704</td>\n",
       "      <td>Tang</td>\n",
       "      <td>kïnakape akïnaka</td>\n",
       "      <td>NaN</td>\n",
       "      <td>/ulwa1/ulwa014</td>\n",
       "      <td>i akïnakape akïnakap</td>\n",
       "      <td>None</td>\n",
       "    </tr>\n",
       "    <tr>\n",
       "      <th>5</th>\n",
       "      <td>1332776704</td>\n",
       "      <td>Yan</td>\n",
       "      <td>coughs ndïmïne we ndul wa le we ndïtï akïnakap...</td>\n",
       "      <td>Et illo facere vel magni necessitatibus est as...</td>\n",
       "      <td>/ulwa1/ulwa014</td>\n",
       "      <td>[coughs] I inim oughs ka lopop mananda bai kïk...</td>\n",
       "      <td>None</td>\n",
       "    </tr>\n",
       "    <tr>\n",
       "      <th>6</th>\n",
       "      <td>1332787704</td>\n",
       "      <td>Tang</td>\n",
       "      <td>mananda</td>\n",
       "      <td>NaN</td>\n",
       "      <td>/ulwa1/ulwa014</td>\n",
       "      <td>n mananda ndïtï ka akïnakape wimbam</td>\n",
       "      <td>None</td>\n",
       "    </tr>\n",
       "    <tr>\n",
       "      <th>7</th>\n",
       "      <td>1332788704</td>\n",
       "      <td>Yan</td>\n",
       "      <td>da</td>\n",
       "      <td>NaN</td>\n",
       "      <td>/ulwa1/ulwa014</td>\n",
       "      <td>da ndïtï ka</td>\n",
       "      <td>None</td>\n",
       "    </tr>\n",
       "    <tr>\n",
       "      <th>8</th>\n",
       "      <td>1332789704</td>\n",
       "      <td>Tang</td>\n",
       "      <td>e kïkal awi akïnakape</td>\n",
       "      <td>onsequatur amet qui nisi facilis et perferendi...</td>\n",
       "      <td>/ulwa1/ulwa014</td>\n",
       "      <td>e kïkal awi akïnakape manï lï</td>\n",
       "      <td>None</td>\n",
       "    </tr>\n",
       "    <tr>\n",
       "      <th>9</th>\n",
       "      <td>1332999704</td>\n",
       "      <td>Yan</td>\n",
       "      <td>atïm inim.</td>\n",
       "      <td>itae quaerat sed consequatur amet</td>\n",
       "      <td>/ulwa1/ulwa014</td>\n",
       "      <td>atïm inim.</td>\n",
       "      <td>None</td>\n",
       "    </tr>\n",
       "  </tbody>\n",
       "</table>\n",
       "</div>"
      ],
      "text/plain": [
       "    timestamp speaker                                               text  \\\n",
       "0  1332718704    Tang                        U oughs inim tï samting yan   \n",
       "1  1332732704     Yan                            mbam ndul ma wandam ana   \n",
       "2  1332743704    Tang                        Mï inim wandam bai anapa nd   \n",
       "3  1332754704     Yan                                lunda we ndïmïne in   \n",
       "4  1332765704    Tang                                   kïnakape akïnaka   \n",
       "5  1332776704     Yan  coughs ndïmïne we ndul wa le we ndïtï akïnakap...   \n",
       "6  1332787704    Tang                                            mananda   \n",
       "7  1332788704     Yan                                                 da   \n",
       "8  1332789704    Tang                              e kïkal awi akïnakape   \n",
       "9  1332999704     Yan                                         atïm inim.   \n",
       "\n",
       "                                         translation conversation_id  \\\n",
       "0                        Lorem ipsum dolor sit amet.  /ulwa1/ulwa014   \n",
       "1  At neque fugit eum reprehenderit labore et exe...  /ulwa1/ulwa014   \n",
       "2  a veritatis tempore sit vitae quaerat sed cons...  /ulwa1/ulwa014   \n",
       "3                                                NaN  /ulwa1/ulwa014   \n",
       "4                                                NaN  /ulwa1/ulwa014   \n",
       "5  Et illo facere vel magni necessitatibus est as...  /ulwa1/ulwa014   \n",
       "6                                                NaN  /ulwa1/ulwa014   \n",
       "7                                                NaN  /ulwa1/ulwa014   \n",
       "8  onsequatur amet qui nisi facilis et perferendi...  /ulwa1/ulwa014   \n",
       "9                  itae quaerat sed consequatur amet  /ulwa1/ulwa014   \n",
       "\n",
       "                                       utterance_raw reply_to  \n",
       "0  U oughs inim tï samting yangama ul matï akïnakape     None  \n",
       "1  wimbam ndul ma wandam anapa ol welunda nïkap t...     None  \n",
       "2     Mï inim wandam bai anapa ndïtï ka welunda unan     None  \n",
       "3                         ata welunda we ndïmïne ind     None  \n",
       "4                               i akïnakape akïnakap     None  \n",
       "5  [coughs] I inim oughs ka lopop mananda bai kïk...     None  \n",
       "6                n mananda ndïtï ka akïnakape wimbam     None  \n",
       "7                                        da ndïtï ka     None  \n",
       "8                      e kïkal awi akïnakape manï lï     None  \n",
       "9                                         atïm inim.     None  "
      ]
     },
     "execution_count": 1,
     "metadata": {},
     "output_type": "execute_result"
    }
   ],
   "source": [
    "import pandas as pd\n",
    "df = pd.read_csv(\"../data/ulwa_testdata_convokit_format.csv\")"
   ]
  },
  {
   "cell_type": "code",
   "execution_count": 4,
   "metadata": {},
   "outputs": [
    {
     "name": "stdout",
     "output_type": "stream",
     "text": [
      "ID column is not present in utterances dataframe, generated ID column from dataframe index...\n"
     ]
    },
    {
     "name": "stderr",
     "output_type": "stream",
     "text": [
      "10it [00:00, 4043.87it/s]\n"
     ]
    }
   ],
   "source": [
    "corpus = ck.Corpus.from_pandas(utterances_df = df)\n"
   ]
  },
  {
   "cell_type": "code",
   "execution_count": 5,
   "metadata": {},
   "outputs": [],
   "source": [
    "corpus.dump(name ='testcorpus', base_path=\"../data/\")"
   ]
  },
  {
   "attachments": {},
   "cell_type": "markdown",
   "metadata": {},
   "source": [
    "## The `csv_to_json` module\n",
    "\n",
    "Here, we import a single class from the `csv_to_json` module, and use it."
   ]
  },
  {
   "cell_type": "code",
   "execution_count": 6,
   "metadata": {},
   "outputs": [],
   "source": [
    "import sktalk.corpus as cj\n"
   ]
  },
  {
   "cell_type": "code",
   "execution_count": 7,
   "metadata": {},
   "outputs": [
    {
     "data": {
      "text/html": [
       "<div>\n",
       "<style scoped>\n",
       "    .dataframe tbody tr th:only-of-type {\n",
       "        vertical-align: middle;\n",
       "    }\n",
       "\n",
       "    .dataframe tbody tr th {\n",
       "        vertical-align: top;\n",
       "    }\n",
       "\n",
       "    .dataframe thead th {\n",
       "        text-align: right;\n",
       "    }\n",
       "</style>\n",
       "<table border=\"1\" class=\"dataframe\">\n",
       "  <thead>\n",
       "    <tr style=\"text-align: right;\">\n",
       "      <th></th>\n",
       "      <th>begin</th>\n",
       "      <th>end</th>\n",
       "      <th>participant</th>\n",
       "      <th>utterance</th>\n",
       "      <th>translation</th>\n",
       "      <th>source</th>\n",
       "      <th>utterance_raw</th>\n",
       "    </tr>\n",
       "  </thead>\n",
       "  <tbody>\n",
       "    <tr>\n",
       "      <th>0</th>\n",
       "      <td>00:00:00.917</td>\n",
       "      <td>00:00:05.604</td>\n",
       "      <td>Tang</td>\n",
       "      <td>U oughs inim tï samting yan</td>\n",
       "      <td>Lorem ipsum dolor sit amet.</td>\n",
       "      <td>/ulwa1/ulwa014</td>\n",
       "      <td>U oughs inim tï samting yangama ul matï akïnakape</td>\n",
       "    </tr>\n",
       "    <tr>\n",
       "      <th>1</th>\n",
       "      <td>00:00:04.830</td>\n",
       "      <td>00:00:09.080</td>\n",
       "      <td>Yan</td>\n",
       "      <td>mbam ndul ma wandam ana</td>\n",
       "      <td>At neque fugit eum reprehenderit labore et exe...</td>\n",
       "      <td>/ulwa1/ulwa014</td>\n",
       "      <td>wimbam ndul ma wandam anapa ol welunda nïkap t...</td>\n",
       "    </tr>\n",
       "    <tr>\n",
       "      <th>2</th>\n",
       "      <td>00:00:06.090</td>\n",
       "      <td>00:00:09.450</td>\n",
       "      <td>Tang</td>\n",
       "      <td>Mï inim wandam bai anapa nd</td>\n",
       "      <td>a veritatis tempore sit vitae quaerat sed cons...</td>\n",
       "      <td>/ulwa1/ulwa014</td>\n",
       "      <td>Mï inim wandam bai anapa ndïtï ka welunda unan</td>\n",
       "    </tr>\n",
       "    <tr>\n",
       "      <th>3</th>\n",
       "      <td>00:00:09.534</td>\n",
       "      <td>00:00:10.333</td>\n",
       "      <td>Yan</td>\n",
       "      <td>lunda we ndïmïne in</td>\n",
       "      <td>NaN</td>\n",
       "      <td>/ulwa1/ulwa014</td>\n",
       "      <td>ata welunda we ndïmïne ind</td>\n",
       "    </tr>\n",
       "    <tr>\n",
       "      <th>4</th>\n",
       "      <td>00:00:10.333</td>\n",
       "      <td>00:00:11.143</td>\n",
       "      <td>Tang</td>\n",
       "      <td>kïnakape akïnaka</td>\n",
       "      <td>NaN</td>\n",
       "      <td>/ulwa1/ulwa014</td>\n",
       "      <td>i akïnakape akïnakap</td>\n",
       "    </tr>\n",
       "    <tr>\n",
       "      <th>5</th>\n",
       "      <td>00:00:11.143</td>\n",
       "      <td>00:00:18.240</td>\n",
       "      <td>Yan</td>\n",
       "      <td>coughs ndïmïne we ndul wa le we ndïtï akïnakap...</td>\n",
       "      <td>Et illo facere vel magni necessitatibus est as...</td>\n",
       "      <td>/ulwa1/ulwa014</td>\n",
       "      <td>[coughs] I inim oughs ka lopop mananda bai kïk...</td>\n",
       "    </tr>\n",
       "    <tr>\n",
       "      <th>6</th>\n",
       "      <td>00:00:11.477</td>\n",
       "      <td>00:00:12.205</td>\n",
       "      <td>Tang</td>\n",
       "      <td>mananda</td>\n",
       "      <td>NaN</td>\n",
       "      <td>/ulwa1/ulwa014</td>\n",
       "      <td>n mananda ndïtï ka akïnakape wimbam</td>\n",
       "    </tr>\n",
       "    <tr>\n",
       "      <th>7</th>\n",
       "      <td>00:00:14.390</td>\n",
       "      <td>00:00:15.696</td>\n",
       "      <td>Yan</td>\n",
       "      <td>da</td>\n",
       "      <td>NaN</td>\n",
       "      <td>/ulwa1/ulwa014</td>\n",
       "      <td>da ndïtï ka</td>\n",
       "    </tr>\n",
       "    <tr>\n",
       "      <th>8</th>\n",
       "      <td>00:00:17.972</td>\n",
       "      <td>00:00:20.722</td>\n",
       "      <td>Tang</td>\n",
       "      <td>e kïkal awi akïnakape</td>\n",
       "      <td>onsequatur amet qui nisi facilis et perferendi...</td>\n",
       "      <td>/ulwa1/ulwa014</td>\n",
       "      <td>e kïkal awi akïnakape manï lï</td>\n",
       "    </tr>\n",
       "    <tr>\n",
       "      <th>9</th>\n",
       "      <td>00:00:18.240</td>\n",
       "      <td>00:00:21.970</td>\n",
       "      <td>Yan</td>\n",
       "      <td>atïm inim.</td>\n",
       "      <td>itae quaerat sed consequatur amet</td>\n",
       "      <td>/ulwa1/ulwa014</td>\n",
       "      <td>atïm inim.</td>\n",
       "    </tr>\n",
       "  </tbody>\n",
       "</table>\n",
       "</div>"
      ],
      "text/plain": [
       "          begin           end participant  \\\n",
       "0  00:00:00.917  00:00:05.604        Tang   \n",
       "1  00:00:04.830  00:00:09.080         Yan   \n",
       "2  00:00:06.090  00:00:09.450        Tang   \n",
       "3  00:00:09.534  00:00:10.333         Yan   \n",
       "4  00:00:10.333  00:00:11.143        Tang   \n",
       "5  00:00:11.143  00:00:18.240         Yan   \n",
       "6  00:00:11.477  00:00:12.205        Tang   \n",
       "7  00:00:14.390  00:00:15.696         Yan   \n",
       "8  00:00:17.972  00:00:20.722        Tang   \n",
       "9  00:00:18.240  00:00:21.970         Yan   \n",
       "\n",
       "                                           utterance  \\\n",
       "0                        U oughs inim tï samting yan   \n",
       "1                            mbam ndul ma wandam ana   \n",
       "2                        Mï inim wandam bai anapa nd   \n",
       "3                                lunda we ndïmïne in   \n",
       "4                                   kïnakape akïnaka   \n",
       "5  coughs ndïmïne we ndul wa le we ndïtï akïnakap...   \n",
       "6                                            mananda   \n",
       "7                                                 da   \n",
       "8                              e kïkal awi akïnakape   \n",
       "9                                         atïm inim.   \n",
       "\n",
       "                                         translation          source  \\\n",
       "0                        Lorem ipsum dolor sit amet.  /ulwa1/ulwa014   \n",
       "1  At neque fugit eum reprehenderit labore et exe...  /ulwa1/ulwa014   \n",
       "2  a veritatis tempore sit vitae quaerat sed cons...  /ulwa1/ulwa014   \n",
       "3                                                NaN  /ulwa1/ulwa014   \n",
       "4                                                NaN  /ulwa1/ulwa014   \n",
       "5  Et illo facere vel magni necessitatibus est as...  /ulwa1/ulwa014   \n",
       "6                                                NaN  /ulwa1/ulwa014   \n",
       "7                                                NaN  /ulwa1/ulwa014   \n",
       "8  onsequatur amet qui nisi facilis et perferendi...  /ulwa1/ulwa014   \n",
       "9                  itae quaerat sed consequatur amet  /ulwa1/ulwa014   \n",
       "\n",
       "                                       utterance_raw  \n",
       "0  U oughs inim tï samting yangama ul matï akïnakape  \n",
       "1  wimbam ndul ma wandam anapa ol welunda nïkap t...  \n",
       "2     Mï inim wandam bai anapa ndïtï ka welunda unan  \n",
       "3                         ata welunda we ndïmïne ind  \n",
       "4                               i akïnakape akïnakap  \n",
       "5  [coughs] I inim oughs ka lopop mananda bai kïk...  \n",
       "6                n mananda ndïtï ka akïnakape wimbam  \n",
       "7                                        da ndïtï ka  \n",
       "8                      e kïkal awi akïnakape manï lï  \n",
       "9                                         atïm inim.  "
      ]
     },
     "execution_count": 7,
     "metadata": {},
     "output_type": "execute_result"
    }
   ],
   "source": [
    "corpus = cj.Corpus(\"../data/ulwa_testdata_sktalk_format.csv\")\n",
    "corpus.return_dataframe()\n",
    "corpus.df"
   ]
  },
  {
   "cell_type": "code",
   "execution_count": 8,
   "metadata": {},
   "outputs": [],
   "source": [
    "corpus.return_json()"
   ]
  },
  {
   "cell_type": "code",
   "execution_count": 9,
   "metadata": {},
   "outputs": [
    {
     "data": {
      "text/plain": [
       "'{\"begin\":{\"0\":\"00:00:00.917\",\"1\":\"00:00:04.830\",\"2\":\"00:00:06.090\",\"3\":\"00:00:09.534\",\"4\":\"00:00:10.333\",\"5\":\"00:00:11.143\",\"6\":\"00:00:11.477\",\"7\":\"00:00:14.390\",\"8\":\"00:00:17.972\",\"9\":\"00:00:18.240\"},\"end\":{\"0\":\"00:00:05.604\",\"1\":\"00:00:09.080\",\"2\":\"00:00:09.450\",\"3\":\"00:00:10.333\",\"4\":\"00:00:11.143\",\"5\":\"00:00:18.240\",\"6\":\"00:00:12.205\",\"7\":\"00:00:15.696\",\"8\":\"00:00:20.722\",\"9\":\"00:00:21.970\"},\"participant\":{\"0\":\"Tang\",\"1\":\"Yan\",\"2\":\"Tang\",\"3\":\"Yan\",\"4\":\"Tang\",\"5\":\"Yan\",\"6\":\"Tang\",\"7\":\"Yan\",\"8\":\"Tang\",\"9\":\"Yan\"},\"utterance\":{\"0\":\"U oughs inim t\\\\u00ef samting yan\",\"1\":\"mbam ndul ma wandam ana\",\"2\":\"M\\\\u00ef inim wandam bai anapa nd\",\"3\":\"lunda we nd\\\\u00efm\\\\u00efne in\",\"4\":\"k\\\\u00efnakape ak\\\\u00efnaka\",\"5\":\"coughs nd\\\\u00efm\\\\u00efne we ndul wa le we nd\\\\u00eft\\\\u00ef ak\\\\u00efnakape malimap mat\\\\u00ef yawa mananda\",\"6\":\"mananda\",\"7\":\"da\",\"8\":\"e k\\\\u00efkal awi ak\\\\u00efnakape\",\"9\":\"at\\\\u00efm inim.\"},\"translation\":{\"0\":\"Lorem ipsum dolor sit amet.\",\"1\":\"At neque fugit eum reprehenderit labore et exercitationem voluptatem.  eos odio aspernatur.\",\"2\":\"a veritatis tempore sit vitae quaerat sed consequatur amet qui nisi facilis et perferendis nisi ut maiores consequatur.\",\"3\":null,\"4\":null,\"5\":\"Et illo facere vel magni necessitatibus est aspernatur numquam\",\"6\":null,\"7\":null,\"8\":\"onsequatur amet qui nisi facilis et perferendis nisi ut\",\"9\":\"itae quaerat sed consequatur amet\"},\"source\":{\"0\":\"\\\\/ulwa1\\\\/ulwa014\",\"1\":\"\\\\/ulwa1\\\\/ulwa014\",\"2\":\"\\\\/ulwa1\\\\/ulwa014\",\"3\":\"\\\\/ulwa1\\\\/ulwa014\",\"4\":\"\\\\/ulwa1\\\\/ulwa014\",\"5\":\"\\\\/ulwa1\\\\/ulwa014\",\"6\":\"\\\\/ulwa1\\\\/ulwa014\",\"7\":\"\\\\/ulwa1\\\\/ulwa014\",\"8\":\"\\\\/ulwa1\\\\/ulwa014\",\"9\":\"\\\\/ulwa1\\\\/ulwa014\"},\"utterance_raw\":{\"0\":\"U oughs inim t\\\\u00ef samting yangama ul mat\\\\u00ef ak\\\\u00efnakape\",\"1\":\"wimbam ndul ma wandam anapa ol welunda n\\\\u00efkap tu mananda yangama \",\"2\":\"M\\\\u00ef inim wandam bai anapa nd\\\\u00eft\\\\u00ef ka welunda unan\",\"3\":\"ata welunda we nd\\\\u00efm\\\\u00efne ind\",\"4\":\"i ak\\\\u00efnakape ak\\\\u00efnakap\",\"5\":\"[coughs] I inim oughs ka lopop mananda bai k\\\\u00efkal yangama we ini\",\"6\":\"n mananda nd\\\\u00eft\\\\u00ef ka ak\\\\u00efnakape wimbam\",\"7\":\"da nd\\\\u00eft\\\\u00ef ka\",\"8\":\"e k\\\\u00efkal awi ak\\\\u00efnakape man\\\\u00ef l\\\\u00ef\",\"9\":\"at\\\\u00efm inim.\"}}'"
      ]
     },
     "execution_count": 9,
     "metadata": {},
     "output_type": "execute_result"
    }
   ],
   "source": [
    "corpus.json"
   ]
  }
 ],
 "metadata": {
  "kernelspec": {
   "display_name": "Python 3",
   "language": "python",
   "name": "python3"
  },
  "language_info": {
   "codemirror_mode": {
    "name": "ipython",
    "version": 3
   },
   "file_extension": ".py",
   "mimetype": "text/x-python",
   "name": "python",
   "nbconvert_exporter": "python",
   "pygments_lexer": "ipython3",
   "version": "3.10.11"
  },
  "orig_nbformat": 4,
  "vscode": {
   "interpreter": {
    "hash": "aee8b7b246df8f9039afb4144a1f6fd8d2ca17a180786b69acc140d282b71a49"
   }
  }
 },
 "nbformat": 4,
 "nbformat_minor": 2
}

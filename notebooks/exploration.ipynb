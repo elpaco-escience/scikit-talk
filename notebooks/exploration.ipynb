{
 "cells": [
  {
   "attachments": {},
   "cell_type": "markdown",
   "metadata": {},
   "source": [
    "## Getting started with scikit-talk\n",
    "\n",
    "To get started, let's load some data:"
   ]
  },
  {
   "cell_type": "code",
   "execution_count": 1,
   "metadata": {},
   "outputs": [
    {
     "name": "stdout",
     "output_type": "stream",
     "text": [
      "{'source': '../data/02.cha', 'UTF8': '', 'PID': '11312/t-00017233-1', 'Languages': ['eng'], 'Participants': {'A': {'name': 'Adult', 'language': 'eng', 'corpus': 'GCSAusE', 'age': '', 'sex': '', 'group': '', 'ses': '', 'role': 'Adult', 'education': '', 'custom': ''}, 'T': {'name': 'Adult', 'language': 'eng', 'corpus': 'GCSAusE', 'age': '', 'sex': '', 'group': '', 'ses': '', 'role': 'Adult', 'education': '', 'custom': ''}}, 'Options': 'CA', 'Media': '02, audio'}\n"
     ]
    }
   ],
   "source": [
    "import sktalk\n",
    "\n",
    "parsed_cha = sktalk.ChaFile('../data/02.cha').parse()\n",
    "\n",
    "# Save to a json file\n",
    "parsed_cha.to_json(name = \"testjson\", directory = \".\")\n",
    "\n",
    "# look at metadata\n",
    "parsed_cha.utterances[0].metadata\n",
    "\n",
    "print(parsed_cha.metadata)"
   ]
  },
  {
   "cell_type": "markdown",
   "metadata": {},
   "source": [
    "Initialize corpus with metadata in the function call:\n"
   ]
  },
  {
   "cell_type": "code",
   "execution_count": 3,
   "metadata": {},
   "outputs": [
    {
     "name": "stdout",
     "output_type": "stream",
     "text": [
      "{'author': 'demo'}\n",
      "<sktalk.corpus.corpus.Corpus object at 0x10f8579d0>\n"
     ]
    }
   ],
   "source": [
    "democorpus = sktalk.Corpus(author = \"demo\")\n",
    "democorpus2 = sktalk.Corpus(conversations=[parsed_cha])\n",
    "\n",
    "\n",
    "print(democorpus.metadata)\n",
    "print(democorpus2)"
   ]
  },
  {
   "cell_type": "code",
   "execution_count": 4,
   "metadata": {},
   "outputs": [
    {
     "data": {
      "text/plain": [
       "<sktalk.corpus.conversation.Conversation at 0x103d83f10>"
      ]
     },
     "execution_count": 4,
     "metadata": {},
     "output_type": "execute_result"
    }
   ],
   "source": []
  },
  {
   "cell_type": "markdown",
   "metadata": {},
   "source": [
    "This data is a conversation object. We want to extract the text from it."
   ]
  },
  {
   "cell_type": "code",
   "execution_count": 7,
   "metadata": {},
   "outputs": [],
   "source": [
    "#parsed_cha.utterances\n",
    "#parsed_cha.metadata\n",
    "\n",
    "# for utt in parsed_cha.utterances:\n",
    "#     print(utt)\n",
    "#     print(utt.metadata)\n",
    "\n",
    "# corpus_metadata = {\n",
    "#     'language': 'English',\n",
    "#     'dialect': 'Canadian English',\n",
    "#     'type': 'conversational speech',\n",
    "# }\n",
    "\n",
    "# english = Corpus(conversations=[],\n",
    "#                   metadata = corpus_metadata)\n",
    "\n",
    "# example of use:\n",
    "# use kwargs to pass metadata\n",
    "# use args to pass conversations\n",
    "english = sktalk.Corpus(parsed_cha, # other_parsed_cha, # should be empty on init\n",
    "                 language = \"english\",\n",
    "                 dialect = \"canadian english\",\n",
    "                 type = \"conversational speech\")\n",
    "\n",
    "# the user could initialize a corpus without conversations\n",
    "french1 = Corpus(language = \"french1\",\n",
    "                other_meta = \"more info\",\n",
    "                importer = \"Andreas\")\n",
    "\n",
    "# then add conversations later in a loop\n",
    "for file in folder:\n",
    "    conversation = ChaFile(file)\n",
    "    french1.addConversation(conversation)\n",
    "\n",
    "\n",
    "\n",
    "\n",
    "#chacorpus.addConversation(parsed_cha)\n",
    "\n",
    "\n",
    "#parsed_cha.write('../data/02.cha')\n",
    "\n",
    "# english.return_json('../data/02.json')"
   ]
  },
  {
   "cell_type": "code",
   "execution_count": 1,
   "metadata": {},
   "outputs": [],
   "source": [
    "import sktalk\n",
    "#import json\n",
    "\n",
    "parsed_cha = sktalk.ChaFile('../data/02.cha').parse()\n",
    "\n",
    "parsed_cha.to_json(name = \"testjson\", directory = \".\")\n",
    "\n",
    "#print(parsed_cha.__class__)\n",
    "\n",
    "# for utterance in parsed_cha.utterances:\n",
    "#     dump = json.dumps(utterance.__dict__)\n",
    "#     print(dump)\n",
    "#print(parsed_cha.utterances"
   ]
  },
  {
   "cell_type": "code",
   "execution_count": 4,
   "metadata": {},
   "outputs": [
    {
     "name": "stdout",
     "output_type": "stream",
     "text": [
      "{'source': '../data/02.cha', 'UTF8': '', 'PID': '11312/t-00017233-1', 'Languages': ['eng'], 'Participants': {'A': {'name': 'Adult', 'language': 'eng', 'corpus': 'GCSAusE', 'age': '', 'sex': '', 'group': '', 'ses': '', 'role': 'Adult', 'education': '', 'custom': ''}, 'T': {'name': 'Adult', 'language': 'eng', 'corpus': 'GCSAusE', 'age': '', 'sex': '', 'group': '', 'ses': '', 'role': 'Adult', 'education': '', 'custom': ''}}, 'Options': 'CA', 'Media': '02, audio'}\n",
      "[Utterance(utterance='&=noise after all the planning and thinking about today (0.8) I realised that I forgot to bring your Conan book in aga:in→ (.)', participant='A', time=(0, 2856), begin='00:00:00.000', end='00:00:02.856', metadata=None), Utterance(utterance='°you son of a bitch°', participant='T', time=(6817, 7860), begin='00:00:06.817', end='00:00:07.860', metadata=None), Utterance(utterance='∙hhh hh (0.8)', participant='A', time=(7860, 9125), begin='00:00:07.860', end='00:00:09.125', metadata=None), Utterance(utterance='you ∆SON OF A BITCH∆ (1.0)', participant='T', time=(9493, 11118), begin='00:00:09.493', end='00:00:11.118', metadata=None), Utterance(utterance='that is pretty poor form', participant='A', time=(12116, 13463), begin='00:00:12.116', end='00:00:13.463', metadata=None), Utterance(utterance=\"°that's alright° (0.4)\", participant='T', time=(13463, 14148), begin='00:00:13.463', end='00:00:14.148', metadata=None), Utterance(utterance=\"he:y look→ look at the Myspace badge that Spencer got- (.) I've got one as well but it's at work ⌈ʔhah (0.5) who the⌉ fuck would ever ⌈wear that⇗\", participant='T', time=(14511, 16961), begin='00:00:14.511', end='00:00:16.961', metadata=None), Utterance(utterance=\"⌊hh⌋ (.) ⌊hhh heh ha ∙hh ah good that's what I was thinkin(g)→ (0.8)\", participant='A', time=(19144, 24218), begin='00:00:19.144', end='00:00:24.218', metadata=None), Utterance(utterance='I was about to ask I hope you never actually wear that', participant='A', time=(25013, 27002), begin='00:00:25.013', end='00:00:27.002', metadata=None), Utterance(utterance=\"I know (.) it's insane (0.2) ⌈like that'll show up\", participant='T', time=(27002, 27919), begin='00:00:27.002', end='00:00:27.919', metadata=None), Utterance(utterance='⌊hh heh', participant='A', time=(28990, 29420), begin='00:00:28.990', end='00:00:29.420', metadata=None), Utterance(utterance=\"+≋ in a fucking (0.4) you know (0.3) like a tra- like at a flea market or something in about th-thirty years time and people'll be ⌈like ≋\", participant='T', time=(29000, 31334), begin='00:00:29.000', end='00:00:31.334', metadata=None), Utterance(utterance='⌊yeah', participant='A', time=(34292, 34571), begin='00:00:34.292', end='00:00:34.571', metadata=None), Utterance(utterance='+≋ he(hh)y remember the internet⇗ (0.4)', participant='T', time=(34883, 36061), begin='00:00:34.883', end='00:00:36.061', metadata=None), Utterance(utterance='hhh ha ha ⌈ha ha', participant='A', time=(36479, 38313), begin='00:00:36.479', end='00:00:38.313', metadata=None), Utterance(utterance='⌊that piece of shit→ (1.5)', participant='T', time=(37913, 38940), begin='00:00:37.913', end='00:00:38.940', metadata=None), Utterance(utterance='remember that thi:ng (.) my:space I hear it was a place for friends', participant='T', time=(40227, 41585), begin='00:00:40.227', end='00:00:41.585', metadata=None), Utterance(utterance='∙hh he ha ha ha ha', participant='A', time=(43310, 45041), begin='00:00:43.310', end='00:00:45.041', metadata=None), Utterance(utterance=\"and ⌈now the internet's in our (0.3) like ⌈I dunno wireless≋\", participant='T', time=(45041, 47450), begin='00:00:45.041', end='00:00:47.450', metadata=None), Utterance(utterance='⌊∙hh ⌊huh heh', participant='A', time=(47450, 48019), begin='00:00:47.450', end='00:00:48.019', metadata=None), Utterance(utterance='+≋ picked up by a fucking (0.2) receivers in our teeth→ (0.2)', participant='T', time=(47819, 49946), begin='00:00:47.819', end='00:00:49.946', metadata=None), Utterance(utterance='hhh hhh (0.2)', participant='A', time=(50260, 51572), begin='00:00:50.260', end='00:00:51.572', metadata=None), Utterance(utterance=\"wo:w ⌈look 't your computer it's all black (0.3) like night rider\", participant='T', time=(52046, 55113), begin='00:00:52.046', end='00:00:55.113', metadata=None), Utterance(utterance='⌊hh (0.2)', participant='A', time=(55113, 55554), begin='00:00:55.113', end='00:00:55.554', metadata=None), Utterance(utterance='what are all those audio outs on the front for→ (0.9)', participant='T', time=(56983, 58748), begin='00:00:56.983', end='00:00:58.748', metadata=None), Utterance(utterance=\"ah::m so I don't have to (0.4) go scrabblin round the back to (0.5) I dunno why actually it's just ⌈that's the way it came→\", participant='A', time=(59677, 62754), begin='00:00:59.677', end='00:01:02.754', metadata=None), Utterance(utterance=\"⌊if there's one thing I hate it's scrabbling (0.6)\", participant='T', time=(64492, 66141), begin='00:01:04.492', end='00:01:06.141', metadata=None), Utterance(utterance='hh ∙hh (1.0)', participant='A', time=(66542, 68000), begin='00:01:06.542', end='00:01:08.000', metadata=None), Utterance(utterance='°like a madman° (4.4)', participant='T', time=(68867, 69730), begin='00:01:08.867', end='00:01:09.730', metadata=None), Utterance(utterance='my guts feel wrong→ (4.0)', participant='T', time=(74135, 75412), begin='00:01:14.135', end='00:01:15.412', metadata=None), Utterance(utterance=\"d'you guys get trashed last night or somethin⇗ (0.3)\", participant='A', time=(79492, 81212), begin='00:01:19.492', end='00:01:21.212', metadata=None), Utterance(utterance='nah I did- °I dunno whether she did° (0.8) laughed at me (.) while I ⌈was (.) dying→', participant='T', time=(81274, 83248), begin='00:01:21.274', end='00:01:23.248', metadata=None), Utterance(utterance='⌊∙hh (.)', participant='A', time=(84833, 86528), begin='00:01:24.833', end='00:01:26.528', metadata=None), Utterance(utterance='⌈was that at work again when you were→', participant='A', time=(89228, 90697), begin='00:01:29.228', end='00:01:30.697', metadata=None), Utterance(utterance='⌊oh (0.8)', participant='T', time=(89228, 89634), begin='00:01:29.228', end='00:01:29.634', metadata=None), Utterance(utterance=\"we went down to like (0.7) hh hh (0.7) remember that place that Michael always talks about like down at (0.7) fucking (1.0) Balmoral like the Oxford one five two he's always like obsessed with it≋\", participant='T', time=(91181, 93375), begin='00:01:31.181', end='00:01:33.375', metadata=None), Utterance(utterance=\"+≋ °what the fuck°- no doesn't ring a bell→ (2.0)\", participant='A', time=(102228, 104118), begin='00:01:42.228', end='00:01:44.118', metadata=None), Utterance(utterance=\"it's a fuckin shithole→ (0.4) you should've seen the scumbags that are there (0.2) it was just like ∙h (0.4) and the barmen are just the- like a pack of absolute faggot- you know they do all that shitwhere they like (0.7) get a gla:ss (0.4) like I asked for a bourbon and coke and the guy's just like ∙h grabbed a glass spun it (.) put it down- like slammed it down and then just like put two pieces of ice in ∙h (0.3) poured some bourbon over it (0.4) put some more ice and then just like (0.3) stuck a fuckin si:lver thing over the top and then like threw it up (.) put it behind his back an shook it and then put it down and then handed it to me⇗ (0.3)\", participant='T', time=(106163, 107231), begin='00:01:46.163', end='00:01:47.231', metadata=None), Utterance(utterance='what a homo→', participant='A', time=(134551, 135213), begin='00:02:14.551', end='00:02:15.213', metadata=None), Utterance(utterance=\"+≈ I said just POUR IT AN' GIVE IT TO ME ↘ (0.2)\", participant='T', time=(135213, 137004), begin='00:02:15.213', end='00:02:17.004', metadata=None), Utterance(utterance='hh huh hu (0.3)', participant='A', time=(137034, 138344), begin='00:02:17.034', end='00:02:18.344', metadata=None), Utterance(utterance=\"what kind of ga:me does he think think he's play:in⇗ (0.4)\", participant='A', time=(138619, 140643), begin='00:02:18.619', end='00:02:20.643', metadata=None), Utterance(utterance='hm: (0.5) a fucking stupid one → (0.4)', participant='T', time=(141001, 142628), begin='00:02:21.001', end='00:02:22.628', metadata=None), Utterance(utterance='hhh (0.6)', participant='A', time=(143052, 143696), begin='00:02:23.052', end='00:02:23.696', metadata=None), Utterance(utterance=\"and then he was just like- spent most of the time like flirting with these chicks (0.8) while he's meant to be wor:king (1.2)\", participant='T', time=(144292, 147670), begin='00:02:24.292', end='00:02:27.670', metadata=None), Utterance(utterance=\"poor work ethic (0.5) that's what that is → (0.6)\", participant='T', time=(150526, 152485), begin='00:02:30.526', end='00:02:32.485', metadata=None), Utterance(utterance='ho:rrible→ (0.8)', participant='A', time=(153018, 153680), begin='00:02:33.018', end='00:02:33.680', metadata=None), Utterance(utterance='∙hh', participant='T', time=(154499, 154842), begin='00:02:34.499', end='00:02:34.842', metadata=None), Utterance(utterance='we should find out where he lives and threaten his life→ (4.2)', participant='A', time=(154842, 157348), begin='00:02:34.842', end='00:02:37.348', metadata=None), Utterance(utterance=\"there's one thing I forgot to bri:ng ≈\", participant='A', time=(161570, 163027), begin='00:02:41.570', end='00:02:43.027', metadata=None), Utterance(utterance='+≋ f(h)ind out where he li(h)ves and threaten his li:fe', participant='T', time=(163027, 165523), begin='00:02:43.027', end='00:02:45.523', metadata=None), Utterance(utterance=\"hhhh I'm so(h)rry→ ∙hh I only just caught up to what you were saying\", participant='T', time=(165523, 169401), begin='00:02:45.523', end='00:02:49.401', metadata=None), Utterance(utterance='hh ∙hh I forgot to bring ah::m (0.3) a whatsername cable so can I borrow the one you had (.)', participant='A', time=(169401, 170599), begin='00:02:49.401', end='00:02:50.599', metadata=None), Utterance(utterance='a WHAT⇗', participant='T', time=(174388, 175038), begin='00:02:54.388', end='00:02:55.038', metadata=None), Utterance(utterance='ah: a network cable', participant='A', time=(175038, 176552), begin='00:02:55.038', end='00:02:56.552', metadata=None), Utterance(utterance='oh for °fucks sa:ke°- ye:ah just ⌈plug in that one⌉', participant='T', time=(176552, 178180), begin='00:02:56.552', end='00:02:58.180', metadata=None), Utterance(utterance=\"⌊cause ⌋ because I don't actually have internet running at my place⇗ (0.3)\", participant='A', time=(178762, 181741), begin='00:02:58.762', end='00:03:01.741', metadata=None), Utterance(utterance=\"yeah yeah oh that's what I was gonna do I didn't even think you'd brin- bring a network cable↘ (0.5)\", participant='T', time=(182148, 183530), begin='00:03:02.148', end='00:03:03.530', metadata=None), Utterance(utterance='ah: I got nothing→ (0.3)', participant='A', time=(185840, 186746), begin='00:03:05.840', end='00:03:06.746', metadata=None), Utterance(utterance=\"I ca:n't believe those useless pricks (1.0)\", participant='T', time=(187040, 188607), begin='00:03:07.040', end='00:03:08.607', metadata=None), Utterance(utterance=\"it's ah:m\", participant='A', time=(189651, 190227), begin='00:03:09.651', end='00:03:10.227', metadata=None), Utterance(utterance='+≋ is that a World of Warcraft mousemat → (1.1)', participant='T', time=(190227, 192003), begin='00:03:10.227', end='00:03:12.003', metadata=None), Utterance(utterance='hhh (0.3) no⇗', participant='A', time=(192748, 194037), begin='00:03:12.748', end='00:03:14.037', metadata=None), Utterance(utterance='does it help you ⌈like navigate the rea:lms⇗', participant='T', time=(194037, 196022), begin='00:03:14.037', end='00:03:16.022', metadata=None), Utterance(utterance=\"⌊∙hh ye:ah it does but it's only outlands↘ (0.2)\", participant='A', time=(194422, 196349), begin='00:03:14.422', end='00:03:16.349', metadata=None), Utterance(utterance='na hahah ⌈haha w(h)here- how did you g(h)et that', participant='T', time=(198525, 201335), begin='00:03:18.525', end='00:03:21.335', metadata=None), Utterance(utterance='⌊hhh', participant='A', time=(199525, 200634), begin='00:03:19.525', end='00:03:20.634', metadata=None), Utterance(utterance='I ordered the expansion pack it came free so I thought (0.6) why not', participant='A', time=(201335, 202519), begin='00:03:21.335', end='00:03:22.519', metadata=None), Utterance(utterance='when you preordered→ (0.4)', participant='T', time=(204892, 205635), begin='00:03:24.892', end='00:03:25.635', metadata=None), Utterance(utterance='yeah→ (0.5)', participant='A', time=(206018, 206297), begin='00:03:26.018', end='00:03:26.297', metadata=None), Utterance(utterance=\"cause I didn't get one when I bought it→ (0.5)\", participant='T', time=(206833, 208282), begin='00:03:26.833', end='00:03:28.282', metadata=None), Utterance(utterance=\"I just ah:m it was just by fluke 'cause (0.2) 'cause I ordered like (.) a decade before it actually came out→ (0.5)\", participant='A', time=(208559, 209116), begin='00:03:28.559', end='00:03:29.116', metadata=None), Utterance(utterance='∙hh (0.2)', participant='T', time=(213986, 214087), begin='00:03:33.986', end='00:03:34.087', metadata=None), Utterance(utterance=\"they said ahm 'cause you ordered so early you (0.3)\", participant='A', time=(214310, 216249), begin='00:03:34.310', end='00:03:36.249', metadata=None), Utterance(utterance=\"we're offering you the ah::m (0.8) the limited edition version for an extra fifty bucks→ (0.6)\", participant='A', time=(216595, 221936), begin='00:03:36.595', end='00:03:41.936', metadata=None), Utterance(utterance='eh-fifty bucks- ⌈what did⌋ it co:me with→', participant='T', time=(222536, 223500), begin='00:03:42.536', end='00:03:43.500', metadata=None), Utterance(utterance='⌊yeah⌋ (0.4)', participant='A', time=(223500, 224235), begin='00:03:43.500', end='00:03:44.235', metadata=None), Utterance(utterance='we:ll (0.4) according to the phone it (0.2) came with like (0.8) a dragon orb and all sorts of ⌈wonderous magical items⇗', participant='A', time=(224687, 227613), begin='00:03:44.687', end='00:03:47.613', metadata=None), Utterance(utterance='⌊hhhh', participant='T', time=(230439, 232095), begin='00:03:50.439', end='00:03:52.095', metadata=None), Utterance(utterance='∙hh a dr(h)agon orb(h) ∙hh ⌈hhh', participant='T', time=(232095, 234813), begin='00:03:52.095', end='00:03:54.813', metadata=None), Utterance(utterance='⌊but the only thing of any practical use was actually the mouse:pad', participant='A', time=(233742, 236656), begin='00:03:53.742', end='00:03:56.656', metadata=None), Utterance(utterance=\"⌈'cause I didn't actually have one already→\", participant='A', time=(236656, 238026), begin='00:03:56.656', end='00:03:58.026', metadata=None), Utterance(utterance='⌊hhhh hh ⌈hh', participant='T', time=(236656, 239559), begin='00:03:56.656', end='00:03:59.559', metadata=None), Utterance(utterance='⌊the rest was all tr- I got like (.) a pack of their trading card ga:me→ (2.2) ah:m (1.0)', participant='A', time=(238839, 239656), begin='00:03:58.839', end='00:03:59.656', metadata=None), Utterance(utterance='∆didya get like the∆ free like turtlemount⇗ (0.6) with no speed increase⇗ (0.9)', participant='T', time=(245017, 246724), begin='00:04:05.017', end='00:04:06.724', metadata=None), Utterance(utterance=\"no⇗ (0.4) I didn't even get that- o:h (.) I got some shitty in game netherwhelp⇗ (0.9)\", participant='A', time=(249236, 250760), begin='00:04:09.236', end='00:04:10.760', metadata=None), Utterance(utterance=\"what the hell's that\", participant='T', time=(253856, 254429), begin='00:04:13.856', end='00:04:14.429', metadata=None), Utterance(utterance='+≈ you how you can get pets like ⌈you know the parrot-folly rat', participant='A', time=(254429, 256807), begin='00:04:14.429', end='00:04:16.807', metadata=None), Utterance(utterance='⌊mm:', participant='T', time=(255762, 256140), begin='00:04:15.762', end='00:04:16.140', metadata=None), Utterance(utterance='+≋ a ca:⌈t snake-cockroach', participant='A', time=(256807, 258320), begin='00:04:16.807', end='00:04:18.320', metadata=None), Utterance(utterance='⌊mm: (0.4)', participant='T', time=(257307, 257721), begin='00:04:17.307', end='00:04:17.721', metadata=None), Utterance(utterance='I got a netherwhelp→ (0.4)', participant='A', time=(258675, 259650), begin='00:04:18.675', end='00:04:19.650', metadata=None), Utterance(utterance='hm: (1.0)', participant='T', time=(260011, 260413), begin='00:04:20.011', end='00:04:20.413', metadata=None), Utterance(utterance='cause all- everyone who ordered the initial game (0.2) special edition they got a small panda⇗ (0.5)', participant='A', time=(261311, 264407), begin='00:04:21.311', end='00:04:24.407', metadata=None), Utterance(utterance='m h(h)', participant='T', time=(266042, 266457), begin='00:04:26.042', end='00:04:26.457', metadata=None), Utterance(utterance='and my thing is the netherwhelp→ (.)', participant='A', time=(266457, 267993), begin='00:04:26.457', end='00:04:27.993', metadata=None), Utterance(utterance='nh hh (0.3) netherwhelp→ (0.6)', participant='T', time=(268080, 269955), begin='00:04:28.080', end='00:04:29.955', metadata=None), Utterance(utterance='they picked ah: (0.5)', participant='A', time=(270573, 271360), begin='00:04:30.573', end='00:04:31.360', metadata=None), Utterance(utterance='hold it- what does it look like just (0.3) a ball of shit (.)', participant='T', time=(271868, 272858), begin='00:04:31.868', end='00:04:32.858', metadata=None), Utterance(utterance='well you know like the- like how every second creature in the game is a small flying baby dragon⇗', participant='A', time=(274682, 275635), begin='00:04:34.682', end='00:04:35.635', metadata=None), Utterance(utterance='yeah→', participant='T', time=(279329, 279768), begin='00:04:39.329', end='00:04:39.768', metadata=None), Utterance(utterance=\"that's what it looks like↘\", participant='A', time=(279768, 280634), begin='00:04:39.768', end='00:04:40.634', metadata=None), Utterance(utterance='oh (.) gay (0.6)', participant='T', time=(280634, 281573), begin='00:04:40.634', end='00:04:41.573', metadata=None), Utterance(utterance='∙hh (0.5) °(fuckin) ripoff° (1.0) I guess you co:uld say I got owned', participant='A', time=(282000, 283938), begin='00:04:42.000', end='00:04:43.938', metadata=None), Utterance(utterance='&=snorted_laugh hehe', participant='T', time=(286485, 287875), begin='00:04:46.485', end='00:04:47.875', metadata=None)]\n"
     ]
    }
   ],
   "source": [
    "print(parsed_cha.metadata)\n",
    "print(parsed_cha.utterances)"
   ]
  },
  {
   "cell_type": "code",
   "execution_count": 3,
   "metadata": {},
   "outputs": [
    {
     "name": "stdout",
     "output_type": "stream",
     "text": [
      "{\"utterance\": \"&=noise after all the planning and thinking about today (0.8) I realised that I forgot to bring your Conan book in aga:in\\u2192 (.)\", \"participant\": \"A\", \"time\": [0, 2856], \"begin\": \"00:00:00.000\", \"end\": \"00:00:02.856\", \"metadata\": null}\n"
     ]
    }
   ],
   "source": [
    "import json\n",
    "\n",
    "testutt = parsed_cha.utterances[0]\n",
    "print(json.dumps(testutt.__dict__)) # row.to_dict()\n",
    "                # json.dump(json_object, file)\n",
    "                # file.write('\\n')\n"
   ]
  },
  {
   "cell_type": "markdown",
   "metadata": {},
   "source": [
    "## The `from_convokit` module\n",
    "\n",
    "Here, we import a single class from the `csv_to_json` module, and use it."
   ]
  },
  {
   "cell_type": "code",
   "execution_count": 2,
   "metadata": {},
   "outputs": [],
   "source": [
    "import sktalk.from_convokit as ck"
   ]
  },
  {
   "cell_type": "code",
   "execution_count": 1,
   "metadata": {},
   "outputs": [
    {
     "data": {
      "text/html": [
       "<div>\n",
       "<style scoped>\n",
       "    .dataframe tbody tr th:only-of-type {\n",
       "        vertical-align: middle;\n",
       "    }\n",
       "\n",
       "    .dataframe tbody tr th {\n",
       "        vertical-align: top;\n",
       "    }\n",
       "\n",
       "    .dataframe thead th {\n",
       "        text-align: right;\n",
       "    }\n",
       "</style>\n",
       "<table border=\"1\" class=\"dataframe\">\n",
       "  <thead>\n",
       "    <tr style=\"text-align: right;\">\n",
       "      <th></th>\n",
       "      <th>timestamp</th>\n",
       "      <th>speaker</th>\n",
       "      <th>text</th>\n",
       "      <th>translation</th>\n",
       "      <th>conversation_id</th>\n",
       "      <th>utterance_raw</th>\n",
       "      <th>reply_to</th>\n",
       "    </tr>\n",
       "  </thead>\n",
       "  <tbody>\n",
       "    <tr>\n",
       "      <th>0</th>\n",
       "      <td>1332718704</td>\n",
       "      <td>Tang</td>\n",
       "      <td>U oughs inim tï samting yan</td>\n",
       "      <td>Lorem ipsum dolor sit amet.</td>\n",
       "      <td>/ulwa1/ulwa014</td>\n",
       "      <td>U oughs inim tï samting yangama ul matï akïnakape</td>\n",
       "      <td>None</td>\n",
       "    </tr>\n",
       "    <tr>\n",
       "      <th>1</th>\n",
       "      <td>1332732704</td>\n",
       "      <td>Yan</td>\n",
       "      <td>mbam ndul ma wandam ana</td>\n",
       "      <td>At neque fugit eum reprehenderit labore et exe...</td>\n",
       "      <td>/ulwa1/ulwa014</td>\n",
       "      <td>wimbam ndul ma wandam anapa ol welunda nïkap t...</td>\n",
       "      <td>None</td>\n",
       "    </tr>\n",
       "    <tr>\n",
       "      <th>2</th>\n",
       "      <td>1332743704</td>\n",
       "      <td>Tang</td>\n",
       "      <td>Mï inim wandam bai anapa nd</td>\n",
       "      <td>a veritatis tempore sit vitae quaerat sed cons...</td>\n",
       "      <td>/ulwa1/ulwa014</td>\n",
       "      <td>Mï inim wandam bai anapa ndïtï ka welunda unan</td>\n",
       "      <td>None</td>\n",
       "    </tr>\n",
       "    <tr>\n",
       "      <th>3</th>\n",
       "      <td>1332754704</td>\n",
       "      <td>Yan</td>\n",
       "      <td>lunda we ndïmïne in</td>\n",
       "      <td>NaN</td>\n",
       "      <td>/ulwa1/ulwa014</td>\n",
       "      <td>ata welunda we ndïmïne ind</td>\n",
       "      <td>None</td>\n",
       "    </tr>\n",
       "    <tr>\n",
       "      <th>4</th>\n",
       "      <td>1332765704</td>\n",
       "      <td>Tang</td>\n",
       "      <td>kïnakape akïnaka</td>\n",
       "      <td>NaN</td>\n",
       "      <td>/ulwa1/ulwa014</td>\n",
       "      <td>i akïnakape akïnakap</td>\n",
       "      <td>None</td>\n",
       "    </tr>\n",
       "    <tr>\n",
       "      <th>5</th>\n",
       "      <td>1332776704</td>\n",
       "      <td>Yan</td>\n",
       "      <td>coughs ndïmïne we ndul wa le we ndïtï akïnakap...</td>\n",
       "      <td>Et illo facere vel magni necessitatibus est as...</td>\n",
       "      <td>/ulwa1/ulwa014</td>\n",
       "      <td>[coughs] I inim oughs ka lopop mananda bai kïk...</td>\n",
       "      <td>None</td>\n",
       "    </tr>\n",
       "    <tr>\n",
       "      <th>6</th>\n",
       "      <td>1332787704</td>\n",
       "      <td>Tang</td>\n",
       "      <td>mananda</td>\n",
       "      <td>NaN</td>\n",
       "      <td>/ulwa1/ulwa014</td>\n",
       "      <td>n mananda ndïtï ka akïnakape wimbam</td>\n",
       "      <td>None</td>\n",
       "    </tr>\n",
       "    <tr>\n",
       "      <th>7</th>\n",
       "      <td>1332788704</td>\n",
       "      <td>Yan</td>\n",
       "      <td>da</td>\n",
       "      <td>NaN</td>\n",
       "      <td>/ulwa1/ulwa014</td>\n",
       "      <td>da ndïtï ka</td>\n",
       "      <td>None</td>\n",
       "    </tr>\n",
       "    <tr>\n",
       "      <th>8</th>\n",
       "      <td>1332789704</td>\n",
       "      <td>Tang</td>\n",
       "      <td>e kïkal awi akïnakape</td>\n",
       "      <td>onsequatur amet qui nisi facilis et perferendi...</td>\n",
       "      <td>/ulwa1/ulwa014</td>\n",
       "      <td>e kïkal awi akïnakape manï lï</td>\n",
       "      <td>None</td>\n",
       "    </tr>\n",
       "    <tr>\n",
       "      <th>9</th>\n",
       "      <td>1332999704</td>\n",
       "      <td>Yan</td>\n",
       "      <td>atïm inim.</td>\n",
       "      <td>itae quaerat sed consequatur amet</td>\n",
       "      <td>/ulwa1/ulwa014</td>\n",
       "      <td>atïm inim.</td>\n",
       "      <td>None</td>\n",
       "    </tr>\n",
       "  </tbody>\n",
       "</table>\n",
       "</div>"
      ],
      "text/plain": [
       "    timestamp speaker                                               text  \\\n",
       "0  1332718704    Tang                        U oughs inim tï samting yan   \n",
       "1  1332732704     Yan                            mbam ndul ma wandam ana   \n",
       "2  1332743704    Tang                        Mï inim wandam bai anapa nd   \n",
       "3  1332754704     Yan                                lunda we ndïmïne in   \n",
       "4  1332765704    Tang                                   kïnakape akïnaka   \n",
       "5  1332776704     Yan  coughs ndïmïne we ndul wa le we ndïtï akïnakap...   \n",
       "6  1332787704    Tang                                            mananda   \n",
       "7  1332788704     Yan                                                 da   \n",
       "8  1332789704    Tang                              e kïkal awi akïnakape   \n",
       "9  1332999704     Yan                                         atïm inim.   \n",
       "\n",
       "                                         translation conversation_id  \\\n",
       "0                        Lorem ipsum dolor sit amet.  /ulwa1/ulwa014   \n",
       "1  At neque fugit eum reprehenderit labore et exe...  /ulwa1/ulwa014   \n",
       "2  a veritatis tempore sit vitae quaerat sed cons...  /ulwa1/ulwa014   \n",
       "3                                                NaN  /ulwa1/ulwa014   \n",
       "4                                                NaN  /ulwa1/ulwa014   \n",
       "5  Et illo facere vel magni necessitatibus est as...  /ulwa1/ulwa014   \n",
       "6                                                NaN  /ulwa1/ulwa014   \n",
       "7                                                NaN  /ulwa1/ulwa014   \n",
       "8  onsequatur amet qui nisi facilis et perferendi...  /ulwa1/ulwa014   \n",
       "9                  itae quaerat sed consequatur amet  /ulwa1/ulwa014   \n",
       "\n",
       "                                       utterance_raw reply_to  \n",
       "0  U oughs inim tï samting yangama ul matï akïnakape     None  \n",
       "1  wimbam ndul ma wandam anapa ol welunda nïkap t...     None  \n",
       "2     Mï inim wandam bai anapa ndïtï ka welunda unan     None  \n",
       "3                         ata welunda we ndïmïne ind     None  \n",
       "4                               i akïnakape akïnakap     None  \n",
       "5  [coughs] I inim oughs ka lopop mananda bai kïk...     None  \n",
       "6                n mananda ndïtï ka akïnakape wimbam     None  \n",
       "7                                        da ndïtï ka     None  \n",
       "8                      e kïkal awi akïnakape manï lï     None  \n",
       "9                                         atïm inim.     None  "
      ]
     },
     "execution_count": 1,
     "metadata": {},
     "output_type": "execute_result"
    }
   ],
   "source": [
    "import pandas as pd\n",
    "df = pd.read_csv(\"../data/ulwa_testdata_convokit_format.csv\")"
   ]
  },
  {
   "cell_type": "code",
   "execution_count": 4,
   "metadata": {},
   "outputs": [
    {
     "name": "stdout",
     "output_type": "stream",
     "text": [
      "ID column is not present in utterances dataframe, generated ID column from dataframe index...\n"
     ]
    },
    {
     "name": "stderr",
     "output_type": "stream",
     "text": [
      "10it [00:00, 4043.87it/s]\n"
     ]
    }
   ],
   "source": [
    "corpus = ck.Corpus.from_pandas(utterances_df = df)\n"
   ]
  },
  {
   "cell_type": "code",
   "execution_count": 5,
   "metadata": {},
   "outputs": [],
   "source": [
    "corpus.dump(name ='testcorpus', base_path=\"../data/\")"
   ]
  },
  {
   "attachments": {},
   "cell_type": "markdown",
   "metadata": {},
   "source": [
    "## The `csv_to_json` module\n",
    "\n",
    "Here, we import a single class from the `csv_to_json` module, and use it."
   ]
  },
  {
   "cell_type": "code",
   "execution_count": 6,
   "metadata": {},
   "outputs": [],
   "source": [
    "import sktalk.corpus as cj\n"
   ]
  },
  {
   "cell_type": "code",
   "execution_count": 7,
   "metadata": {},
   "outputs": [
    {
     "data": {
      "text/html": [
       "<div>\n",
       "<style scoped>\n",
       "    .dataframe tbody tr th:only-of-type {\n",
       "        vertical-align: middle;\n",
       "    }\n",
       "\n",
       "    .dataframe tbody tr th {\n",
       "        vertical-align: top;\n",
       "    }\n",
       "\n",
       "    .dataframe thead th {\n",
       "        text-align: right;\n",
       "    }\n",
       "</style>\n",
       "<table border=\"1\" class=\"dataframe\">\n",
       "  <thead>\n",
       "    <tr style=\"text-align: right;\">\n",
       "      <th></th>\n",
       "      <th>begin</th>\n",
       "      <th>end</th>\n",
       "      <th>participant</th>\n",
       "      <th>utterance</th>\n",
       "      <th>translation</th>\n",
       "      <th>source</th>\n",
       "      <th>utterance_raw</th>\n",
       "    </tr>\n",
       "  </thead>\n",
       "  <tbody>\n",
       "    <tr>\n",
       "      <th>0</th>\n",
       "      <td>00:00:00.917</td>\n",
       "      <td>00:00:05.604</td>\n",
       "      <td>Tang</td>\n",
       "      <td>U oughs inim tï samting yan</td>\n",
       "      <td>Lorem ipsum dolor sit amet.</td>\n",
       "      <td>/ulwa1/ulwa014</td>\n",
       "      <td>U oughs inim tï samting yangama ul matï akïnakape</td>\n",
       "    </tr>\n",
       "    <tr>\n",
       "      <th>1</th>\n",
       "      <td>00:00:04.830</td>\n",
       "      <td>00:00:09.080</td>\n",
       "      <td>Yan</td>\n",
       "      <td>mbam ndul ma wandam ana</td>\n",
       "      <td>At neque fugit eum reprehenderit labore et exe...</td>\n",
       "      <td>/ulwa1/ulwa014</td>\n",
       "      <td>wimbam ndul ma wandam anapa ol welunda nïkap t...</td>\n",
       "    </tr>\n",
       "    <tr>\n",
       "      <th>2</th>\n",
       "      <td>00:00:06.090</td>\n",
       "      <td>00:00:09.450</td>\n",
       "      <td>Tang</td>\n",
       "      <td>Mï inim wandam bai anapa nd</td>\n",
       "      <td>a veritatis tempore sit vitae quaerat sed cons...</td>\n",
       "      <td>/ulwa1/ulwa014</td>\n",
       "      <td>Mï inim wandam bai anapa ndïtï ka welunda unan</td>\n",
       "    </tr>\n",
       "    <tr>\n",
       "      <th>3</th>\n",
       "      <td>00:00:09.534</td>\n",
       "      <td>00:00:10.333</td>\n",
       "      <td>Yan</td>\n",
       "      <td>lunda we ndïmïne in</td>\n",
       "      <td>NaN</td>\n",
       "      <td>/ulwa1/ulwa014</td>\n",
       "      <td>ata welunda we ndïmïne ind</td>\n",
       "    </tr>\n",
       "    <tr>\n",
       "      <th>4</th>\n",
       "      <td>00:00:10.333</td>\n",
       "      <td>00:00:11.143</td>\n",
       "      <td>Tang</td>\n",
       "      <td>kïnakape akïnaka</td>\n",
       "      <td>NaN</td>\n",
       "      <td>/ulwa1/ulwa014</td>\n",
       "      <td>i akïnakape akïnakap</td>\n",
       "    </tr>\n",
       "    <tr>\n",
       "      <th>5</th>\n",
       "      <td>00:00:11.143</td>\n",
       "      <td>00:00:18.240</td>\n",
       "      <td>Yan</td>\n",
       "      <td>coughs ndïmïne we ndul wa le we ndïtï akïnakap...</td>\n",
       "      <td>Et illo facere vel magni necessitatibus est as...</td>\n",
       "      <td>/ulwa1/ulwa014</td>\n",
       "      <td>[coughs] I inim oughs ka lopop mananda bai kïk...</td>\n",
       "    </tr>\n",
       "    <tr>\n",
       "      <th>6</th>\n",
       "      <td>00:00:11.477</td>\n",
       "      <td>00:00:12.205</td>\n",
       "      <td>Tang</td>\n",
       "      <td>mananda</td>\n",
       "      <td>NaN</td>\n",
       "      <td>/ulwa1/ulwa014</td>\n",
       "      <td>n mananda ndïtï ka akïnakape wimbam</td>\n",
       "    </tr>\n",
       "    <tr>\n",
       "      <th>7</th>\n",
       "      <td>00:00:14.390</td>\n",
       "      <td>00:00:15.696</td>\n",
       "      <td>Yan</td>\n",
       "      <td>da</td>\n",
       "      <td>NaN</td>\n",
       "      <td>/ulwa1/ulwa014</td>\n",
       "      <td>da ndïtï ka</td>\n",
       "    </tr>\n",
       "    <tr>\n",
       "      <th>8</th>\n",
       "      <td>00:00:17.972</td>\n",
       "      <td>00:00:20.722</td>\n",
       "      <td>Tang</td>\n",
       "      <td>e kïkal awi akïnakape</td>\n",
       "      <td>onsequatur amet qui nisi facilis et perferendi...</td>\n",
       "      <td>/ulwa1/ulwa014</td>\n",
       "      <td>e kïkal awi akïnakape manï lï</td>\n",
       "    </tr>\n",
       "    <tr>\n",
       "      <th>9</th>\n",
       "      <td>00:00:18.240</td>\n",
       "      <td>00:00:21.970</td>\n",
       "      <td>Yan</td>\n",
       "      <td>atïm inim.</td>\n",
       "      <td>itae quaerat sed consequatur amet</td>\n",
       "      <td>/ulwa1/ulwa014</td>\n",
       "      <td>atïm inim.</td>\n",
       "    </tr>\n",
       "  </tbody>\n",
       "</table>\n",
       "</div>"
      ],
      "text/plain": [
       "          begin           end participant  \\\n",
       "0  00:00:00.917  00:00:05.604        Tang   \n",
       "1  00:00:04.830  00:00:09.080         Yan   \n",
       "2  00:00:06.090  00:00:09.450        Tang   \n",
       "3  00:00:09.534  00:00:10.333         Yan   \n",
       "4  00:00:10.333  00:00:11.143        Tang   \n",
       "5  00:00:11.143  00:00:18.240         Yan   \n",
       "6  00:00:11.477  00:00:12.205        Tang   \n",
       "7  00:00:14.390  00:00:15.696         Yan   \n",
       "8  00:00:17.972  00:00:20.722        Tang   \n",
       "9  00:00:18.240  00:00:21.970         Yan   \n",
       "\n",
       "                                           utterance  \\\n",
       "0                        U oughs inim tï samting yan   \n",
       "1                            mbam ndul ma wandam ana   \n",
       "2                        Mï inim wandam bai anapa nd   \n",
       "3                                lunda we ndïmïne in   \n",
       "4                                   kïnakape akïnaka   \n",
       "5  coughs ndïmïne we ndul wa le we ndïtï akïnakap...   \n",
       "6                                            mananda   \n",
       "7                                                 da   \n",
       "8                              e kïkal awi akïnakape   \n",
       "9                                         atïm inim.   \n",
       "\n",
       "                                         translation          source  \\\n",
       "0                        Lorem ipsum dolor sit amet.  /ulwa1/ulwa014   \n",
       "1  At neque fugit eum reprehenderit labore et exe...  /ulwa1/ulwa014   \n",
       "2  a veritatis tempore sit vitae quaerat sed cons...  /ulwa1/ulwa014   \n",
       "3                                                NaN  /ulwa1/ulwa014   \n",
       "4                                                NaN  /ulwa1/ulwa014   \n",
       "5  Et illo facere vel magni necessitatibus est as...  /ulwa1/ulwa014   \n",
       "6                                                NaN  /ulwa1/ulwa014   \n",
       "7                                                NaN  /ulwa1/ulwa014   \n",
       "8  onsequatur amet qui nisi facilis et perferendi...  /ulwa1/ulwa014   \n",
       "9                  itae quaerat sed consequatur amet  /ulwa1/ulwa014   \n",
       "\n",
       "                                       utterance_raw  \n",
       "0  U oughs inim tï samting yangama ul matï akïnakape  \n",
       "1  wimbam ndul ma wandam anapa ol welunda nïkap t...  \n",
       "2     Mï inim wandam bai anapa ndïtï ka welunda unan  \n",
       "3                         ata welunda we ndïmïne ind  \n",
       "4                               i akïnakape akïnakap  \n",
       "5  [coughs] I inim oughs ka lopop mananda bai kïk...  \n",
       "6                n mananda ndïtï ka akïnakape wimbam  \n",
       "7                                        da ndïtï ka  \n",
       "8                      e kïkal awi akïnakape manï lï  \n",
       "9                                         atïm inim.  "
      ]
     },
     "execution_count": 7,
     "metadata": {},
     "output_type": "execute_result"
    }
   ],
   "source": [
    "corpus = cj.Corpus(\"../data/ulwa_testdata_sktalk_format.csv\")\n",
    "corpus.return_dataframe()\n",
    "corpus.df"
   ]
  },
  {
   "cell_type": "code",
   "execution_count": 8,
   "metadata": {},
   "outputs": [],
   "source": [
    "corpus.return_json()"
   ]
  },
  {
   "cell_type": "code",
   "execution_count": 9,
   "metadata": {},
   "outputs": [
    {
     "data": {
      "text/plain": [
       "'{\"begin\":{\"0\":\"00:00:00.917\",\"1\":\"00:00:04.830\",\"2\":\"00:00:06.090\",\"3\":\"00:00:09.534\",\"4\":\"00:00:10.333\",\"5\":\"00:00:11.143\",\"6\":\"00:00:11.477\",\"7\":\"00:00:14.390\",\"8\":\"00:00:17.972\",\"9\":\"00:00:18.240\"},\"end\":{\"0\":\"00:00:05.604\",\"1\":\"00:00:09.080\",\"2\":\"00:00:09.450\",\"3\":\"00:00:10.333\",\"4\":\"00:00:11.143\",\"5\":\"00:00:18.240\",\"6\":\"00:00:12.205\",\"7\":\"00:00:15.696\",\"8\":\"00:00:20.722\",\"9\":\"00:00:21.970\"},\"participant\":{\"0\":\"Tang\",\"1\":\"Yan\",\"2\":\"Tang\",\"3\":\"Yan\",\"4\":\"Tang\",\"5\":\"Yan\",\"6\":\"Tang\",\"7\":\"Yan\",\"8\":\"Tang\",\"9\":\"Yan\"},\"utterance\":{\"0\":\"U oughs inim t\\\\u00ef samting yan\",\"1\":\"mbam ndul ma wandam ana\",\"2\":\"M\\\\u00ef inim wandam bai anapa nd\",\"3\":\"lunda we nd\\\\u00efm\\\\u00efne in\",\"4\":\"k\\\\u00efnakape ak\\\\u00efnaka\",\"5\":\"coughs nd\\\\u00efm\\\\u00efne we ndul wa le we nd\\\\u00eft\\\\u00ef ak\\\\u00efnakape malimap mat\\\\u00ef yawa mananda\",\"6\":\"mananda\",\"7\":\"da\",\"8\":\"e k\\\\u00efkal awi ak\\\\u00efnakape\",\"9\":\"at\\\\u00efm inim.\"},\"translation\":{\"0\":\"Lorem ipsum dolor sit amet.\",\"1\":\"At neque fugit eum reprehenderit labore et exercitationem voluptatem.  eos odio aspernatur.\",\"2\":\"a veritatis tempore sit vitae quaerat sed consequatur amet qui nisi facilis et perferendis nisi ut maiores consequatur.\",\"3\":null,\"4\":null,\"5\":\"Et illo facere vel magni necessitatibus est aspernatur numquam\",\"6\":null,\"7\":null,\"8\":\"onsequatur amet qui nisi facilis et perferendis nisi ut\",\"9\":\"itae quaerat sed consequatur amet\"},\"source\":{\"0\":\"\\\\/ulwa1\\\\/ulwa014\",\"1\":\"\\\\/ulwa1\\\\/ulwa014\",\"2\":\"\\\\/ulwa1\\\\/ulwa014\",\"3\":\"\\\\/ulwa1\\\\/ulwa014\",\"4\":\"\\\\/ulwa1\\\\/ulwa014\",\"5\":\"\\\\/ulwa1\\\\/ulwa014\",\"6\":\"\\\\/ulwa1\\\\/ulwa014\",\"7\":\"\\\\/ulwa1\\\\/ulwa014\",\"8\":\"\\\\/ulwa1\\\\/ulwa014\",\"9\":\"\\\\/ulwa1\\\\/ulwa014\"},\"utterance_raw\":{\"0\":\"U oughs inim t\\\\u00ef samting yangama ul mat\\\\u00ef ak\\\\u00efnakape\",\"1\":\"wimbam ndul ma wandam anapa ol welunda n\\\\u00efkap tu mananda yangama \",\"2\":\"M\\\\u00ef inim wandam bai anapa nd\\\\u00eft\\\\u00ef ka welunda unan\",\"3\":\"ata welunda we nd\\\\u00efm\\\\u00efne ind\",\"4\":\"i ak\\\\u00efnakape ak\\\\u00efnakap\",\"5\":\"[coughs] I inim oughs ka lopop mananda bai k\\\\u00efkal yangama we ini\",\"6\":\"n mananda nd\\\\u00eft\\\\u00ef ka ak\\\\u00efnakape wimbam\",\"7\":\"da nd\\\\u00eft\\\\u00ef ka\",\"8\":\"e k\\\\u00efkal awi ak\\\\u00efnakape man\\\\u00ef l\\\\u00ef\",\"9\":\"at\\\\u00efm inim.\"}}'"
      ]
     },
     "execution_count": 9,
     "metadata": {},
     "output_type": "execute_result"
    }
   ],
   "source": [
    "corpus.json"
   ]
  }
 ],
 "metadata": {
  "kernelspec": {
   "display_name": "Python 3",
   "language": "python",
   "name": "python3"
  },
  "language_info": {
   "codemirror_mode": {
    "name": "ipython",
    "version": 3
   },
   "file_extension": ".py",
   "mimetype": "text/x-python",
   "name": "python",
   "nbconvert_exporter": "python",
   "pygments_lexer": "ipython3",
   "version": "3.10.11"
  },
  "orig_nbformat": 4,
  "vscode": {
   "interpreter": {
    "hash": "aee8b7b246df8f9039afb4144a1f6fd8d2ca17a180786b69acc140d282b71a49"
   }
  }
 },
 "nbformat": 4,
 "nbformat_minor": 2
}

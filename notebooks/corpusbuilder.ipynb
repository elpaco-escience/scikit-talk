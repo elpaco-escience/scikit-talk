{
 "cells": [
  {
   "cell_type": "code",
   "execution_count": 1,
   "metadata": {},
   "outputs": [],
   "source": [
    "# to ensure that the modules can be imported, as they are located in a different folder, add the package root to the path:\n",
    "\n",
    "import sys\n",
    "sys.path.insert(0, \"../\")\n",
    "\n"
   ]
  },
  {
   "attachments": {},
   "cell_type": "markdown",
   "metadata": {},
   "source": [
    "## The `my_module` module\n",
    "\n",
    "Import and use the `hello()` method:"
   ]
  },
  {
   "cell_type": "code",
   "execution_count": 2,
   "metadata": {},
   "outputs": [
    {
     "ename": "NameError",
     "evalue": "name 'StorageManager' is not defined",
     "output_type": "error",
     "traceback": [
      "\u001b[0;31m---------------------------------------------------------------------------\u001b[0m",
      "\u001b[0;31mNameError\u001b[0m                                 Traceback (most recent call last)",
      "\u001b[0;32m/var/folders/cq/3pnr839j6z36p3cvn_rc3mf5kwftq1/T/ipykernel_58409/2229193862.py\u001b[0m in \u001b[0;36m<module>\u001b[0;34m\u001b[0m\n\u001b[0;32m----> 1\u001b[0;31m \u001b[0;32mimport\u001b[0m \u001b[0msktalk\u001b[0m\u001b[0;34m.\u001b[0m\u001b[0mcorpusbuilder\u001b[0m \u001b[0;32mas\u001b[0m \u001b[0mcp\u001b[0m\u001b[0;34m\u001b[0m\u001b[0;34m\u001b[0m\u001b[0m\n\u001b[0m",
      "\u001b[0;32m~/scikit-talk/notebooks/../sktalk/corpusbuilder.py\u001b[0m in \u001b[0;36m<module>\u001b[0;34m\u001b[0m\n\u001b[1;32m   2858\u001b[0m \u001b[0;34m\u001b[0m\u001b[0m\n\u001b[1;32m   2859\u001b[0m def initialize_storage(\n\u001b[0;32m-> 2860\u001b[0;31m     \u001b[0mcorpus\u001b[0m\u001b[0;34m:\u001b[0m \u001b[0;34m\"Corpus\"\u001b[0m\u001b[0;34m,\u001b[0m \u001b[0mstorage\u001b[0m\u001b[0;34m:\u001b[0m \u001b[0mOptional\u001b[0m\u001b[0;34m[\u001b[0m\u001b[0mStorageManager\u001b[0m\u001b[0;34m]\u001b[0m\u001b[0;34m,\u001b[0m \u001b[0mstorage_type\u001b[0m\u001b[0;34m:\u001b[0m \u001b[0mstr\u001b[0m\u001b[0;34m,\u001b[0m \u001b[0mdb_host\u001b[0m\u001b[0;34m:\u001b[0m \u001b[0mOptional\u001b[0m\u001b[0;34m[\u001b[0m\u001b[0mstr\u001b[0m\u001b[0;34m]\u001b[0m\u001b[0;34m\u001b[0m\u001b[0;34m\u001b[0m\u001b[0m\n\u001b[0m\u001b[1;32m   2861\u001b[0m ):\n\u001b[1;32m   2862\u001b[0m     \u001b[0;32mif\u001b[0m \u001b[0mstorage\u001b[0m \u001b[0;32mis\u001b[0m \u001b[0;32mnot\u001b[0m \u001b[0;32mNone\u001b[0m\u001b[0;34m:\u001b[0m\u001b[0;34m\u001b[0m\u001b[0;34m\u001b[0m\u001b[0m\n",
      "\u001b[0;31mNameError\u001b[0m: name 'StorageManager' is not defined"
     ]
    }
   ],
   "source": [
    "import sktalk.corpusbuilder as cp\n"
   ]
  },
  {
   "cell_type": "code",
   "execution_count": 3,
   "metadata": {},
   "outputs": [
    {
     "data": {
      "text/html": [
       "<div>\n",
       "<style scoped>\n",
       "    .dataframe tbody tr th:only-of-type {\n",
       "        vertical-align: middle;\n",
       "    }\n",
       "\n",
       "    .dataframe tbody tr th {\n",
       "        vertical-align: top;\n",
       "    }\n",
       "\n",
       "    .dataframe thead th {\n",
       "        text-align: right;\n",
       "    }\n",
       "</style>\n",
       "<table border=\"1\" class=\"dataframe\">\n",
       "  <thead>\n",
       "    <tr style=\"text-align: right;\">\n",
       "      <th></th>\n",
       "      <th>timestamp</th>\n",
       "      <th>speaker</th>\n",
       "      <th>text</th>\n",
       "      <th>translation</th>\n",
       "      <th>conversation_id</th>\n",
       "      <th>utterance_raw</th>\n",
       "      <th>reply_to</th>\n",
       "    </tr>\n",
       "  </thead>\n",
       "  <tbody>\n",
       "    <tr>\n",
       "      <th>0</th>\n",
       "      <td>1332718704</td>\n",
       "      <td>Tang</td>\n",
       "      <td>U oughs inim tï samting yan</td>\n",
       "      <td>Lorem ipsum dolor sit amet.</td>\n",
       "      <td>/ulwa1/ulwa014</td>\n",
       "      <td>U oughs inim tï samting yangama ul matï akïnakape</td>\n",
       "      <td>None</td>\n",
       "    </tr>\n",
       "    <tr>\n",
       "      <th>1</th>\n",
       "      <td>1332732704</td>\n",
       "      <td>Yan</td>\n",
       "      <td>mbam ndul ma wandam ana</td>\n",
       "      <td>At neque fugit eum reprehenderit labore et exe...</td>\n",
       "      <td>/ulwa1/ulwa014</td>\n",
       "      <td>wimbam ndul ma wandam anapa ol welunda nïkap t...</td>\n",
       "      <td>None</td>\n",
       "    </tr>\n",
       "    <tr>\n",
       "      <th>2</th>\n",
       "      <td>1332743704</td>\n",
       "      <td>Tang</td>\n",
       "      <td>Mï inim wandam bai anapa nd</td>\n",
       "      <td>a veritatis tempore sit vitae quaerat sed cons...</td>\n",
       "      <td>/ulwa1/ulwa014</td>\n",
       "      <td>Mï inim wandam bai anapa ndïtï ka welunda unan</td>\n",
       "      <td>None</td>\n",
       "    </tr>\n",
       "    <tr>\n",
       "      <th>3</th>\n",
       "      <td>1332754704</td>\n",
       "      <td>Yan</td>\n",
       "      <td>lunda we ndïmïne in</td>\n",
       "      <td>NaN</td>\n",
       "      <td>/ulwa1/ulwa014</td>\n",
       "      <td>ata welunda we ndïmïne ind</td>\n",
       "      <td>None</td>\n",
       "    </tr>\n",
       "    <tr>\n",
       "      <th>4</th>\n",
       "      <td>1332765704</td>\n",
       "      <td>Tang</td>\n",
       "      <td>kïnakape akïnaka</td>\n",
       "      <td>NaN</td>\n",
       "      <td>/ulwa1/ulwa014</td>\n",
       "      <td>i akïnakape akïnakap</td>\n",
       "      <td>None</td>\n",
       "    </tr>\n",
       "    <tr>\n",
       "      <th>5</th>\n",
       "      <td>1332776704</td>\n",
       "      <td>Yan</td>\n",
       "      <td>coughs ndïmïne we ndul wa le we ndïtï akïnakap...</td>\n",
       "      <td>Et illo facere vel magni necessitatibus est as...</td>\n",
       "      <td>/ulwa1/ulwa014</td>\n",
       "      <td>[coughs] I inim oughs ka lopop mananda bai kïk...</td>\n",
       "      <td>None</td>\n",
       "    </tr>\n",
       "    <tr>\n",
       "      <th>6</th>\n",
       "      <td>1332787704</td>\n",
       "      <td>Tang</td>\n",
       "      <td>mananda</td>\n",
       "      <td>NaN</td>\n",
       "      <td>/ulwa1/ulwa014</td>\n",
       "      <td>n mananda ndïtï ka akïnakape wimbam</td>\n",
       "      <td>None</td>\n",
       "    </tr>\n",
       "    <tr>\n",
       "      <th>7</th>\n",
       "      <td>1332788704</td>\n",
       "      <td>Yan</td>\n",
       "      <td>da</td>\n",
       "      <td>NaN</td>\n",
       "      <td>/ulwa1/ulwa014</td>\n",
       "      <td>da ndïtï ka</td>\n",
       "      <td>None</td>\n",
       "    </tr>\n",
       "    <tr>\n",
       "      <th>8</th>\n",
       "      <td>1332789704</td>\n",
       "      <td>Tang</td>\n",
       "      <td>e kïkal awi akïnakape</td>\n",
       "      <td>onsequatur amet qui nisi facilis et perferendi...</td>\n",
       "      <td>/ulwa1/ulwa014</td>\n",
       "      <td>e kïkal awi akïnakape manï lï</td>\n",
       "      <td>None</td>\n",
       "    </tr>\n",
       "    <tr>\n",
       "      <th>9</th>\n",
       "      <td>1332999704</td>\n",
       "      <td>Yan</td>\n",
       "      <td>atïm inim.</td>\n",
       "      <td>itae quaerat sed consequatur amet</td>\n",
       "      <td>/ulwa1/ulwa014</td>\n",
       "      <td>atïm inim.</td>\n",
       "      <td>None</td>\n",
       "    </tr>\n",
       "  </tbody>\n",
       "</table>\n",
       "</div>"
      ],
      "text/plain": [
       "    timestamp speaker                                               text  \\\n",
       "0  1332718704    Tang                        U oughs inim tï samting yan   \n",
       "1  1332732704     Yan                            mbam ndul ma wandam ana   \n",
       "2  1332743704    Tang                        Mï inim wandam bai anapa nd   \n",
       "3  1332754704     Yan                                lunda we ndïmïne in   \n",
       "4  1332765704    Tang                                   kïnakape akïnaka   \n",
       "5  1332776704     Yan  coughs ndïmïne we ndul wa le we ndïtï akïnakap...   \n",
       "6  1332787704    Tang                                            mananda   \n",
       "7  1332788704     Yan                                                 da   \n",
       "8  1332789704    Tang                              e kïkal awi akïnakape   \n",
       "9  1332999704     Yan                                         atïm inim.   \n",
       "\n",
       "                                         translation conversation_id  \\\n",
       "0                        Lorem ipsum dolor sit amet.  /ulwa1/ulwa014   \n",
       "1  At neque fugit eum reprehenderit labore et exe...  /ulwa1/ulwa014   \n",
       "2  a veritatis tempore sit vitae quaerat sed cons...  /ulwa1/ulwa014   \n",
       "3                                                NaN  /ulwa1/ulwa014   \n",
       "4                                                NaN  /ulwa1/ulwa014   \n",
       "5  Et illo facere vel magni necessitatibus est as...  /ulwa1/ulwa014   \n",
       "6                                                NaN  /ulwa1/ulwa014   \n",
       "7                                                NaN  /ulwa1/ulwa014   \n",
       "8  onsequatur amet qui nisi facilis et perferendi...  /ulwa1/ulwa014   \n",
       "9                  itae quaerat sed consequatur amet  /ulwa1/ulwa014   \n",
       "\n",
       "                                       utterance_raw reply_to  \n",
       "0  U oughs inim tï samting yangama ul matï akïnakape     None  \n",
       "1  wimbam ndul ma wandam anapa ol welunda nïkap t...     None  \n",
       "2     Mï inim wandam bai anapa ndïtï ka welunda unan     None  \n",
       "3                         ata welunda we ndïmïne ind     None  \n",
       "4                               i akïnakape akïnakap     None  \n",
       "5  [coughs] I inim oughs ka lopop mananda bai kïk...     None  \n",
       "6                n mananda ndïtï ka akïnakape wimbam     None  \n",
       "7                                        da ndïtï ka     None  \n",
       "8                      e kïkal awi akïnakape manï lï     None  \n",
       "9                                         atïm inim.     None  "
      ]
     },
     "execution_count": 3,
     "metadata": {},
     "output_type": "execute_result"
    }
   ],
   "source": [
    "import pandas as pd\n",
    "df = pd.read_csv(\"../data/ulwa_testdata_convokit_format.csv\")\n",
    "df"
   ]
  },
  {
   "cell_type": "code",
   "execution_count": 4,
   "metadata": {},
   "outputs": [
    {
     "name": "stdout",
     "output_type": "stream",
     "text": [
      "ID column is not present in utterances dataframe, generated ID column from dataframe index...\n"
     ]
    },
    {
     "name": "stderr",
     "output_type": "stream",
     "text": [
      "10it [00:00, 3657.72it/s]\n"
     ]
    },
    {
     "ename": "NameError",
     "evalue": "name 'get_corpus_id' is not defined",
     "output_type": "error",
     "traceback": [
      "\u001b[0;31m---------------------------------------------------------------------------\u001b[0m",
      "\u001b[0;31mNameError\u001b[0m                                 Traceback (most recent call last)",
      "\u001b[0;32m/var/folders/cq/3pnr839j6z36p3cvn_rc3mf5kwftq1/T/ipykernel_58134/3077451682.py\u001b[0m in \u001b[0;36m<module>\u001b[0;34m\u001b[0m\n\u001b[0;32m----> 1\u001b[0;31m \u001b[0mnew_corpus\u001b[0m \u001b[0;34m=\u001b[0m \u001b[0mcp\u001b[0m\u001b[0;34m.\u001b[0m\u001b[0mCorpus\u001b[0m\u001b[0;34m.\u001b[0m\u001b[0mfrom_pandas\u001b[0m\u001b[0;34m(\u001b[0m\u001b[0mutterances_df\u001b[0m\u001b[0;34m=\u001b[0m\u001b[0mdf\u001b[0m\u001b[0;34m)\u001b[0m\u001b[0;34m\u001b[0m\u001b[0;34m\u001b[0m\u001b[0m\n\u001b[0m",
      "\u001b[0;32m~/scikit-talk/notebooks/../sktalk/corpusbuilder.py\u001b[0m in \u001b[0;36mfrom_pandas\u001b[0;34m(utterances_df, speakers_df, conversations_df)\u001b[0m\n\u001b[1;32m   2874\u001b[0m \u001b[0;34m\u001b[0m\u001b[0m\n\u001b[1;32m   2875\u001b[0m         \u001b[0;31m# initializing corpus using utterance_list\u001b[0m\u001b[0;34m\u001b[0m\u001b[0;34m\u001b[0m\u001b[0m\n\u001b[0;32m-> 2876\u001b[0;31m         \u001b[0mcorpus\u001b[0m \u001b[0;34m=\u001b[0m \u001b[0mCorpus\u001b[0m\u001b[0;34m(\u001b[0m\u001b[0mutterances\u001b[0m\u001b[0;34m=\u001b[0m\u001b[0mutterance_list\u001b[0m\u001b[0;34m)\u001b[0m\u001b[0;34m\u001b[0m\u001b[0;34m\u001b[0m\u001b[0m\n\u001b[0m\u001b[1;32m   2877\u001b[0m         \u001b[0;32mif\u001b[0m \u001b[0mspeakers_df\u001b[0m \u001b[0;32mis\u001b[0m \u001b[0;32mnot\u001b[0m \u001b[0;32mNone\u001b[0m\u001b[0;34m:\u001b[0m\u001b[0;34m\u001b[0m\u001b[0;34m\u001b[0m\u001b[0m\n\u001b[1;32m   2878\u001b[0m             \u001b[0mcorpus\u001b[0m\u001b[0;34m.\u001b[0m\u001b[0mupdate_metadata_from_df\u001b[0m\u001b[0;34m(\u001b[0m\u001b[0;34m\"speaker\"\u001b[0m\u001b[0;34m,\u001b[0m \u001b[0mspeakers_df\u001b[0m\u001b[0;34m)\u001b[0m\u001b[0;34m\u001b[0m\u001b[0;34m\u001b[0m\u001b[0m\n",
      "\u001b[0;32m~/scikit-talk/notebooks/../sktalk/corpusbuilder.py\u001b[0m in \u001b[0;36m__init__\u001b[0;34m(self, filename, utterances, db_collection_prefix, db_host, preload_vectors, utterance_start_index, utterance_end_index, merge_lines, exclude_utterance_meta, exclude_conversation_meta, exclude_speaker_meta, exclude_overall_meta, disable_type_check, storage_type)\u001b[0m\n\u001b[1;32m   1448\u001b[0m                 \u001b[0;34m\"Will use a randomly generated unique prefix \"\u001b[0m \u001b[0;34m+\u001b[0m \u001b[0mdb_collection_prefix\u001b[0m\u001b[0;34m\u001b[0m\u001b[0;34m\u001b[0m\u001b[0m\n\u001b[1;32m   1449\u001b[0m             )\n\u001b[0;32m-> 1450\u001b[0;31m         \u001b[0mself\u001b[0m\u001b[0;34m.\u001b[0m\u001b[0mid\u001b[0m \u001b[0;34m=\u001b[0m \u001b[0mget_corpus_id\u001b[0m\u001b[0;34m(\u001b[0m\u001b[0mdb_collection_prefix\u001b[0m\u001b[0;34m,\u001b[0m \u001b[0mfilename\u001b[0m\u001b[0;34m,\u001b[0m \u001b[0mstorage_type\u001b[0m\u001b[0;34m)\u001b[0m\u001b[0;34m\u001b[0m\u001b[0;34m\u001b[0m\u001b[0m\n\u001b[0m\u001b[1;32m   1451\u001b[0m         \u001b[0mself\u001b[0m\u001b[0;34m.\u001b[0m\u001b[0mstorage_type\u001b[0m \u001b[0;34m=\u001b[0m \u001b[0mstorage_type\u001b[0m\u001b[0;34m\u001b[0m\u001b[0;34m\u001b[0m\u001b[0m\n\u001b[1;32m   1452\u001b[0m         \u001b[0mself\u001b[0m\u001b[0;34m.\u001b[0m\u001b[0mstorage\u001b[0m \u001b[0;34m=\u001b[0m \u001b[0minitialize_storage\u001b[0m\u001b[0;34m(\u001b[0m\u001b[0mself\u001b[0m\u001b[0;34m,\u001b[0m \u001b[0mstorage\u001b[0m\u001b[0;34m,\u001b[0m \u001b[0mstorage_type\u001b[0m\u001b[0;34m,\u001b[0m \u001b[0mdb_host\u001b[0m\u001b[0;34m)\u001b[0m\u001b[0;34m\u001b[0m\u001b[0;34m\u001b[0m\u001b[0m\n",
      "\u001b[0;31mNameError\u001b[0m: name 'get_corpus_id' is not defined"
     ]
    }
   ],
   "source": [
    "new_corpus = cp.Corpus.from_pandas(utterances_df=df)\n"
   ]
  },
  {
   "attachments": {},
   "cell_type": "markdown",
   "metadata": {},
   "source": [
    "## The `Demo` module\n",
    "\n",
    "Here, we import a single class from the `demo` module, and use it."
   ]
  },
  {
   "cell_type": "code",
   "execution_count": 48,
   "metadata": {},
   "outputs": [
    {
     "data": {
      "text/plain": [
       "'Person'"
      ]
     },
     "execution_count": 48,
     "metadata": {},
     "output_type": "execute_result"
    }
   ],
   "source": [
    "from sktalk.demo import Demo\n",
    "\n",
    "person = Demo(\"Person\")\n",
    "\n",
    "person.name"
   ]
  }
 ],
 "metadata": {
  "kernelspec": {
   "display_name": "Python 3",
   "language": "python",
   "name": "python3"
  },
  "language_info": {
   "codemirror_mode": {
    "name": "ipython",
    "version": 3
   },
   "file_extension": ".py",
   "mimetype": "text/x-python",
   "name": "python",
   "nbconvert_exporter": "python",
   "pygments_lexer": "ipython3",
   "version": "3.9.10"
  },
  "orig_nbformat": 4,
  "vscode": {
   "interpreter": {
    "hash": "aee8b7b246df8f9039afb4144a1f6fd8d2ca17a180786b69acc140d282b71a49"
   }
  }
 },
 "nbformat": 4,
 "nbformat_minor": 2
}

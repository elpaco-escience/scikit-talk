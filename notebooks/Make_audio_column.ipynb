{
  "cells": [
    {
      "cell_type": "markdown",
      "metadata": {
        "id": "RUcScYxiyCLa"
      },
      "source": [
        "### To do list\n",
        "todo:\n",
        "- make debug function that logs errors\n",
        "- make mel matrix \n",
        "- make spec col"
      ]
    },
    {
      "cell_type": "markdown",
      "metadata": {
        "id": "kF0UisGqTpR5"
      },
      "source": [
        "### Set working directory"
      ]
    },
    {
      "cell_type": "code",
      "execution_count": 2,
      "metadata": {
        "colab": {
          "base_uri": "https://localhost:8080/"
        },
        "id": "223EdHm_Tnod",
        "outputId": "96e4f251-729d-4d90-c914-45e5c7cdfd82"
      },
      "outputs": [
        {
          "name": "stdout",
          "output_type": "stream",
          "text": [
            "Current working directory: /vol/tensusers2/aliesenfeld/Elpaco dataset\n",
            "Current working directory: /vol/tensusers2/aliesenfeld/Elpaco dataset\n"
          ]
        }
      ],
      "source": [
        "# Import the os module\n",
        "import os\n",
        "\n",
        "# Print the current working directory\n",
        "print(\"Current working directory: {0}\".format(os.getcwd()))\n",
        "\n",
        "# Change the current working directory\n",
        "os.chdir('/vol/tensusers2/aliesenfeld/Elpaco dataset/')\n",
        "#os.chdir('/Users/u517177/continuer_paper/')\n",
        "\n",
        "\n",
        "# Print the current working directory\n",
        "print(\"Current working directory: {0}\".format(os.getcwd()))"
      ]
    },
    {
      "attachments": {},
      "cell_type": "markdown",
      "metadata": {},
      "source": [
        "# Part 1: audio extraction"
      ]
    },
    {
      "cell_type": "markdown",
      "metadata": {
        "id": "u-YN_F_oaAgz"
      },
      "source": [
        "### Dependencies\n"
      ]
    },
    {
      "cell_type": "code",
      "execution_count": 3,
      "metadata": {
        "id": "dXTbO87ZZ_ao"
      },
      "outputs": [
        {
          "name": "stderr",
          "output_type": "stream",
          "text": [
            "/tmp/ipykernel_1354822/732630340.py:9: TqdmExperimentalWarning: Using `tqdm.autonotebook.tqdm` in notebook mode. Use `tqdm.tqdm` instead to force console mode (e.g. in jupyter console)\n",
            "  from tqdm.autonotebook import tqdm\n"
          ]
        }
      ],
      "source": [
        "#on M1 mac librosa needs to be installed via miniforge\n",
        "#!conda install -c conda-forge librosa\n",
        "import wave\n",
        "import IPython\n",
        "import librosa\n",
        "import pandas as pd\n",
        "from scipy.io import wavfile\n",
        "import matplotlib.pyplot as plt\n",
        "from tqdm.autonotebook import tqdm\n",
        "from joblib import Parallel, delayed\n",
        "n_jobs = -1; verbosity = 10"
      ]
    },
    {
      "cell_type": "code",
      "execution_count": 8,
      "metadata": {},
      "outputs": [
        {
          "name": "stdout",
          "output_type": "stream",
          "text": [
            "\u001b[0m\u001b[01;34m'Elpaco dataset'\u001b[0m/              \u001b[01;34moutput\u001b[0m/         streaks_10perlang.csv\n",
            "\u001b[01;34m'continuer data'\u001b[0m/              \u001b[01;34moutput_trail\u001b[0m/   streaks_1perlang.csv\n",
            " continuers_for_audio.csv      \u001b[01;34mstreaks\u001b[0m/        streaks_50perlang.csv\n",
            " discontinuers_for_audio.csv   streaks.csv     zic1z6cK\n"
          ]
        }
      ],
      "source": [
        "#install tensorflow if needed\n",
        "\n",
        "#!conda install -c conda-forge tensorflow -y\n",
        "#!pip install tensorflow-macos"
      ]
    },
    {
      "cell_type": "markdown",
      "metadata": {},
      "source": [
        "### Inspect single audio files"
      ]
    },
    {
      "cell_type": "code",
      "execution_count": 3,
      "metadata": {},
      "outputs": [
        {
          "name": "stdout",
          "output_type": "stream",
          "text": [
            "Number of channels 2\n",
            "Sample width 2\n",
            "Frame rate. 48000\n",
            "Number of frames 73200000\n",
            "parameters: _wave_params(nchannels=2, sampwidth=2, framerate=48000, nframes=73200000, comptype='NONE', compname='not compressed')\n"
          ]
        }
      ],
      "source": [
        "#Load and inspect single files\n",
        "audiofile = wave.open('./Elpaco dataset/akhoe_haikom1/state_hospital.wav','r')\n",
        "\n",
        "print( \"Number of channels\",audiofile.getnchannels())\n",
        "print ( \"Sample width\",audiofile.getsampwidth())\n",
        "print ( \"Frame rate.\",audiofile.getframerate())\n",
        "print (\"Number of frames\",audiofile.getnframes())\n",
        "print ( \"parameters:\",audiofile.getparams())"
      ]
    },
    {
      "cell_type": "code",
      "execution_count": null,
      "metadata": {},
      "outputs": [],
      "source": [
        "#play audio files\n",
        "IPython.display.Audio('./Elpaco dataset/akhoe_haikom1/state_hospital.wav')"
      ]
    },
    {
      "attachments": {},
      "cell_type": "markdown",
      "metadata": {},
      "source": [
        "### read csv"
      ]
    },
    {
      "cell_type": "code",
      "execution_count": 4,
      "metadata": {},
      "outputs": [
        {
          "data": {
            "text/html": [
              "<div>\n",
              "<style scoped>\n",
              "    .dataframe tbody tr th:only-of-type {\n",
              "        vertical-align: middle;\n",
              "    }\n",
              "\n",
              "    .dataframe tbody tr th {\n",
              "        vertical-align: top;\n",
              "    }\n",
              "\n",
              "    .dataframe thead th {\n",
              "        text-align: right;\n",
              "    }\n",
              "</style>\n",
              "<table border=\"1\" class=\"dataframe\">\n",
              "  <thead>\n",
              "    <tr style=\"text-align: right;\">\n",
              "      <th></th>\n",
              "      <th>uid</th>\n",
              "      <th>language</th>\n",
              "      <th>begin</th>\n",
              "      <th>end</th>\n",
              "      <th>duration</th>\n",
              "      <th>source</th>\n",
              "      <th>participant</th>\n",
              "      <th>utterance_stripped</th>\n",
              "      <th>utterance</th>\n",
              "      <th>form_ascii</th>\n",
              "    </tr>\n",
              "  </thead>\n",
              "  <tbody>\n",
              "    <tr>\n",
              "      <th>0</th>\n",
              "      <td>akhoe_haikom-2-194-371425</td>\n",
              "      <td>akhoe_haikom</td>\n",
              "      <td>371.425</td>\n",
              "      <td>371.725</td>\n",
              "      <td>300.0</td>\n",
              "      <td>/akhoe_haikom1/state_hospital</td>\n",
              "      <td>tx@Es</td>\n",
              "      <td>î</td>\n",
              "      <td>î</td>\n",
              "      <td>i_</td>\n",
              "    </tr>\n",
              "    <tr>\n",
              "      <th>1</th>\n",
              "      <td>akhoe_haikom-2-203-398335</td>\n",
              "      <td>akhoe_haikom</td>\n",
              "      <td>398.335</td>\n",
              "      <td>398.545</td>\n",
              "      <td>210.0</td>\n",
              "      <td>/akhoe_haikom1/state_hospital</td>\n",
              "      <td>tx@Es</td>\n",
              "      <td>î</td>\n",
              "      <td>î</td>\n",
              "      <td>i_</td>\n",
              "    </tr>\n",
              "    <tr>\n",
              "      <th>2</th>\n",
              "      <td>akhoe_haikom-2-457-1245412</td>\n",
              "      <td>akhoe_haikom</td>\n",
              "      <td>1245.412</td>\n",
              "      <td>1245.780</td>\n",
              "      <td>368.0</td>\n",
              "      <td>/akhoe_haikom1/state_hospital</td>\n",
              "      <td>tx@Ga</td>\n",
              "      <td>î</td>\n",
              "      <td>î</td>\n",
              "      <td>i_</td>\n",
              "    </tr>\n",
              "    <tr>\n",
              "      <th>3</th>\n",
              "      <td>akhoe_haikom-2-459-1247720</td>\n",
              "      <td>akhoe_haikom</td>\n",
              "      <td>1247.720</td>\n",
              "      <td>1248.010</td>\n",
              "      <td>290.0</td>\n",
              "      <td>/akhoe_haikom1/state_hospital</td>\n",
              "      <td>tx@Ga</td>\n",
              "      <td>î</td>\n",
              "      <td>î</td>\n",
              "      <td>i_</td>\n",
              "    </tr>\n",
              "    <tr>\n",
              "      <th>4</th>\n",
              "      <td>akhoe_haikom-2-482-1290491</td>\n",
              "      <td>akhoe_haikom</td>\n",
              "      <td>1290.491</td>\n",
              "      <td>1290.851</td>\n",
              "      <td>360.0</td>\n",
              "      <td>/akhoe_haikom1/state_hospital</td>\n",
              "      <td>tx@Ga</td>\n",
              "      <td>î</td>\n",
              "      <td>î</td>\n",
              "      <td>i_</td>\n",
              "    </tr>\n",
              "    <tr>\n",
              "      <th>...</th>\n",
              "      <td>...</td>\n",
              "      <td>...</td>\n",
              "      <td>...</td>\n",
              "      <td>...</td>\n",
              "      <td>...</td>\n",
              "      <td>...</td>\n",
              "      <td>...</td>\n",
              "      <td>...</td>\n",
              "      <td>...</td>\n",
              "      <td>...</td>\n",
              "    </tr>\n",
              "    <tr>\n",
              "      <th>139546</th>\n",
              "      <td>zaar-2-142-181303</td>\n",
              "      <td>zaar</td>\n",
              "      <td>181.303</td>\n",
              "      <td>181.672</td>\n",
              "      <td>369.0</td>\n",
              "      <td>/zaar1/SAY_BC_CONV_02</td>\n",
              "      <td>tx@SP1</td>\n",
              "      <td>tôː</td>\n",
              "      <td>tôː</td>\n",
              "      <td>to_ː</td>\n",
              "    </tr>\n",
              "    <tr>\n",
              "      <th>139547</th>\n",
              "      <td>zaar-2-367-449687</td>\n",
              "      <td>zaar</td>\n",
              "      <td>449.687</td>\n",
              "      <td>450.145</td>\n",
              "      <td>458.0</td>\n",
              "      <td>/zaar1/SAY_BC_CONV_02</td>\n",
              "      <td>tx@SP1</td>\n",
              "      <td>m̀ː</td>\n",
              "      <td>m̀ː</td>\n",
              "      <td>m_ː</td>\n",
              "    </tr>\n",
              "    <tr>\n",
              "      <th>139548</th>\n",
              "      <td>zaar-2-368-450762</td>\n",
              "      <td>zaar</td>\n",
              "      <td>450.762</td>\n",
              "      <td>451.085</td>\n",
              "      <td>323.0</td>\n",
              "      <td>/zaar1/SAY_BC_CONV_02</td>\n",
              "      <td>tx@SP1</td>\n",
              "      <td>m̀ː</td>\n",
              "      <td>m̀ː</td>\n",
              "      <td>m_ː</td>\n",
              "    </tr>\n",
              "    <tr>\n",
              "      <th>139549</th>\n",
              "      <td>zaar-3-459-440411</td>\n",
              "      <td>zaar</td>\n",
              "      <td>440.411</td>\n",
              "      <td>440.985</td>\n",
              "      <td>574.0</td>\n",
              "      <td>/zaar1/SAY_BC_CONV_03</td>\n",
              "      <td>tx@SP2</td>\n",
              "      <td>m̀ː</td>\n",
              "      <td>m̀ː</td>\n",
              "      <td>m_ː</td>\n",
              "    </tr>\n",
              "    <tr>\n",
              "      <th>139550</th>\n",
              "      <td>zaar-3-462-442380</td>\n",
              "      <td>zaar</td>\n",
              "      <td>442.380</td>\n",
              "      <td>442.771</td>\n",
              "      <td>391.0</td>\n",
              "      <td>/zaar1/SAY_BC_CONV_03</td>\n",
              "      <td>tx@SP2</td>\n",
              "      <td>m̀ː</td>\n",
              "      <td>m̀ː</td>\n",
              "      <td>m_ː</td>\n",
              "    </tr>\n",
              "  </tbody>\n",
              "</table>\n",
              "<p>139551 rows × 10 columns</p>\n",
              "</div>"
            ],
            "text/plain": [
              "                               uid      language     begin       end  \\\n",
              "0        akhoe_haikom-2-194-371425  akhoe_haikom   371.425   371.725   \n",
              "1        akhoe_haikom-2-203-398335  akhoe_haikom   398.335   398.545   \n",
              "2       akhoe_haikom-2-457-1245412  akhoe_haikom  1245.412  1245.780   \n",
              "3       akhoe_haikom-2-459-1247720  akhoe_haikom  1247.720  1248.010   \n",
              "4       akhoe_haikom-2-482-1290491  akhoe_haikom  1290.491  1290.851   \n",
              "...                            ...           ...       ...       ...   \n",
              "139546           zaar-2-142-181303          zaar   181.303   181.672   \n",
              "139547           zaar-2-367-449687          zaar   449.687   450.145   \n",
              "139548           zaar-2-368-450762          zaar   450.762   451.085   \n",
              "139549           zaar-3-459-440411          zaar   440.411   440.985   \n",
              "139550           zaar-3-462-442380          zaar   442.380   442.771   \n",
              "\n",
              "        duration                         source participant  \\\n",
              "0          300.0  /akhoe_haikom1/state_hospital       tx@Es   \n",
              "1          210.0  /akhoe_haikom1/state_hospital       tx@Es   \n",
              "2          368.0  /akhoe_haikom1/state_hospital       tx@Ga   \n",
              "3          290.0  /akhoe_haikom1/state_hospital       tx@Ga   \n",
              "4          360.0  /akhoe_haikom1/state_hospital       tx@Ga   \n",
              "...          ...                            ...         ...   \n",
              "139546     369.0          /zaar1/SAY_BC_CONV_02      tx@SP1   \n",
              "139547     458.0          /zaar1/SAY_BC_CONV_02      tx@SP1   \n",
              "139548     323.0          /zaar1/SAY_BC_CONV_02      tx@SP1   \n",
              "139549     574.0          /zaar1/SAY_BC_CONV_03      tx@SP2   \n",
              "139550     391.0          /zaar1/SAY_BC_CONV_03      tx@SP2   \n",
              "\n",
              "       utterance_stripped utterance form_ascii  \n",
              "0                       î         î         i_  \n",
              "1                       î         î         i_  \n",
              "2                       î         î         i_  \n",
              "3                       î         î         i_  \n",
              "4                       î         î         i_  \n",
              "...                   ...       ...        ...  \n",
              "139546                tôː       tôː       to_ː  \n",
              "139547                m̀ː       m̀ː        m_ː  \n",
              "139548                m̀ː       m̀ː        m_ː  \n",
              "139549                m̀ː       m̀ː        m_ː  \n",
              "139550                m̀ː       m̀ː        m_ː  \n",
              "\n",
              "[139551 rows x 10 columns]"
            ]
          },
          "execution_count": 4,
          "metadata": {},
          "output_type": "execute_result"
        }
      ],
      "source": [
        "#read csv \n",
        "df_audio = pd.read_csv('continuers_for_audio.csv')\n",
        "df_audio"
      ]
    },
    {
      "attachments": {},
      "cell_type": "markdown",
      "metadata": {},
      "source": [
        "### Preprocess csv"
      ]
    },
    {
      "cell_type": "code",
      "execution_count": null,
      "metadata": {},
      "outputs": [],
      "source": [
        "#Optional:\n",
        "#check timestamp format and .div is needed to match audio extaction function requirements\n",
        "df_audio['begin'] = df_audio['begin'].div(1000)\n",
        "df_audio['end'] = df_audio['end'].div(1000)\n",
        "df_audio"
      ]
    },
    {
      "cell_type": "code",
      "execution_count": 38,
      "metadata": {},
      "outputs": [
        {
          "data": {
            "text/html": [
              "<div>\n",
              "<style scoped>\n",
              "    .dataframe tbody tr th:only-of-type {\n",
              "        vertical-align: middle;\n",
              "    }\n",
              "\n",
              "    .dataframe tbody tr th {\n",
              "        vertical-align: top;\n",
              "    }\n",
              "\n",
              "    .dataframe thead th {\n",
              "        text-align: right;\n",
              "    }\n",
              "</style>\n",
              "<table border=\"1\" class=\"dataframe\">\n",
              "  <thead>\n",
              "    <tr style=\"text-align: right;\">\n",
              "      <th></th>\n",
              "      <th>uid</th>\n",
              "      <th>language</th>\n",
              "      <th>begin</th>\n",
              "      <th>end</th>\n",
              "      <th>duration</th>\n",
              "      <th>source</th>\n",
              "      <th>participant</th>\n",
              "      <th>utterance_stripped</th>\n",
              "      <th>utterance</th>\n",
              "      <th>form_ascii</th>\n",
              "    </tr>\n",
              "  </thead>\n",
              "  <tbody>\n",
              "    <tr>\n",
              "      <th>0</th>\n",
              "      <td>akhoe_haikom-2-494-1312920</td>\n",
              "      <td>akhoe_haikom</td>\n",
              "      <td>1312.920</td>\n",
              "      <td>1313.280</td>\n",
              "      <td>360.0</td>\n",
              "      <td>/akhoe_haikom1/state_hospital</td>\n",
              "      <td>tx@Ga</td>\n",
              "      <td>î</td>\n",
              "      <td>î</td>\n",
              "      <td>i_</td>\n",
              "    </tr>\n",
              "    <tr>\n",
              "      <th>1</th>\n",
              "      <td>akie-1-033-99525</td>\n",
              "      <td>akie</td>\n",
              "      <td>99.525</td>\n",
              "      <td>100.289</td>\n",
              "      <td>764.0</td>\n",
              "      <td>/akie1/2014-01-20Gitu4ConversationBahatiNkoiseyyo</td>\n",
              "      <td>B</td>\n",
              "      <td>aá</td>\n",
              "      <td>aá</td>\n",
              "      <td>aa_</td>\n",
              "    </tr>\n",
              "    <tr>\n",
              "      <th>2</th>\n",
              "      <td>ambel-3-147-222600</td>\n",
              "      <td>ambel</td>\n",
              "      <td>222.600</td>\n",
              "      <td>223.085</td>\n",
              "      <td>485.0</td>\n",
              "      <td>/ambel1/AM064</td>\n",
              "      <td>ESD_Transcription-txt-wgo</td>\n",
              "      <td>ii</td>\n",
              "      <td>ii</td>\n",
              "      <td>ii</td>\n",
              "    </tr>\n",
              "    <tr>\n",
              "      <th>3</th>\n",
              "      <td>ambel-4-470-662638</td>\n",
              "      <td>ambel</td>\n",
              "      <td>662.638</td>\n",
              "      <td>663.212</td>\n",
              "      <td>574.0</td>\n",
              "      <td>/ambel1/AM067</td>\n",
              "      <td>WG_Transcription-txt-wgo</td>\n",
              "      <td>mm</td>\n",
              "      <td>mm</td>\n",
              "      <td>mm</td>\n",
              "    </tr>\n",
              "    <tr>\n",
              "      <th>4</th>\n",
              "      <td>anal-01-098-184010</td>\n",
              "      <td>anal</td>\n",
              "      <td>184.010</td>\n",
              "      <td>184.379</td>\n",
              "      <td>369.0</td>\n",
              "      <td>/anal1/anm_20160916_PO_Wolring_1</td>\n",
              "      <td>Anal sp3</td>\n",
              "      <td>mm</td>\n",
              "      <td>mm</td>\n",
              "      <td>mm</td>\n",
              "    </tr>\n",
              "    <tr>\n",
              "      <th>...</th>\n",
              "      <td>...</td>\n",
              "      <td>...</td>\n",
              "      <td>...</td>\n",
              "      <td>...</td>\n",
              "      <td>...</td>\n",
              "      <td>...</td>\n",
              "      <td>...</td>\n",
              "      <td>...</td>\n",
              "      <td>...</td>\n",
              "      <td>...</td>\n",
              "    </tr>\n",
              "    <tr>\n",
              "      <th>851</th>\n",
              "      <td>yeli_dnye-1-457-1355836</td>\n",
              "      <td>yeli_dnye</td>\n",
              "      <td>1355.836</td>\n",
              "      <td>1356.486</td>\n",
              "      <td>650.0</td>\n",
              "      <td>/yeli_dnye1/r03_v19_s2</td>\n",
              "      <td>K</td>\n",
              "      <td>nyââ</td>\n",
              "      <td>[unk_utterance]nyââ</td>\n",
              "      <td>nya_â</td>\n",
              "    </tr>\n",
              "    <tr>\n",
              "      <th>852</th>\n",
              "      <td>yeli_dnye-2-129-591369</td>\n",
              "      <td>yeli_dnye</td>\n",
              "      <td>591.369</td>\n",
              "      <td>591.989</td>\n",
              "      <td>620.0</td>\n",
              "      <td>/yeli_dnye1/r03_v20_s5</td>\n",
              "      <td>Kp</td>\n",
              "      <td>mm</td>\n",
              "      <td>mm</td>\n",
              "      <td>mm</td>\n",
              "    </tr>\n",
              "    <tr>\n",
              "      <th>853</th>\n",
              "      <td>yeli_dnye-3-113-151660</td>\n",
              "      <td>yeli_dnye</td>\n",
              "      <td>151.660</td>\n",
              "      <td>151.920</td>\n",
              "      <td>260.0</td>\n",
              "      <td>/yeli_dnye1/r03_v21_s1</td>\n",
              "      <td>James</td>\n",
              "      <td>nyââ</td>\n",
              "      <td>nyââ</td>\n",
              "      <td>nya_â</td>\n",
              "    </tr>\n",
              "    <tr>\n",
              "      <th>854</th>\n",
              "      <td>zaar-2-368-450762</td>\n",
              "      <td>zaar</td>\n",
              "      <td>450.762</td>\n",
              "      <td>451.085</td>\n",
              "      <td>323.0</td>\n",
              "      <td>/zaar1/SAY_BC_CONV_02</td>\n",
              "      <td>tx@SP1</td>\n",
              "      <td>m̀ː</td>\n",
              "      <td>m̀ː</td>\n",
              "      <td>m_ː</td>\n",
              "    </tr>\n",
              "    <tr>\n",
              "      <th>855</th>\n",
              "      <td>zaar-3-462-442380</td>\n",
              "      <td>zaar</td>\n",
              "      <td>442.380</td>\n",
              "      <td>442.771</td>\n",
              "      <td>391.0</td>\n",
              "      <td>/zaar1/SAY_BC_CONV_03</td>\n",
              "      <td>tx@SP2</td>\n",
              "      <td>m̀ː</td>\n",
              "      <td>m̀ː</td>\n",
              "      <td>m_ː</td>\n",
              "    </tr>\n",
              "  </tbody>\n",
              "</table>\n",
              "<p>856 rows × 10 columns</p>\n",
              "</div>"
            ],
            "text/plain": [
              "                            uid      language     begin       end  duration  \\\n",
              "0    akhoe_haikom-2-494-1312920  akhoe_haikom  1312.920  1313.280     360.0   \n",
              "1              akie-1-033-99525          akie    99.525   100.289     764.0   \n",
              "2            ambel-3-147-222600         ambel   222.600   223.085     485.0   \n",
              "3            ambel-4-470-662638         ambel   662.638   663.212     574.0   \n",
              "4            anal-01-098-184010          anal   184.010   184.379     369.0   \n",
              "..                          ...           ...       ...       ...       ...   \n",
              "851     yeli_dnye-1-457-1355836     yeli_dnye  1355.836  1356.486     650.0   \n",
              "852      yeli_dnye-2-129-591369     yeli_dnye   591.369   591.989     620.0   \n",
              "853      yeli_dnye-3-113-151660     yeli_dnye   151.660   151.920     260.0   \n",
              "854           zaar-2-368-450762          zaar   450.762   451.085     323.0   \n",
              "855           zaar-3-462-442380          zaar   442.380   442.771     391.0   \n",
              "\n",
              "                                                source  \\\n",
              "0                        /akhoe_haikom1/state_hospital   \n",
              "1    /akie1/2014-01-20Gitu4ConversationBahatiNkoiseyyo   \n",
              "2                                        /ambel1/AM064   \n",
              "3                                        /ambel1/AM067   \n",
              "4                     /anal1/anm_20160916_PO_Wolring_1   \n",
              "..                                                 ...   \n",
              "851                             /yeli_dnye1/r03_v19_s2   \n",
              "852                             /yeli_dnye1/r03_v20_s5   \n",
              "853                             /yeli_dnye1/r03_v21_s1   \n",
              "854                              /zaar1/SAY_BC_CONV_02   \n",
              "855                              /zaar1/SAY_BC_CONV_03   \n",
              "\n",
              "                   participant utterance_stripped            utterance  \\\n",
              "0                        tx@Ga                  î                    î   \n",
              "1                            B                 aá                   aá   \n",
              "2    ESD_Transcription-txt-wgo                 ii                   ii   \n",
              "3     WG_Transcription-txt-wgo                 mm                   mm   \n",
              "4                     Anal sp3                 mm                   mm   \n",
              "..                         ...                ...                  ...   \n",
              "851                          K               nyââ  [unk_utterance]nyââ   \n",
              "852                         Kp                 mm                   mm   \n",
              "853                      James               nyââ                 nyââ   \n",
              "854                     tx@SP1                m̀ː                  m̀ː   \n",
              "855                     tx@SP2                m̀ː                  m̀ː   \n",
              "\n",
              "    form_ascii  \n",
              "0           i_  \n",
              "1          aa_  \n",
              "2           ii  \n",
              "3           mm  \n",
              "4           mm  \n",
              "..         ...  \n",
              "851     nya_â  \n",
              "852         mm  \n",
              "853     nya_â  \n",
              "854        m_ː  \n",
              "855        m_ː  \n",
              "\n",
              "[856 rows x 10 columns]"
            ]
          },
          "execution_count": 38,
          "metadata": {},
          "output_type": "execute_result"
        }
      ],
      "source": [
        "#drop czech because it has separate speaker channels\n",
        "df_audio = df_audio[df_audio.language != \"czech\"]\n",
        "\n",
        "#exclude corpora without audio files\n",
        "df_audio = df_audio[df_audio.language != \"italian\"]\n",
        "df_audio = df_audio[df_audio.language != \"zacatepec_chatino\"]\n",
        "\n",
        "#drop files without audio\n",
        "\n",
        "df_audio.dropna(subset=['begin','end'], inplace=True)\n",
        "df_audio = df_audio.groupby(['source']).apply(lambda x: x.sample(1, replace=True)).reset_index(drop=True)\n",
        "\n",
        "df_audio"
      ]
    },
    {
      "attachments": {},
      "cell_type": "markdown",
      "metadata": {},
      "source": [
        "### `read_audio` function"
      ]
    },
    {
      "cell_type": "code",
      "execution_count": null,
      "metadata": {},
      "outputs": [],
      "source": [
        "def get_row_audio(df_audio, wav_loc):\n",
        "    \"\"\" load audio and grab individual turns\n",
        "    TODO: for large sparse WAV files, the audio should be loaded only for the turn\n",
        "    \"\"\"\n",
        "    \n",
        "    #print path to audio file (optional)\n",
        "    print(wav_loc)\n",
        "\n",
        "    # load audio\n",
        "    try:\n",
        "        #Three options here, comment out as needed:\n",
        "\n",
        "        #scipy wavfile\n",
        "        #rate, data = wavfile.read(wav_loc)\n",
        "        \n",
        "        #librosa\n",
        "        rate, data = librosa.load(wav_loc)\n",
        "        \n",
        "        #base python\n",
        "        #rate, data = wave.open(wav_loc)\n",
        "\n",
        "        #explore fourth option: use ffmpeg directly \n",
        "        #ffmpeg?\n",
        "\n",
        "        data = data.astype('float32')\n",
        "        \n",
        "        # get audio for each turn\n",
        "        df_audio[\"audio\"] = [\n",
        "            data[int(st * rate) : int(et * rate)].copy(deep=True)\n",
        "            for st, et in zip(df_audio.begin.values, df_audio.end.values)\n",
        "        ]\n",
        "\n",
        "        df_audio[\"rate\"] = rate\n",
        "    except Exception:\n",
        "        pass\n",
        "\n",
        "    return df_audio"
      ]
    },
    {
      "attachments": {},
      "cell_type": "markdown",
      "metadata": {},
      "source": [
        "### Loops for execution"
      ]
    },
    {
      "cell_type": "code",
      "execution_count": null,
      "metadata": {},
      "outputs": [],
      "source": [
        "#execute as for loop\n",
        "[get_row_audio(df_audio[df_audio.source == source], './Elpaco dataset'+ source +'.wav') for source in df_audio.source]"
      ]
    },
    {
      "cell_type": "code",
      "execution_count": null,
      "metadata": {},
      "outputs": [],
      "source": [
        "#execute using parallel \n",
        "\n",
        "with Parallel(n_jobs=1, verbose=verbosity) as parallel:\n",
        "    df_audios = parallel(\n",
        "        delayed(get_row_audio)(\n",
        "            df_audio[df_audio.source == source], \n",
        "            './Elpaco dataset'+ source +'.wav', #Edit path to corpus directory here\n",
        "        )\n",
        "        for source in tqdm(df_audio.source)\n",
        "    )\n",
        "df_audio = pd.concat(df_audios)\n",
        "len(df_audio)"
      ]
    },
    {
      "attachments": {},
      "cell_type": "markdown",
      "metadata": {},
      "source": [
        "### Normalize audio  (optional)"
      ]
    },
    {
      "cell_type": "code",
      "execution_count": 9,
      "metadata": {},
      "outputs": [],
      "source": [
        "# normalize audio if needed\n",
        "df_audio['audio'] = [librosa.util.normalize(i) for i in df_audio.audio.values]"
      ]
    },
    {
      "attachments": {},
      "cell_type": "markdown",
      "metadata": {},
      "source": [
        "### Plot `audio` column waveforms"
      ]
    },
    {
      "cell_type": "code",
      "execution_count": 10,
      "metadata": {},
      "outputs": [
        {
          "name": "stderr",
          "output_type": "stream",
          "text": [
            "  5%|▍         | 11/240 [00:00<00:00, 254.29it/s]\n"
          ]
        },
        {
          "data": {
            "image/png": "[encoded data removed]",
            "text/plain": [
              "<Figure size 1728x1536 with 240 Axes>"
            ]
          },
          "metadata": {
            "needs_background": "light"
          },
          "output_type": "display_data"
        }
      ],
      "source": [
        "# plot some example audio \n",
        "nrows = 20\n",
        "ncols = 12\n",
        "zoom = 2\n",
        "fig, axs = plt.subplots(ncols=ncols, nrows = nrows,figsize = (ncols*zoom, nrows+zoom/1.5))\n",
        "for i, turn in tqdm(enumerate(df_audio['audio'].values), total = nrows*ncols):\n",
        "    ax = axs.flatten()[i]\n",
        "    ax.plot(turn)\n",
        "    if i == nrows*ncols -1:\n",
        "        break"
      ]
    },
    {
      "attachments": {},
      "cell_type": "markdown",
      "metadata": {},
      "source": [
        "### Save as `csv`"
      ]
    },
    {
      "cell_type": "code",
      "execution_count": 3,
      "metadata": {},
      "outputs": [
        {
          "ename": "NameError",
          "evalue": "name 'df_audio' is not defined",
          "output_type": "error",
          "traceback": [
            "\u001b[0;31m---------------------------------------------------------------------------\u001b[0m",
            "\u001b[0;31mNameError\u001b[0m                                 Traceback (most recent call last)",
            "\u001b[1;32m/Users/u517177/3.1_Make_audio_and_spec_cols.ipynb Cell 16\u001b[0m in \u001b[0;36m<module>\u001b[0;34m\u001b[0m\n\u001b[0;32m----> <a href='vscode-notebook-cell:/Users/u517177/3.1_Make_audio_and_spec_cols.ipynb#X32sZmlsZQ%3D%3D?line=0'>1</a>\u001b[0m df_audio\u001b[39m.\u001b[39mto_csv(\u001b[39m\"\u001b[39m\u001b[39mdf_audio.csv\u001b[39m\u001b[39m\"\u001b[39m, index\u001b[39m=\u001b[39m\u001b[39mFalse\u001b[39;00m)\n\u001b[1;32m      <a href='vscode-notebook-cell:/Users/u517177/3.1_Make_audio_and_spec_cols.ipynb#X32sZmlsZQ%3D%3D?line=1'>2</a>\u001b[0m df_audio\n",
            "\u001b[0;31mNameError\u001b[0m: name 'df_audio' is not defined"
          ]
        }
      ],
      "source": [
        "df_audio.to_csv(\"df_audio.csv\", index=False)\n",
        "df_audio"
      ]
    }
  ],
  "metadata": {
    "colab": {
      "collapsed_sections": [],
      "provenance": []
    },
    "kernelspec": {
      "display_name": "Python 3 (ipykernel)",
      "language": "python",
      "name": "python3"
    },
    "language_info": {
      "name": "python",
      "version": "3.10.0"
    },
    "vscode": {
      "interpreter": {
        "hash": "46fbe6e04536e1e35bdd7bb388ca2958a28e6ed66e8c3e8ff3ca43c0ea6b4829"
      }
    }
  },
  "nbformat": 4,
  "nbformat_minor": 0
}
